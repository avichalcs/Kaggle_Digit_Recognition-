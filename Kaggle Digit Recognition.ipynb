{
 "cells": [
  {
   "cell_type": "code",
   "execution_count": 44,
   "metadata": {},
   "outputs": [],
   "source": [
    "import numpy as np\n",
    "import tensorflow as tf\n",
    "import matplotlib.pyplot as plt\n",
    "import pandas as pd\n",
    "from sklearn.model_selection import train_test_split"
   ]
  },
  {
   "cell_type": "code",
   "execution_count": 45,
   "metadata": {},
   "outputs": [],
   "source": [
    "data = pd.read_csv('train.csv')"
   ]
  },
  {
   "cell_type": "code",
   "execution_count": 46,
   "metadata": {},
   "outputs": [
    {
     "data": {
      "text/html": [
       "<div>\n",
       "<style scoped>\n",
       "    .dataframe tbody tr th:only-of-type {\n",
       "        vertical-align: middle;\n",
       "    }\n",
       "\n",
       "    .dataframe tbody tr th {\n",
       "        vertical-align: top;\n",
       "    }\n",
       "\n",
       "    .dataframe thead th {\n",
       "        text-align: right;\n",
       "    }\n",
       "</style>\n",
       "<table border=\"1\" class=\"dataframe\">\n",
       "  <thead>\n",
       "    <tr style=\"text-align: right;\">\n",
       "      <th></th>\n",
       "      <th>label</th>\n",
       "      <th>pixel0</th>\n",
       "      <th>pixel1</th>\n",
       "      <th>pixel2</th>\n",
       "      <th>pixel3</th>\n",
       "      <th>pixel4</th>\n",
       "      <th>pixel5</th>\n",
       "      <th>pixel6</th>\n",
       "      <th>pixel7</th>\n",
       "      <th>pixel8</th>\n",
       "      <th>...</th>\n",
       "      <th>pixel774</th>\n",
       "      <th>pixel775</th>\n",
       "      <th>pixel776</th>\n",
       "      <th>pixel777</th>\n",
       "      <th>pixel778</th>\n",
       "      <th>pixel779</th>\n",
       "      <th>pixel780</th>\n",
       "      <th>pixel781</th>\n",
       "      <th>pixel782</th>\n",
       "      <th>pixel783</th>\n",
       "    </tr>\n",
       "  </thead>\n",
       "  <tbody>\n",
       "    <tr>\n",
       "      <th>0</th>\n",
       "      <td>1</td>\n",
       "      <td>0</td>\n",
       "      <td>0</td>\n",
       "      <td>0</td>\n",
       "      <td>0</td>\n",
       "      <td>0</td>\n",
       "      <td>0</td>\n",
       "      <td>0</td>\n",
       "      <td>0</td>\n",
       "      <td>0</td>\n",
       "      <td>...</td>\n",
       "      <td>0</td>\n",
       "      <td>0</td>\n",
       "      <td>0</td>\n",
       "      <td>0</td>\n",
       "      <td>0</td>\n",
       "      <td>0</td>\n",
       "      <td>0</td>\n",
       "      <td>0</td>\n",
       "      <td>0</td>\n",
       "      <td>0</td>\n",
       "    </tr>\n",
       "    <tr>\n",
       "      <th>1</th>\n",
       "      <td>0</td>\n",
       "      <td>0</td>\n",
       "      <td>0</td>\n",
       "      <td>0</td>\n",
       "      <td>0</td>\n",
       "      <td>0</td>\n",
       "      <td>0</td>\n",
       "      <td>0</td>\n",
       "      <td>0</td>\n",
       "      <td>0</td>\n",
       "      <td>...</td>\n",
       "      <td>0</td>\n",
       "      <td>0</td>\n",
       "      <td>0</td>\n",
       "      <td>0</td>\n",
       "      <td>0</td>\n",
       "      <td>0</td>\n",
       "      <td>0</td>\n",
       "      <td>0</td>\n",
       "      <td>0</td>\n",
       "      <td>0</td>\n",
       "    </tr>\n",
       "    <tr>\n",
       "      <th>2</th>\n",
       "      <td>1</td>\n",
       "      <td>0</td>\n",
       "      <td>0</td>\n",
       "      <td>0</td>\n",
       "      <td>0</td>\n",
       "      <td>0</td>\n",
       "      <td>0</td>\n",
       "      <td>0</td>\n",
       "      <td>0</td>\n",
       "      <td>0</td>\n",
       "      <td>...</td>\n",
       "      <td>0</td>\n",
       "      <td>0</td>\n",
       "      <td>0</td>\n",
       "      <td>0</td>\n",
       "      <td>0</td>\n",
       "      <td>0</td>\n",
       "      <td>0</td>\n",
       "      <td>0</td>\n",
       "      <td>0</td>\n",
       "      <td>0</td>\n",
       "    </tr>\n",
       "    <tr>\n",
       "      <th>3</th>\n",
       "      <td>4</td>\n",
       "      <td>0</td>\n",
       "      <td>0</td>\n",
       "      <td>0</td>\n",
       "      <td>0</td>\n",
       "      <td>0</td>\n",
       "      <td>0</td>\n",
       "      <td>0</td>\n",
       "      <td>0</td>\n",
       "      <td>0</td>\n",
       "      <td>...</td>\n",
       "      <td>0</td>\n",
       "      <td>0</td>\n",
       "      <td>0</td>\n",
       "      <td>0</td>\n",
       "      <td>0</td>\n",
       "      <td>0</td>\n",
       "      <td>0</td>\n",
       "      <td>0</td>\n",
       "      <td>0</td>\n",
       "      <td>0</td>\n",
       "    </tr>\n",
       "    <tr>\n",
       "      <th>4</th>\n",
       "      <td>0</td>\n",
       "      <td>0</td>\n",
       "      <td>0</td>\n",
       "      <td>0</td>\n",
       "      <td>0</td>\n",
       "      <td>0</td>\n",
       "      <td>0</td>\n",
       "      <td>0</td>\n",
       "      <td>0</td>\n",
       "      <td>0</td>\n",
       "      <td>...</td>\n",
       "      <td>0</td>\n",
       "      <td>0</td>\n",
       "      <td>0</td>\n",
       "      <td>0</td>\n",
       "      <td>0</td>\n",
       "      <td>0</td>\n",
       "      <td>0</td>\n",
       "      <td>0</td>\n",
       "      <td>0</td>\n",
       "      <td>0</td>\n",
       "    </tr>\n",
       "  </tbody>\n",
       "</table>\n",
       "<p>5 rows × 785 columns</p>\n",
       "</div>"
      ],
      "text/plain": [
       "   label  pixel0  pixel1  pixel2  pixel3  pixel4  pixel5  pixel6  pixel7  \\\n",
       "0      1       0       0       0       0       0       0       0       0   \n",
       "1      0       0       0       0       0       0       0       0       0   \n",
       "2      1       0       0       0       0       0       0       0       0   \n",
       "3      4       0       0       0       0       0       0       0       0   \n",
       "4      0       0       0       0       0       0       0       0       0   \n",
       "\n",
       "   pixel8  ...  pixel774  pixel775  pixel776  pixel777  pixel778  pixel779  \\\n",
       "0       0  ...         0         0         0         0         0         0   \n",
       "1       0  ...         0         0         0         0         0         0   \n",
       "2       0  ...         0         0         0         0         0         0   \n",
       "3       0  ...         0         0         0         0         0         0   \n",
       "4       0  ...         0         0         0         0         0         0   \n",
       "\n",
       "   pixel780  pixel781  pixel782  pixel783  \n",
       "0         0         0         0         0  \n",
       "1         0         0         0         0  \n",
       "2         0         0         0         0  \n",
       "3         0         0         0         0  \n",
       "4         0         0         0         0  \n",
       "\n",
       "[5 rows x 785 columns]"
      ]
     },
     "execution_count": 46,
     "metadata": {},
     "output_type": "execute_result"
    }
   ],
   "source": [
    "data.head(5)"
   ]
  },
  {
   "cell_type": "code",
   "execution_count": 47,
   "metadata": {},
   "outputs": [
    {
     "name": "stdout",
     "output_type": "stream",
     "text": [
      "<class 'pandas.core.frame.DataFrame'>\n",
      "RangeIndex: 42000 entries, 0 to 41999\n",
      "Columns: 785 entries, label to pixel783\n",
      "dtypes: int64(785)\n",
      "memory usage: 251.5 MB\n"
     ]
    }
   ],
   "source": [
    "data.info()"
   ]
  },
  {
   "cell_type": "code",
   "execution_count": 48,
   "metadata": {},
   "outputs": [],
   "source": [
    "X=data.drop(\"label\",axis=1)\n",
    "y=data[\"label\"]"
   ]
  },
  {
   "cell_type": "code",
   "execution_count": 49,
   "metadata": {},
   "outputs": [],
   "source": [
    "X_train, X_test, y_train, y_test = train_test_split(X, y, test_size=0.25, random_state=5)"
   ]
  },
  {
   "cell_type": "code",
   "execution_count": 50,
   "metadata": {},
   "outputs": [
    {
     "name": "stderr",
     "output_type": "stream",
     "text": [
      "C:\\Users\\DELL\\Anaconda3\\envs\\venv\\lib\\site-packages\\ipykernel_launcher.py:1: FutureWarning: Method .as_matrix will be removed in a future version. Use .values instead.\n",
      "  \"\"\"Entry point for launching an IPython kernel.\n",
      "C:\\Users\\DELL\\Anaconda3\\envs\\venv\\lib\\site-packages\\ipykernel_launcher.py:2: FutureWarning: Method .as_matrix will be removed in a future version. Use .values instead.\n",
      "  \n",
      "C:\\Users\\DELL\\Anaconda3\\envs\\venv\\lib\\site-packages\\ipykernel_launcher.py:3: FutureWarning: Method .as_matrix will be removed in a future version. Use .values instead.\n",
      "  This is separate from the ipykernel package so we can avoid doing imports until\n",
      "C:\\Users\\DELL\\Anaconda3\\envs\\venv\\lib\\site-packages\\ipykernel_launcher.py:4: FutureWarning: Method .as_matrix will be removed in a future version. Use .values instead.\n",
      "  after removing the cwd from sys.path.\n"
     ]
    }
   ],
   "source": [
    "X_train= X_train.as_matrix()\n",
    "X_test=X_test.as_matrix()\n",
    "y_train=y_train.as_matrix()\n",
    "y_test=y_test.as_matrix()"
   ]
  },
  {
   "cell_type": "code",
   "execution_count": 51,
   "metadata": {},
   "outputs": [
    {
     "data": {
      "text/plain": [
       "array([[0, 0, 0, ..., 0, 0, 0],\n",
       "       [0, 0, 0, ..., 0, 0, 0],\n",
       "       [0, 0, 0, ..., 0, 0, 0],\n",
       "       ...,\n",
       "       [0, 0, 0, ..., 0, 0, 0],\n",
       "       [0, 0, 0, ..., 0, 0, 0],\n",
       "       [0, 0, 0, ..., 0, 0, 0]], dtype=int64)"
      ]
     },
     "execution_count": 51,
     "metadata": {},
     "output_type": "execute_result"
    }
   ],
   "source": [
    "X_train"
   ]
  },
  {
   "cell_type": "code",
   "execution_count": 52,
   "metadata": {},
   "outputs": [],
   "source": [
    "X_train= tf.keras.utils.normalize(X_train, axis=1)\n",
    "X_test= tf.keras.utils.normalize(X_test, axis=1)"
   ]
  },
  {
   "cell_type": "code",
   "execution_count": 53,
   "metadata": {},
   "outputs": [],
   "source": [
    "model= tf.keras.models.Sequential()\n",
    "model.add(tf.keras.layers.Flatten())\n",
    "model.add(tf.keras.layers.Dense(128, activation= tf.nn.relu))\n",
    "model.add(tf.keras.layers.Dense(128, activation= tf.nn.relu))\n",
    "model.add(tf.keras.layers.Dense(128, activation= tf.nn.relu))\n",
    "model.add(tf.keras.layers.Dense(128, activation= tf.nn.relu))\n",
    "#output Layer\n",
    "model.add(tf.keras.layers.Dense(10, activation= tf.nn.softmax))"
   ]
  },
  {
   "cell_type": "code",
   "execution_count": 54,
   "metadata": {},
   "outputs": [
    {
     "name": "stdout",
     "output_type": "stream",
     "text": [
      "Epoch 1/100\n",
      "31500/31500 [==============================] - 5s 153us/step - loss: 0.3784 - acc: 0.8806\n",
      "Epoch 2/100\n",
      "31500/31500 [==============================] - 4s 136us/step - loss: 0.1498 - acc: 0.9535\n",
      "Epoch 3/100\n",
      "31500/31500 [==============================] - 4s 139us/step - loss: 0.1058 - acc: 0.9662\n",
      "Epoch 4/100\n",
      "31500/31500 [==============================] - 4s 132us/step - loss: 0.0776 - acc: 0.9755\n",
      "Epoch 5/100\n",
      "31500/31500 [==============================] - 5s 148us/step - loss: 0.0625 - acc: 0.9804\n",
      "Epoch 6/100\n",
      "31500/31500 [==============================] - 4s 128us/step - loss: 0.0507 - acc: 0.9838\n",
      "Epoch 7/100\n",
      "31500/31500 [==============================] - 4s 124us/step - loss: 0.0419 - acc: 0.9865\n",
      "Epoch 8/100\n",
      "31500/31500 [==============================] - 4s 131us/step - loss: 0.0373 - acc: 0.9885\n",
      "Epoch 9/100\n",
      "31500/31500 [==============================] - 4s 137us/step - loss: 0.0302 - acc: 0.9906\n",
      "Epoch 10/100\n",
      "31500/31500 [==============================] - 4s 125us/step - loss: 0.0272 - acc: 0.9914\n",
      "Epoch 11/100\n",
      "31500/31500 [==============================] - 4s 125us/step - loss: 0.0262 - acc: 0.9916\n",
      "Epoch 12/100\n",
      "31500/31500 [==============================] - 5s 149us/step - loss: 0.0225 - acc: 0.9924\n",
      "Epoch 13/100\n",
      "31500/31500 [==============================] - 4s 139us/step - loss: 0.0226 - acc: 0.9927\n",
      "Epoch 14/100\n",
      "31500/31500 [==============================] - 4s 125us/step - loss: 0.0162 - acc: 0.9945\n",
      "Epoch 15/100\n",
      "31500/31500 [==============================] - 4s 124us/step - loss: 0.0205 - acc: 0.9929\n",
      "Epoch 16/100\n",
      "31500/31500 [==============================] - 4s 125us/step - loss: 0.0147 - acc: 0.9951\n",
      "Epoch 17/100\n",
      "31500/31500 [==============================] - 5s 148us/step - loss: 0.0164 - acc: 0.9947\n",
      "Epoch 18/100\n",
      "31500/31500 [==============================] - 4s 139us/step - loss: 0.0153 - acc: 0.9949\n",
      "Epoch 19/100\n",
      "31500/31500 [==============================] - 4s 131us/step - loss: 0.0119 - acc: 0.9961\n",
      "Epoch 20/100\n",
      "31500/31500 [==============================] - 5s 148us/step - loss: 0.0147 - acc: 0.9953\n",
      "Epoch 21/100\n",
      "31500/31500 [==============================] - 4s 124us/step - loss: 0.0122 - acc: 0.9958\n",
      "Epoch 22/100\n",
      "31500/31500 [==============================] - 4s 127us/step - loss: 0.0114 - acc: 0.9967\n",
      "Epoch 23/100\n",
      "31500/31500 [==============================] - 4s 126us/step - loss: 0.0118 - acc: 0.9964\n",
      "Epoch 24/100\n",
      "31500/31500 [==============================] - 4s 139us/step - loss: 0.0104 - acc: 0.9967\n",
      "Epoch 25/100\n",
      "31500/31500 [==============================] - 4s 134us/step - loss: 0.0146 - acc: 0.9948\n",
      "Epoch 26/100\n",
      "31500/31500 [==============================] - 4s 114us/step - loss: 0.0092 - acc: 0.9969\n",
      "Epoch 27/100\n",
      "31500/31500 [==============================] - 4s 112us/step - loss: 0.0071 - acc: 0.9977\n",
      "Epoch 28/100\n",
      "31500/31500 [==============================] - 4s 119us/step - loss: 0.0129 - acc: 0.9960\n",
      "Epoch 29/100\n",
      "31500/31500 [==============================] - 4s 129us/step - loss: 0.0088 - acc: 0.9975\n",
      "Epoch 30/100\n",
      "31500/31500 [==============================] - 4s 124us/step - loss: 0.0091 - acc: 0.9969\n",
      "Epoch 31/100\n",
      "31500/31500 [==============================] - 4s 136us/step - loss: 0.0085 - acc: 0.9975\n",
      "Epoch 32/100\n",
      "31500/31500 [==============================] - 4s 131us/step - loss: 0.0095 - acc: 0.9971\n",
      "Epoch 33/100\n",
      "31500/31500 [==============================] - 4s 129us/step - loss: 0.0103 - acc: 0.9969\n",
      "Epoch 34/100\n",
      "31500/31500 [==============================] - 4s 114us/step - loss: 0.0042 - acc: 0.9986\n",
      "Epoch 35/100\n",
      "31500/31500 [==============================] - 4s 121us/step - loss: 0.0082 - acc: 0.9973\n",
      "Epoch 36/100\n",
      "31500/31500 [==============================] - 4s 131us/step - loss: 0.0086 - acc: 0.9973\n",
      "Epoch 37/100\n",
      "31500/31500 [==============================] - 4s 135us/step - loss: 0.0091 - acc: 0.9971\n",
      "Epoch 38/100\n",
      "31500/31500 [==============================] - 4s 118us/step - loss: 0.0085 - acc: 0.9974\n",
      "Epoch 39/100\n",
      "31500/31500 [==============================] - 4s 114us/step - loss: 0.0067 - acc: 0.9981\n",
      "Epoch 40/100\n",
      "31500/31500 [==============================] - 4s 132us/step - loss: 0.0056 - acc: 0.9982\n",
      "Epoch 41/100\n",
      "31500/31500 [==============================] - 4s 136us/step - loss: 0.0116 - acc: 0.9967\n",
      "Epoch 42/100\n",
      "31500/31500 [==============================] - 4s 120us/step - loss: 0.0057 - acc: 0.9986\n",
      "Epoch 43/100\n",
      "31500/31500 [==============================] - 4s 117us/step - loss: 0.0060 - acc: 0.9982\n",
      "Epoch 44/100\n",
      "31500/31500 [==============================] - 4s 119us/step - loss: 0.0064 - acc: 0.9983\n",
      "Epoch 45/100\n",
      "31500/31500 [==============================] - 4s 127us/step - loss: 0.0100 - acc: 0.9970\n",
      "Epoch 46/100\n",
      "31500/31500 [==============================] - 4s 116us/step - loss: 0.0042 - acc: 0.9989\n",
      "Epoch 47/100\n",
      "31500/31500 [==============================] - 4s 120us/step - loss: 0.0063 - acc: 0.9985\n",
      "Epoch 48/100\n",
      "31500/31500 [==============================] - 4s 134us/step - loss: 0.0072 - acc: 0.9979 0s - loss: 0.0073 - acc: 0.99\n",
      "Epoch 49/100\n",
      "31500/31500 [==============================] - 5s 145us/step - loss: 0.0074 - acc: 0.9980\n",
      "Epoch 50/100\n",
      "31500/31500 [==============================] - 4s 125us/step - loss: 0.0042 - acc: 0.9987\n",
      "Epoch 51/100\n",
      "31500/31500 [==============================] - 4s 140us/step - loss: 0.0071 - acc: 0.9981\n",
      "Epoch 52/100\n",
      "31500/31500 [==============================] - 4s 127us/step - loss: 0.0033 - acc: 0.9991\n",
      "Epoch 53/100\n",
      "31500/31500 [==============================] - 4s 132us/step - loss: 0.0071 - acc: 0.9981\n",
      "Epoch 54/100\n",
      "31500/31500 [==============================] - 4s 117us/step - loss: 0.0061 - acc: 0.9986\n",
      "Epoch 55/100\n",
      "31500/31500 [==============================] - 4s 118us/step - loss: 0.0055 - acc: 0.9985\n",
      "Epoch 56/100\n",
      "31500/31500 [==============================] - 4s 130us/step - loss: 0.0059 - acc: 0.9982\n",
      "Epoch 57/100\n",
      "31500/31500 [==============================] - 4s 134us/step - loss: 0.0064 - acc: 0.9981\n",
      "Epoch 58/100\n",
      "31500/31500 [==============================] - 4s 119us/step - loss: 0.0049 - acc: 0.9985\n",
      "Epoch 59/100\n",
      "31500/31500 [==============================] - 4s 119us/step - loss: 0.0076 - acc: 0.9976\n",
      "Epoch 60/100\n",
      "31500/31500 [==============================] - 4s 120us/step - loss: 0.0025 - acc: 0.9992\n",
      "Epoch 61/100\n",
      "31500/31500 [==============================] - 4s 133us/step - loss: 0.0050 - acc: 0.9984\n",
      "Epoch 62/100\n",
      "31500/31500 [==============================] - 4s 142us/step - loss: 0.0044 - acc: 0.9988\n",
      "Epoch 63/100\n",
      "31500/31500 [==============================] - 4s 142us/step - loss: 0.0060 - acc: 0.9983\n",
      "Epoch 64/100\n",
      "31500/31500 [==============================] - 4s 140us/step - loss: 0.0044 - acc: 0.9988\n",
      "Epoch 65/100\n",
      "31500/31500 [==============================] - 4s 140us/step - loss: 0.0051 - acc: 0.9986\n",
      "Epoch 66/100\n",
      "31500/31500 [==============================] - 4s 133us/step - loss: 0.0020 - acc: 0.9996\n",
      "Epoch 67/100\n",
      "31500/31500 [==============================] - 4s 137us/step - loss: 0.0043 - acc: 0.9993\n",
      "Epoch 68/100\n",
      "31500/31500 [==============================] - 5s 150us/step - loss: 0.0119 - acc: 0.9970\n",
      "Epoch 69/100\n",
      "31500/31500 [==============================] - 4s 140us/step - loss: 0.0046 - acc: 0.9988\n",
      "Epoch 70/100\n",
      "31500/31500 [==============================] - 5s 145us/step - loss: 0.0051 - acc: 0.9986\n",
      "Epoch 71/100\n",
      "31500/31500 [==============================] - 4s 128us/step - loss: 0.0033 - acc: 0.9989\n",
      "Epoch 72/100\n",
      "31500/31500 [==============================] - 4s 142us/step - loss: 0.0042 - acc: 0.9992\n",
      "Epoch 73/100\n",
      "31500/31500 [==============================] - 4s 129us/step - loss: 0.0040 - acc: 0.9989\n",
      "Epoch 74/100\n",
      "31500/31500 [==============================] - 4s 135us/step - loss: 0.0029 - acc: 0.9993\n",
      "Epoch 75/100\n",
      "31500/31500 [==============================] - 4s 140us/step - loss: 0.0085 - acc: 0.9983\n",
      "Epoch 76/100\n",
      "31500/31500 [==============================] - 5s 150us/step - loss: 0.0045 - acc: 0.9989\n",
      "Epoch 77/100\n",
      "31500/31500 [==============================] - 4s 139us/step - loss: 0.0035 - acc: 0.9990\n",
      "Epoch 78/100\n",
      "31500/31500 [==============================] - 4s 137us/step - loss: 0.0053 - acc: 0.9988\n",
      "Epoch 79/100\n",
      "31500/31500 [==============================] - 5s 152us/step - loss: 0.0076 - acc: 0.9983\n",
      "Epoch 80/100\n"
     ]
    },
    {
     "name": "stdout",
     "output_type": "stream",
     "text": [
      "31500/31500 [==============================] - 4s 141us/step - loss: 0.0054 - acc: 0.9986\n",
      "Epoch 81/100\n",
      "31500/31500 [==============================] - 4s 128us/step - loss: 0.0018 - acc: 0.9996\n",
      "Epoch 82/100\n",
      "31500/31500 [==============================] - 4s 122us/step - loss: 5.4944e-04 - acc: 1.0000\n",
      "Epoch 83/100\n",
      "31500/31500 [==============================] - 4s 137us/step - loss: 0.0069 - acc: 0.9982\n",
      "Epoch 84/100\n",
      "31500/31500 [==============================] - 4s 128us/step - loss: 0.0058 - acc: 0.9986\n",
      "Epoch 85/100\n",
      "31500/31500 [==============================] - 4s 125us/step - loss: 0.0030 - acc: 0.9992\n",
      "Epoch 86/100\n",
      "31500/31500 [==============================] - 4s 122us/step - loss: 0.0048 - acc: 0.9989\n",
      "Epoch 87/100\n",
      "31500/31500 [==============================] - 4s 138us/step - loss: 0.0042 - acc: 0.9990\n",
      "Epoch 88/100\n",
      "31500/31500 [==============================] - 4s 125us/step - loss: 0.0044 - acc: 0.9988\n",
      "Epoch 89/100\n",
      "31500/31500 [==============================] - 4s 124us/step - loss: 0.0013 - acc: 0.9997\n",
      "Epoch 90/100\n",
      "31500/31500 [==============================] - 4s 133us/step - loss: 0.0086 - acc: 0.9982\n",
      "Epoch 91/100\n",
      "31500/31500 [==============================] - 4s 137us/step - loss: 0.0035 - acc: 0.9990\n",
      "Epoch 92/100\n",
      "31500/31500 [==============================] - 4s 126us/step - loss: 0.0037 - acc: 0.9991\n",
      "Epoch 93/100\n",
      "31500/31500 [==============================] - 4s 123us/step - loss: 0.0022 - acc: 0.9996\n",
      "Epoch 94/100\n",
      "31500/31500 [==============================] - 4s 126us/step - loss: 0.0053 - acc: 0.9988\n",
      "Epoch 95/100\n",
      "31500/31500 [==============================] - 4s 138us/step - loss: 0.0025 - acc: 0.9993\n",
      "Epoch 96/100\n",
      "31500/31500 [==============================] - 4s 125us/step - loss: 0.0050 - acc: 0.9988\n",
      "Epoch 97/100\n",
      "31500/31500 [==============================] - 4s 127us/step - loss: 0.0052 - acc: 0.9985\n",
      "Epoch 98/100\n",
      "31500/31500 [==============================] - 4s 126us/step - loss: 0.0069 - acc: 0.9986\n",
      "Epoch 99/100\n",
      "31500/31500 [==============================] - 4s 134us/step - loss: 0.0018 - acc: 0.9997\n",
      "Epoch 100/100\n",
      "31500/31500 [==============================] - 4s 124us/step - loss: 0.0013 - acc: 0.9996\n"
     ]
    },
    {
     "data": {
      "text/plain": [
       "<tensorflow.python.keras.callbacks.History at 0x21a2013af28>"
      ]
     },
     "execution_count": 54,
     "metadata": {},
     "output_type": "execute_result"
    }
   ],
   "source": [
    "model.compile(optimizer='adam',\n",
    "             loss='sparse_categorical_crossentropy',\n",
    "             metrics=['accuracy'])\n",
    "model.fit(X_train, y_train, epochs=100)"
   ]
  },
  {
   "cell_type": "code",
   "execution_count": 55,
   "metadata": {},
   "outputs": [
    {
     "name": "stdout",
     "output_type": "stream",
     "text": [
      "10500/10500 [==============================] - 1s 62us/step\n",
      "0.1946952308945552 0.9763809523809523\n"
     ]
    }
   ],
   "source": [
    "val_loss, val_acc= model.evaluate(X_test, y_test)\n",
    "print(val_loss, val_acc)"
   ]
  },
  {
   "cell_type": "code",
   "execution_count": 56,
   "metadata": {},
   "outputs": [],
   "source": [
    "prediction= model.predict([X_test])"
   ]
  },
  {
   "cell_type": "code",
   "execution_count": 57,
   "metadata": {},
   "outputs": [
    {
     "name": "stdout",
     "output_type": "stream",
     "text": [
      "3\n"
     ]
    }
   ],
   "source": [
    "print(np.argmax(prediction[0]))"
   ]
  },
  {
   "cell_type": "code",
   "execution_count": 58,
   "metadata": {},
   "outputs": [],
   "source": [
    "data1 = pd.read_csv('test.csv')"
   ]
  },
  {
   "cell_type": "code",
   "execution_count": 59,
   "metadata": {},
   "outputs": [
    {
     "data": {
      "text/html": [
       "<div>\n",
       "<style scoped>\n",
       "    .dataframe tbody tr th:only-of-type {\n",
       "        vertical-align: middle;\n",
       "    }\n",
       "\n",
       "    .dataframe tbody tr th {\n",
       "        vertical-align: top;\n",
       "    }\n",
       "\n",
       "    .dataframe thead th {\n",
       "        text-align: right;\n",
       "    }\n",
       "</style>\n",
       "<table border=\"1\" class=\"dataframe\">\n",
       "  <thead>\n",
       "    <tr style=\"text-align: right;\">\n",
       "      <th></th>\n",
       "      <th>pixel0</th>\n",
       "      <th>pixel1</th>\n",
       "      <th>pixel2</th>\n",
       "      <th>pixel3</th>\n",
       "      <th>pixel4</th>\n",
       "      <th>pixel5</th>\n",
       "      <th>pixel6</th>\n",
       "      <th>pixel7</th>\n",
       "      <th>pixel8</th>\n",
       "      <th>pixel9</th>\n",
       "      <th>...</th>\n",
       "      <th>pixel774</th>\n",
       "      <th>pixel775</th>\n",
       "      <th>pixel776</th>\n",
       "      <th>pixel777</th>\n",
       "      <th>pixel778</th>\n",
       "      <th>pixel779</th>\n",
       "      <th>pixel780</th>\n",
       "      <th>pixel781</th>\n",
       "      <th>pixel782</th>\n",
       "      <th>pixel783</th>\n",
       "    </tr>\n",
       "  </thead>\n",
       "  <tbody>\n",
       "    <tr>\n",
       "      <th>0</th>\n",
       "      <td>0</td>\n",
       "      <td>0</td>\n",
       "      <td>0</td>\n",
       "      <td>0</td>\n",
       "      <td>0</td>\n",
       "      <td>0</td>\n",
       "      <td>0</td>\n",
       "      <td>0</td>\n",
       "      <td>0</td>\n",
       "      <td>0</td>\n",
       "      <td>...</td>\n",
       "      <td>0</td>\n",
       "      <td>0</td>\n",
       "      <td>0</td>\n",
       "      <td>0</td>\n",
       "      <td>0</td>\n",
       "      <td>0</td>\n",
       "      <td>0</td>\n",
       "      <td>0</td>\n",
       "      <td>0</td>\n",
       "      <td>0</td>\n",
       "    </tr>\n",
       "    <tr>\n",
       "      <th>1</th>\n",
       "      <td>0</td>\n",
       "      <td>0</td>\n",
       "      <td>0</td>\n",
       "      <td>0</td>\n",
       "      <td>0</td>\n",
       "      <td>0</td>\n",
       "      <td>0</td>\n",
       "      <td>0</td>\n",
       "      <td>0</td>\n",
       "      <td>0</td>\n",
       "      <td>...</td>\n",
       "      <td>0</td>\n",
       "      <td>0</td>\n",
       "      <td>0</td>\n",
       "      <td>0</td>\n",
       "      <td>0</td>\n",
       "      <td>0</td>\n",
       "      <td>0</td>\n",
       "      <td>0</td>\n",
       "      <td>0</td>\n",
       "      <td>0</td>\n",
       "    </tr>\n",
       "    <tr>\n",
       "      <th>2</th>\n",
       "      <td>0</td>\n",
       "      <td>0</td>\n",
       "      <td>0</td>\n",
       "      <td>0</td>\n",
       "      <td>0</td>\n",
       "      <td>0</td>\n",
       "      <td>0</td>\n",
       "      <td>0</td>\n",
       "      <td>0</td>\n",
       "      <td>0</td>\n",
       "      <td>...</td>\n",
       "      <td>0</td>\n",
       "      <td>0</td>\n",
       "      <td>0</td>\n",
       "      <td>0</td>\n",
       "      <td>0</td>\n",
       "      <td>0</td>\n",
       "      <td>0</td>\n",
       "      <td>0</td>\n",
       "      <td>0</td>\n",
       "      <td>0</td>\n",
       "    </tr>\n",
       "    <tr>\n",
       "      <th>3</th>\n",
       "      <td>0</td>\n",
       "      <td>0</td>\n",
       "      <td>0</td>\n",
       "      <td>0</td>\n",
       "      <td>0</td>\n",
       "      <td>0</td>\n",
       "      <td>0</td>\n",
       "      <td>0</td>\n",
       "      <td>0</td>\n",
       "      <td>0</td>\n",
       "      <td>...</td>\n",
       "      <td>0</td>\n",
       "      <td>0</td>\n",
       "      <td>0</td>\n",
       "      <td>0</td>\n",
       "      <td>0</td>\n",
       "      <td>0</td>\n",
       "      <td>0</td>\n",
       "      <td>0</td>\n",
       "      <td>0</td>\n",
       "      <td>0</td>\n",
       "    </tr>\n",
       "    <tr>\n",
       "      <th>4</th>\n",
       "      <td>0</td>\n",
       "      <td>0</td>\n",
       "      <td>0</td>\n",
       "      <td>0</td>\n",
       "      <td>0</td>\n",
       "      <td>0</td>\n",
       "      <td>0</td>\n",
       "      <td>0</td>\n",
       "      <td>0</td>\n",
       "      <td>0</td>\n",
       "      <td>...</td>\n",
       "      <td>0</td>\n",
       "      <td>0</td>\n",
       "      <td>0</td>\n",
       "      <td>0</td>\n",
       "      <td>0</td>\n",
       "      <td>0</td>\n",
       "      <td>0</td>\n",
       "      <td>0</td>\n",
       "      <td>0</td>\n",
       "      <td>0</td>\n",
       "    </tr>\n",
       "  </tbody>\n",
       "</table>\n",
       "<p>5 rows × 784 columns</p>\n",
       "</div>"
      ],
      "text/plain": [
       "   pixel0  pixel1  pixel2  pixel3  pixel4  pixel5  pixel6  pixel7  pixel8  \\\n",
       "0       0       0       0       0       0       0       0       0       0   \n",
       "1       0       0       0       0       0       0       0       0       0   \n",
       "2       0       0       0       0       0       0       0       0       0   \n",
       "3       0       0       0       0       0       0       0       0       0   \n",
       "4       0       0       0       0       0       0       0       0       0   \n",
       "\n",
       "   pixel9  ...  pixel774  pixel775  pixel776  pixel777  pixel778  pixel779  \\\n",
       "0       0  ...         0         0         0         0         0         0   \n",
       "1       0  ...         0         0         0         0         0         0   \n",
       "2       0  ...         0         0         0         0         0         0   \n",
       "3       0  ...         0         0         0         0         0         0   \n",
       "4       0  ...         0         0         0         0         0         0   \n",
       "\n",
       "   pixel780  pixel781  pixel782  pixel783  \n",
       "0         0         0         0         0  \n",
       "1         0         0         0         0  \n",
       "2         0         0         0         0  \n",
       "3         0         0         0         0  \n",
       "4         0         0         0         0  \n",
       "\n",
       "[5 rows x 784 columns]"
      ]
     },
     "execution_count": 59,
     "metadata": {},
     "output_type": "execute_result"
    }
   ],
   "source": [
    "data1.head(5)"
   ]
  },
  {
   "cell_type": "code",
   "execution_count": 60,
   "metadata": {},
   "outputs": [
    {
     "name": "stdout",
     "output_type": "stream",
     "text": [
      "<class 'pandas.core.frame.DataFrame'>\n",
      "RangeIndex: 28000 entries, 0 to 27999\n",
      "Columns: 784 entries, pixel0 to pixel783\n",
      "dtypes: int64(784)\n",
      "memory usage: 167.5 MB\n"
     ]
    }
   ],
   "source": [
    "data1.info()"
   ]
  },
  {
   "cell_type": "code",
   "execution_count": 61,
   "metadata": {},
   "outputs": [
    {
     "name": "stderr",
     "output_type": "stream",
     "text": [
      "C:\\Users\\DELL\\Anaconda3\\envs\\venv\\lib\\site-packages\\ipykernel_launcher.py:1: FutureWarning: Method .as_matrix will be removed in a future version. Use .values instead.\n",
      "  \"\"\"Entry point for launching an IPython kernel.\n"
     ]
    }
   ],
   "source": [
    "data2=data1.as_matrix()"
   ]
  },
  {
   "cell_type": "code",
   "execution_count": 62,
   "metadata": {},
   "outputs": [
    {
     "data": {
      "text/plain": [
       "array([[0, 0, 0, ..., 0, 0, 0],\n",
       "       [0, 0, 0, ..., 0, 0, 0],\n",
       "       [0, 0, 0, ..., 0, 0, 0],\n",
       "       ...,\n",
       "       [0, 0, 0, ..., 0, 0, 0],\n",
       "       [0, 0, 0, ..., 0, 0, 0],\n",
       "       [0, 0, 0, ..., 0, 0, 0]], dtype=int64)"
      ]
     },
     "execution_count": 62,
     "metadata": {},
     "output_type": "execute_result"
    }
   ],
   "source": [
    "data2"
   ]
  },
  {
   "cell_type": "code",
   "execution_count": 63,
   "metadata": {},
   "outputs": [],
   "source": [
    "prediction1=model.predict(data2)"
   ]
  },
  {
   "cell_type": "code",
   "execution_count": 64,
   "metadata": {},
   "outputs": [],
   "source": [
    "l=[]\n",
    "r=range(28000)\n",
    "for i in r:\n",
    "    l.append(np.argmax(prediction1[i]))"
   ]
  },
  {
   "cell_type": "code",
   "execution_count": 65,
   "metadata": {},
   "outputs": [],
   "source": [
    "l1=[]\n",
    "r1=range(1,28001)\n",
    "for i in r1:\n",
    "    l1.append(i)"
   ]
  },
  {
   "cell_type": "code",
   "execution_count": 66,
   "metadata": {},
   "outputs": [
    {
     "name": "stdout",
     "output_type": "stream",
     "text": [
      "[2, 0, 9, 9, 3, 7, 0, 3, 0, 3, 5, 7, 4, 0, 4, 3, 3, 1, 9, 0, 9, 1, 1, 5, 7, 4, 2, 7, 4, 7, 7, 5, 4, 2, 6, 2, 5, 5, 1, 6, 7, 7, 4, 9, 8, 7, 8, 2, 6, 7, 6, 8, 8, 3, 8, 2, 1, 2, 2, 0, 4, 1, 7, 0, 0, 0, 1, 9, 0, 1, 6, 5, 8, 8, 2, 8, 8, 9, 2, 3, 5, 4, 1, 0, 9, 2, 4, 3, 6, 7, 2, 0, 6, 6, 1, 4, 3, 9, 7, 4, 0, 9, 2, 0, 7, 3, 0, 5, 0, 8, 0, 0, 4, 7, 1, 7, 1, 1, 3, 3, 3, 7, 2, 8, 6, 3, 8, 7, 8, 4, 3, 5, 6, 0, 0, 0, 3, 1, 3, 6, 7, 3, 4, 5, 5, 8, 7, 7, 2, 8, 4, 3, 5, 6, 5, 3, 7, 5, 7, 8, 3, 0, 4, 5, 1, 2, 7, 6, 3, 0, 2, 7, 8, 6, 1, 3, 7, 4, 1, 2, 4, 8, 5, 2, 4, 9, 2, 1, 6, 0, 6, 1, 4, 9, 6, 0, 9, 7, 6, 9, 1, 9, 0, 9, 9, 0, 8, 4, 6, 2, 0, 9, 3, 6, 3, 2, 1, 6, 3, 4, 2, 3, 1, 2, 2, 0, 4, 6, 1, 0, 0, 4, 9, 1, 7, 3, 2, 3, 8, 6, 8, 6, 2, 8, 5, 5, 4, 8, 3, 5, 9, 7, 1, 3, 8, 4, 5, 1, 4, 5, 6, 3, 3, 5, 7, 0, 6, 8, 3, 1, 6, 0, 6, 3, 9, 9, 1, 5, 8, 4, 0, 9, 2, 0, 5, 3, 7, 1, 9, 9, 5, 7, 7, 9, 9, 6, 3, 0, 3, 3, 6, 9, 8, 2, 6, 3, 7, 1, 4, 5, 8, 5, 9, 0, 0, 3, 8, 4, 1, 8, 4, 1, 1, 9, 8, 4, 5, 1, 5, 3, 6, 3, 1, 3, 0, 9, 0, 0, 6, 0, 6, 3, 1, 8, 6, 0, 6, 5, 2, 2, 6, 7, 7, 2, 5, 8, 8, 9, 2, 7, 8, 6, 3, 8, 4, 2, 3, 8, 1, 6, 4, 8, 7, 9, 7, 6, 9, 5, 3, 7, 6, 5, 5, 9, 2, 6, 2, 1, 3, 7, 1, 7, 9, 9, 6, 1, 1, 1, 7, 3, 9, 7, 6, 1, 1, 1, 9, 3, 8, 5, 5, 0, 4, 1, 2, 3, 1, 1, 3, 5, 9, 6, 6, 5, 3, 1, 4, 7, 7, 7, 4, 8, 5, 2, 6, 1, 3, 9, 5, 0, 8, 4, 7, 4, 4, 4, 1, 5, 3, 9, 5, 7, 6, 9, 5, 9, 2, 3, 5, 6, 6, 7, 5, 0, 5, 1, 7, 4, 4, 1, 1, 4, 9, 5, 6, 0, 1, 3, 1, 0, 4, 8, 1, 2, 7, 9, 4, 8, 3, 7, 7, 4, 2, 4, 6, 7, 5, 3, 2, 0, 6, 5, 9, 4, 1, 8, 3, 3, 0, 2, 7, 5, 8, 7, 5, 3, 5, 7, 4, 3, 6, 9, 0, 7, 7, 1, 0, 1, 1, 7, 0, 5, 3, 8, 3, 5, 6, 5, 4, 3, 0, 2, 8, 2, 0, 3, 0, 9, 2, 1, 1, 3, 0, 5, 0, 0, 7, 5, 6, 2, 0, 3, 8, 1, 6, 5, 4, 1, 1, 4, 6, 5, 3, 6, 0, 4, 8, 2, 4, 2, 5, 1, 7, 6, 9, 1, 7, 3, 8, 0, 8, 8, 4, 5, 3, 6, 6, 6, 0, 3, 5, 1, 7, 1, 6, 2, 8, 5, 6, 4, 7, 4, 3, 3, 2, 4, 7, 0, 0, 9, 8, 5, 9, 4, 0, 8, 1, 3, 6, 3, 6, 1, 8, 6, 1, 4, 7, 7, 8, 3, 0, 9, 9, 6, 7, 7, 4, 8, 1, 8, 4, 8, 0, 2, 8, 2, 4, 3, 3, 7, 2, 3, 4, 0, 4, 8, 1, 3, 3, 6, 3, 9, 4, 3, 8, 7, 7, 2, 6, 0, 6, 9, 8, 1, 1, 3, 4, 6, 9, 9, 2, 6, 0, 1, 8, 4, 3, 9, 8, 8, 4, 0, 5, 0, 6, 0, 4, 4, 6, 5, 1, 8, 1, 5, 3, 6, 2, 3, 7, 8, 9, 3, 1, 0, 1, 0, 6, 4, 7, 5, 7, 1, 3, 2, 7, 7, 1, 5, 1, 5, 4, 6, 3, 4, 3, 9, 0, 7, 8, 6, 4, 9, 4, 4, 1, 4, 7, 1, 1, 8, 7, 0, 4, 0, 4, 0, 0, 5, 1, 8, 6, 5, 0, 1, 5, 3, 4, 6, 3, 1, 1, 6, 9, 8, 3, 5, 5, 4, 8, 8, 5, 0, 4, 0, 4, 3, 1, 6, 9, 9, 1, 1, 3, 3, 1, 4, 9, 6, 9, 1, 5, 4, 3, 3, 2, 4, 0, 9, 7, 4, 3, 0, 5, 0, 1, 9, 0, 4, 5, 2, 8, 0, 5, 9, 3, 9, 6, 1, 5, 5, 1, 9, 0, 8, 4, 6, 7, 2, 8, 5, 8, 9, 7, 7, 2, 8, 1, 3, 4, 5, 0, 4, 1, 4, 2, 3, 6, 9, 2, 3, 4, 5, 4, 2, 3, 3, 1, 1, 0, 1, 4, 9, 1, 1, 2, 7, 1, 5, 4, 9, 1, 7, 6, 0, 4, 2, 9, 4, 1, 1, 5, 3, 5, 7, 9, 7, 8, 3, 2, 7, 2, 0, 9, 7, 1, 6, 4, 6, 1, 5, 7, 3, 5, 9, 4, 7, 9, 6, 6, 3, 3, 2, 1, 4, 5, 3, 7, 7, 9, 5, 6, 0, 6, 1, 0, 9, 3, 2, 9, 2, 6, 7, 5, 2, 3, 2, 8, 3, 0, 2, 7, 9, 4, 0, 9, 5, 1, 8, 8, 5, 3, 2, 9, 6, 7, 0, 8, 0, 7, 4, 5, 8, 7, 9, 7, 7, 0, 5, 3, 2, 1, 9, 0, 6, 8, 3, 6, 2, 2, 9, 0, 7, 0, 7, 1, 3, 4, 6, 3, 9, 2, 6, 3, 7, 3, 7, 2, 3, 4, 9, 5, 9, 4, 6, 2, 6, 1, 5, 5, 1, 9, 1, 8, 9, 4, 5, 9, 5, 2, 0, 1, 6, 1, 9, 2, 2, 7, 7, 6, 6, 2, 6, 3, 5, 9, 1, 1, 3, 6, 3, 0, 0, 6, 0, 9, 4, 7, 0, 5, 9, 8, 8, 7, 6, 9, 2, 6, 1, 2, 9, 3, 0, 2, 2, 7, 7, 6, 6, 3, 1, 3, 1, 0, 1, 7, 6, 3, 3, 3, 3, 4, 2, 9, 1, 8, 2, 0, 6, 4, 6, 7, 2, 0, 1, 0, 5, 2, 6, 4, 9, 8, 5, 6, 1, 6, 3, 8, 6, 1, 2, 0, 8, 8, 0, 3, 6, 8, 7, 7, 7, 6, 0, 2, 1, 2, 8, 4, 5, 5, 3, 8, 7, 8, 4, 7, 4, 4, 1, 8, 0, 9, 1, 9, 0, 6, 4, 1, 2, 4, 5, 8, 2, 9, 1, 8, 2, 3, 7, 2, 5, 3, 8, 9, 9, 0, 7, 0, 3, 3, 9, 7, 3, 3, 8, 8, 9, 3, 2, 5, 4, 4, 8, 3, 0, 1, 7, 9, 6, 4, 0, 6, 7, 8, 4, 5, 9, 6, 7, 8, 2, 0, 0, 5, 0, 5, 9, 9, 9, 9, 5, 4, 3, 0, 5, 4, 6, 9, 5, 4, 9, 9, 5, 7, 8, 2, 4, 7, 4, 3, 8, 6, 6, 0, 4, 5, 5, 7, 6, 5, 5, 1, 9, 4, 2, 2, 6, 9, 9, 8, 1, 1, 3, 1, 0, 0, 4, 0, 2, 7, 6, 1, 4, 7, 0, 7, 1, 0, 3, 3, 1, 9, 8, 6, 6, 5, 9, 8, 6, 3, 6, 6, 6, 1, 1, 4, 0, 7, 4, 0, 4, 6, 7, 9, 5, 9, 6, 2, 4, 7, 5, 9, 8, 5, 1, 8, 0, 3, 6, 8, 1, 3, 0, 3, 1, 9, 1, 4, 5, 8, 2, 2, 9, 1, 3, 3, 0, 5, 6, 1, 8, 3, 6, 7, 2, 3, 2, 9, 2, 1, 5, 9, 8, 7, 3, 8, 4, 6, 8, 2, 1, 6, 7, 6, 1, 1, 0, 5, 0, 9, 1, 7, 4, 0, 8, 7, 5, 9, 8, 8, 7, 5, 4, 3, 7, 9, 4, 7, 2, 7, 4, 1, 5, 8, 2, 3, 5, 9, 8, 4, 5, 9, 1, 5, 1, 7, 3, 7, 5, 1, 7, 9, 2, 3, 6, 8, 8, 5, 0, 8, 8, 4, 7, 1, 9, 6, 8, 9, 4, 9, 9, 6, 3, 2, 7, 4, 8, 0, 4, 9, 0, 8, 8, 7, 0, 9, 0, 8, 7, 0, 8, 5, 3, 3, 6, 2, 5, 3, 1, 1, 3, 1, 0, 6, 5, 9, 3, 2, 9, 4, 8, 8, 7, 6, 4, 4, 0, 7, 8, 9, 6, 7, 3, 8, 9, 2, 0, 8, 6, 0, 3, 0, 1, 8, 3, 8, 6, 0, 1, 2, 0, 7, 3, 6, 9, 2, 3, 1, 7, 3, 9, 5, 4, 9, 1, 1, 5, 8, 3, 2, 5, 4, 1, 8, 4, 0, 7, 0, 1, 0, 0, 7, 1, 3, 5, 5, 8, 9, 7, 9, 4, 6, 0, 1, 9, 2, 7, 4, 8, 5, 0, 5, 9, 8, 7, 5, 0, 1, 9, 9, 6, 3, 0, 8, 7, 5, 2, 6, 1, 7, 2, 3, 8, 8, 1, 4, 6, 2, 4, 0, 2, 3, 6, 3, 3, 2, 9, 1, 3, 2, 5, 8, 7, 7, 6, 2, 0, 3, 2, 8, 1, 5, 4, 3, 3, 1, 9, 3, 2, 1, 1, 3, 6, 1, 3, 4, 4, 9, 6, 6, 7, 5, 9, 6, 6, 1, 0, 7, 8, 8, 8, 3, 7, 7, 7, 1, 4, 6, 1, 0, 0, 1, 7, 7, 8, 8, 9, 8, 2, 4, 8, 1, 3, 6, 1, 3, 3, 6, 6, 5, 8, 8, 5, 4, 5, 9, 8, 2, 0, 1, 3, 3, 5, 6, 3, 3, 6, 4, 3, 3, 7, 7, 5, 6, 5, 1, 7, 4, 5, 9, 0, 2, 2, 0, 9, 5, 3, 0, 8, 0, 7, 7, 1, 5, 4, 4, 9, 7, 0, 3, 1, 3, 3, 6, 2, 4, 2, 1, 6, 5, 9, 3, 4, 1, 9, 0, 0, 3, 5, 1, 0, 0, 5, 3, 9, 4, 9, 1, 0, 0, 5, 7, 1, 6, 8, 3, 7, 0, 3, 8, 2, 8, 6, 7, 9, 1, 8, 4, 5, 3, 1, 3, 2, 2, 5, 3, 8, 8, 2, 7, 4, 1, 5, 7, 0, 6, 6, 2, 3, 2, 2, 9, 1, 9, 6, 9, 2, 2, 6, 0, 4, 0, 0, 0, 0, 3, 0, 4, 3, 6, 7, 8, 6, 0, 5, 1, 8, 5, 6, 0, 2, 7, 6, 1, 3, 9, 9, 3, 0, 3, 5, 9, 6, 8, 3, 1, 0, 0, 9, 0, 6, 6, 2, 4, 3, 0, 2, 7, 1, 5, 8, 3, 8, 8, 4, 7, 4, 3, 6, 5, 7, 3, 1, 6, 7, 1, 3, 1, 8, 8, 1, 5, 2, 2, 6, 9, 0, 2, 7, 2, 7, 4, 4, 5, 3, 0, 4, 5, 1, 5, 6, 9, 7, 6, 5, 0, 6, 1, 3, 8, 4, 0, 0, 0, 3, 7, 9, 8, 6, 9, 9, 1, 5, 0, 9, 1, 7, 9, 0, 8, 9, 0, 6, 9, 2, 4, 2, 1, 9, 4, 4, 8, 8, 6, 5, 6, 1, 3, 5, 9, 3, 9, 7, 0, 7, 6, 5, 8, 6, 6, 0, 7, 4, 5, 1, 7, 7, 8, 5, 6, 5, 5, 3, 6, 8, 3, 6, 1, 9, 8, 0, 9, 4, 4, 5, 8, 4, 0, 9, 3, 0, 9, 4, 6, 4, 0, 2, 0, 1, 7, 5, 9, 8, 7, 8, 6, 2, 0, 0, 3, 7, 8, 6, 1, 6, 7, 2, 5, 9, 7, 1, 1, 4, 1, 6, 6, 7, 0, 8, 4, 7, 0, 9, 4, 6, 2, 6, 3, 3, 2, 9, 6, 5, 2, 5, 8, 5, 6, 3, 2, 2, 7, 7, 3, 4, 9, 2, 8, 0, 2, 4, 0, 9, 4, 5, 8, 8, 9, 3, 3, 5, 9, 0, 7, 0, 5, 5, 2, 9, 1, 9, 9, 4, 6, 4, 6, 8, 9, 0, 0, 8, 2, 1, 6, 8, 2, 3, 0, 3, 5, 5, 7, 3, 3, 3, 9, 6, 2, 3, 4, 3, 7, 7, 9, 2, 6, 6, 9, 5, 8, 0, 6, 7, 4, 2, 2, 4, 0, 6, 2, 1, 4, 2, 6, 7, 5, 6, 7, 0, 6, 8, 2, 4, 4, 5, 7, 6, 8, 1, 4, 6, 6, 1, 5, 2, 5, 8, 0, 1, 1, 4, 7, 0, 3, 6, 5, 0, 5, 3, 0, 8, 9, 1, 5, 7, 3, 3, 6, 1, 6, 5, 9, 5, 2, 0, 7, 4, 0, 2, 7, 4, 4, 6, 0, 4, 6, 8, 9, 1, 7, 4, 7, 9, 4, 7, 4, 8, 5, 9, 5, 5, 1, 9, 3, 2, 4, 0, 2, 6, 8, 8, 0, 4, 3, 1, 2, 6, 7, 3, 7, 7, 1, 5, 5, 4, 0, 1, 2, 2, 1, 1, 4, 2, 2, 1, 1, 7, 9, 4, 8, 0, 8, 9, 3, 8, 9, 4, 6, 3, 3, 3, 9, 4, 3, 6, 9, 1, 4, 6, 0, 6, 0, 5, 9, 0, 1, 8, 0, 4, 2, 0, 1, 5, 3, 4, 5, 7, 6, 6, 8, 7, 9, 0, 3, 2, 6, 0, 5, 5, 9, 6, 5, 4, 2, 1, 4, 3, 6, 4, 8, 7, 2, 8, 0, 3, 4, 5, 3, 3, 1, 6, 4, 5, 9, 7, 0, 1, 2, 5, 3, 2, 6, 4, 2, 5, 9, 3, 4, 6, 3, 5, 8, 2, 8, 9, 8, 7, 5, 3, 9, 9, 4, 6, 7, 3, 6, 9, 9, 6, 6, 0, 9, 4, 9, 7, 4, 1, 7, 2, 8, 8, 0, 5, 6, 7, 1, 8, 0, 8, 0, 3, 4, 2, 4, 2, 1, 1, 6, 7, 6, 7, 5, 3, 6, 6, 3, 4, 8, 7, 8, 8, 7, 0, 0, 7, 7, 1, 6, 0, 3, 9, 9, 3, 5, 1, 9, 0, 1, 9, 5, 9, 9, 0, 1, 9, 0, 9, 8, 4, 2, 2, 5, 5, 0, 0, 5, 9, 6, 3, 4, 2, 5, 0, 0, 3, 3, 3, 5, 9, 0, 1, 4, 5, 9, 2, 2, 3, 3, 4, 4, 1, 0, 8, 3, 5, 5, 6, 9, 1, 9, 8, 7, 0, 3, 3, 8, 7, 0, 3, 3, 9, 7, 3, 1, 9, 6, 3, 3, 4, 0, 2, 1, 3, 9, 5, 1, 7, 9, 7, 9, 6, 1, 5, 6, 6, 9, 0, 4, 2, 2, 2, 3, 7, 6, 4, 1, 4, 2, 4, 1, 0, 2, 2, 1, 0, 2, 7, 2, 6, 8, 2, 0, 2, 0, 0, 5, 0, 3, 3, 0, 6, 6, 4, 1, 5, 9, 2, 4, 2, 3, 1, 1, 3, 0, 1, 1, 5, 0, 2, 4, 7, 3, 6, 8, 7, 8, 8, 7, 2, 6, 9, 4, 5, 7, 1, 3, 6, 0, 9, 9, 4, 6, 8, 6, 4, 1, 0, 3, 3, 0, 1, 8, 9, 1, 5, 7, 7, 3, 4, 6, 2, 9, 3, 0, 7, 2, 8, 8, 2, 4, 0, 2, 9, 8, 3, 9, 9, 0, 1, 6, 7, 7, 5, 4, 6, 8, 7, 6, 6, 3, 3, 5, 2, 1, 6, 4, 1, 9, 9, 6, 4, 6, 4, 5, 9, 4, 9, 9, 3, 2, 5, 1, 6, 2, 2, 7, 2, 3, 4, 7, 6, 1, 0, 1, 9, 0, 7, 4, 9, 0, 9, 1, 4, 0, 9, 6, 7, 4, 3, 7, 0, 2, 8, 5, 2, 4, 2, 4, 5, 2, 6, 6, 8, 8, 6, 7, 4, 1, 6, 8, 3, 2, 5, 4, 0, 9, 0, 1, 4, 9, 7, 7, 3, 9, 5, 3, 1, 9, 2, 6, 7, 7, 1, 0, 5, 1, 6, 8, 8, 6, 7, 3, 7, 2, 8, 5, 5, 0, 8, 1, 5, 6, 7, 9, 9, 1, 6, 9, 8, 5, 3, 7, 7, 8, 7, 4, 7, 0, 4, 0, 5, 4, 3, 1, 9, 6, 3, 0, 0, 2, 8, 9, 9, 1, 1, 8, 1, 3, 2, 3, 1, 0, 3, 8, 5, 0, 7, 2, 0, 6, 1, 8, 1, 1, 8, 2, 2, 6, 1, 7, 9, 7, 6, 7, 5, 1, 9, 6, 3, 7, 6, 4, 4, 4, 0, 8, 2, 0, 8, 6, 4, 8, 1, 9, 2, 9, 5, 1, 5, 1, 1, 4, 7, 0, 1, 2, 4, 6, 1, 9, 2, 9, 2, 9, 2, 6, 6, 5, 5, 5, 8, 3, 6, 1, 1, 6, 1, 2, 1, 9, 4, 7, 6, 7, 1, 0, 6, 4, 6, 5, 3, 3, 4, 0, 1, 1, 6, 0, 5, 1, 2, 7, 6, 4, 3, 9, 0, 4, 0, 3, 1, 4, 9, 2, 1, 7, 0, 9, 6, 8, 5, 8, 6, 0, 8, 7, 9, 9, 3, 1, 3, 2, 3, 1, 1, 2, 0, 0, 7, 2, 8, 1, 6, 0, 6, 7, 6, 3, 6, 7, 2, 2, 8, 9, 9, 4, 2, 7, 7, 3, 5, 1, 7, 7, 3, 7, 8, 4, 2, 5, 6, 1, 9, 7, 7, 7, 8, 9, 9, 7, 8, 9, 5, 7, 9, 5, 0, 7, 6, 1, 5, 5, 2, 7, 3, 5, 6, 9, 5, 8, 2, 2, 2, 9, 7, 9, 5, 1, 1, 1, 4, 5, 6, 1, 7, 0, 7, 9, 2, 7, 2, 3, 1, 5, 7, 1, 5, 1, 6, 0, 2, 6, 9, 9, 7, 9, 8, 7, 7, 7, 5, 6, 2, 9, 8, 3, 9, 7, 3, 1, 3, 4, 8, 2, 0, 2, 6, 3, 1, 0, 9, 9, 1, 6, 8, 8, 6, 6, 2, 3, 6, 1, 6, 6, 2, 0, 6, 0, 8, 1, 2, 8, 6, 4, 8, 5, 0, 4, 0, 0, 9, 7, 9, 2, 9, 2, 8, 5, 3, 5, 8, 7, 9, 5, 7, 3, 0, 2, 8, 0, 5, 9, 5, 9, 9, 3, 9, 2, 2, 3, 3, 7, 4, 5, 8, 5, 8, 6, 3, 3, 1, 2, 6, 8, 5, 5, 2, 7, 4, 1, 9, 3, 6, 8, 8, 2, 5, 8, 3, 9, 1, 6, 9, 6, 7, 5, 8, 3, 2, 8, 6, 7, 5, 1, 2, 6, 9, 3, 8, 8, 3, 9, 4, 8, 7, 6, 9, 5, 3, 0, 9, 9, 6, 8, 7, 9, 1, 2, 3, 2, 1, 5, 2, 9, 4, 4, 4, 3, 0, 0, 3, 1, 3, 1, 1, 0, 5, 6, 2, 7, 6, 0, 4, 4, 7, 0, 7, 0, 8, 7, 1, 3, 7, 8, 9, 0, 9, 0, 0, 1, 8, 8, 7, 4, 8, 3, 5, 9, 0, 3, 6, 3, 6, 5, 0, 6, 2, 6, 9, 3, 0, 9, 4, 5, 7, 7, 4, 2, 3, 9, 2, 8, 8, 0, 1, 9, 4, 2, 2, 1, 8, 2, 7, 3, 5, 1, 3, 0, 2, 2, 1, 7, 9, 1, 8, 5, 1, 6, 9, 7, 1, 8, 9, 9, 2, 0, 6, 1, 5, 2, 0, 9, 2, 5, 5, 3, 4, 0, 1, 0, 9, 4, 0, 4, 3, 7, 8, 0, 4, 0, 2, 4, 8, 2, 1, 5, 2, 5, 8, 5, 6, 1, 4, 8, 6, 2, 1, 3, 9, 8, 3, 7, 8, 7, 8, 2, 1, 5, 6, 4, 7, 5, 5, 4, 0, 8, 1, 6, 0, 3, 3, 7, 8, 8, 4, 3, 4, 3, 2, 1, 7, 0, 9, 4, 2, 8, 6, 8, 5, 2, 8, 4, 8, 1, 4, 3, 7, 1, 2, 1, 5, 3, 5, 7, 2, 4, 7, 6, 3, 1, 2, 8, 6, 8, 2, 6, 2, 0, 1, 1, 0, 6, 3, 9, 7, 3, 1, 9, 4, 6, 9, 7, 1, 7, 8, 1, 3, 5, 1, 2, 7, 6, 6, 5, 0, 4, 5, 9, 6, 3, 9, 1, 3, 4, 1, 3, 4, 0, 1, 8, 0, 2, 9, 2, 7, 7, 9, 1, 4, 7, 3, 3, 9, 9, 1, 3, 7, 8, 4, 9, 7, 9, 7, 1, 5, 4, 0, 0, 0, 5, 5, 8, 3, 0, 4, 1, 2, 8, 1, 0, 8, 8, 3, 4, 6, 9, 3, 2, 7, 2, 6, 8, 1, 0, 1, 8, 1, 3, 7, 4, 9, 1, 3, 5, 0, 3, 6, 4, 8, 6, 1, 2, 9, 6, 6, 6, 1, 9, 0, 3, 9, 8, 4, 6, 3, 6, 8, 9, 9, 5, 1, 8, 0, 2, 0, 8, 9, 5, 2, 0, 1, 6, 9, 2, 8, 1, 8, 3, 8, 7, 1, 6, 9, 9, 5, 7, 4, 6, 4, 9, 6, 0, 0, 4, 3, 5, 7, 1, 7, 1, 9, 2, 1, 3, 1, 9, 1, 8, 5, 8, 7, 9, 3, 2, 3, 6, 1, 7, 5, 2, 2, 6, 3, 7, 0, 5, 6, 7, 9, 6, 8, 6, 0, 9, 5, 9, 4, 1, 9, 5, 0, 7, 6, 2, 5, 5, 6, 6, 0, 4, 3, 8, 4, 3, 5, 0, 2, 6, 5, 0, 2, 6, 0, 6, 0, 5, 3, 6, 1, 9, 3, 8, 4, 3, 3, 2, 6, 4, 4, 0, 6, 1, 2, 0, 3, 5, 5, 0, 4, 1, 1, 3, 3, 9, 3, 3, 6, 4, 9, 0, 6, 9, 7, 9, 8, 5, 7, 9, 1, 4, 6, 8, 6, 8, 4, 9, 7, 1, 6, 8, 6, 7, 9, 4, 2, 0, 9, 9, 9, 1, 6, 6, 8, 0, 8, 3, 7, 7, 6, 7, 0, 1, 6, 5, 4, 5, 6, 2, 5, 3, 9, 6, 1, 3, 9, 6, 9, 7, 0, 6, 2, 7, 6, 0, 0, 3, 8, 1, 2, 9, 3, 0, 6, 1, 3, 9, 8, 6, 5, 1, 3, 6, 7, 1, 3, 1, 8, 1, 7, 3, 7, 9, 5, 2, 4, 9, 6, 2, 6, 6, 0, 8, 1, 7, 7, 1, 9, 0, 1, 4, 9, 1, 7, 3, 1, 6, 2, 2, 7, 2, 4, 1, 5, 6, 1, 3, 3, 2, 2, 9, 1, 9, 4, 8, 5, 5, 6, 3, 8, 1, 3, 9, 5, 6, 7, 5, 3, 3, 7, 7, 1, 8, 0, 6, 3, 9, 3, 3, 6, 0, 2, 0, 1, 0, 1, 1, 3, 1, 2, 9, 0, 3, 8, 8, 0, 5, 9, 8, 3, 3, 1, 3, 6, 5, 2, 7, 7, 9, 8, 5, 7, 1, 7, 4, 3, 9, 4, 4, 3, 2, 0, 0, 0, 3, 1, 1, 4, 3, 4, 2, 2, 2, 8, 4, 7, 4, 0, 4, 9, 1, 0, 7, 1, 2, 1, 6, 2, 4, 0, 4, 6, 0, 5, 1, 4, 1, 6, 2, 9, 7, 3, 4, 3, 5, 0, 1, 4, 8, 6, 2, 1, 1, 7, 3, 2, 9, 2, 2, 5, 2, 1, 0, 2, 5, 0, 0, 0, 4, 2, 7, 3, 0, 2, 1, 9, 0, 8, 5, 3, 8, 2, 2, 0, 2, 7, 2, 4, 0, 3, 0, 2, 2, 8, 0, 9, 2, 3, 0, 2, 4, 8, 7, 1, 4, 2, 2, 1, 6, 7, 6, 8, 3, 3, 6, 7, 3, 9, 1, 2, 8, 5, 0, 1, 0, 9, 7, 9, 0, 8, 5, 1, 4, 7, 6, 4, 8, 1, 2, 2, 6, 4, 2, 9, 8, 2, 6, 5, 8, 3, 1, 7, 4, 6, 0, 1, 3, 8, 1, 4, 0, 8, 6, 6, 1, 6, 2, 3, 9, 1, 5, 6, 6, 1, 4, 0, 3, 6, 0, 5, 6, 8, 9, 4, 7, 7, 7, 8, 8, 7, 5, 2, 7, 8, 1, 1, 9, 5, 4, 1, 0, 1, 3, 2, 3, 6, 3, 3, 8, 2, 7, 1, 7, 7, 0, 0, 3, 0, 0, 2, 0, 0, 7, 1, 7, 8, 6, 6, 7, 1, 6, 6, 3, 4, 9, 1, 3, 4, 0, 4, 9, 2, 8, 6, 2, 7, 4, 7, 5, 0, 3, 7, 5, 6, 6, 9, 0, 3, 5, 2, 8, 9, 8, 2, 2, 9, 7, 1, 7, 7, 2, 7, 3, 2, 2, 8, 4, 0, 2, 2, 8, 1, 1, 2, 2, 2, 3, 0, 1, 6, 3, 9, 4, 3, 9, 7, 9, 0, 7, 3, 5, 2, 3, 0, 1, 9, 9, 7, 9, 2, 7, 4, 7, 0, 6, 5, 1, 9, 5, 2, 7, 2, 2, 5, 6, 3, 5, 8, 2, 3, 3, 1, 4, 7, 3, 8, 4, 5, 7, 4, 1, 9, 0, 4, 8, 0, 6, 5, 6, 5, 2, 0, 3, 3, 1, 6, 1, 4, 1, 1, 1, 1, 3, 7, 1, 0, 4, 2, 9, 3, 5, 9, 5, 5, 2, 5, 0, 8, 0, 4, 2, 4, 3, 8, 7, 9, 4, 0, 1, 4, 9, 1, 4, 3, 2, 0, 8, 4, 1, 0, 9, 3, 2, 4, 6, 9, 0, 6, 1, 1, 7, 4, 7, 8, 7, 3, 7, 0, 1, 8, 4, 2, 5, 4, 8, 9, 1, 0, 2, 8, 7, 8, 4, 4, 7, 6, 9, 4, 1, 7, 8, 8, 3, 4, 2, 4, 1, 8, 7, 8, 7, 4, 9, 4, 7, 3, 6, 9, 1, 3, 1, 0, 1, 8, 1, 6, 4, 3, 3, 6, 5, 5, 1, 1, 9, 2, 3, 7, 9, 9, 2, 9, 8, 3, 4, 5, 1, 4, 9, 6, 1, 3, 5, 6, 9, 6, 5, 3, 5, 4, 5, 0, 2, 6, 8, 9, 9, 9, 6, 6, 7, 5, 8, 2, 0, 9, 5, 0, 1, 9, 7, 2, 3, 3, 0, 4, 9, 3, 1, 3, 9, 0, 3, 8, 4, 9, 4, 6, 8, 9, 6, 9, 0, 8, 6, 5, 0, 4, 8, 6, 0, 0, 9, 1, 4, 2, 5, 6, 3, 8, 8, 8, 8, 2, 4, 2, 7, 6, 4, 7, 8, 6, 9, 8, 6, 3, 5, 4, 3, 9, 9, 3, 0, 8, 2, 9, 1, 6, 9, 1, 0, 1, 8, 7, 6, 5, 5, 4, 1, 7, 3, 9, 1, 1, 2, 3, 9, 0, 7, 2, 2, 4, 1, 7, 7, 7, 8, 3, 5, 1, 6, 2, 1, 0, 8, 7, 2, 5, 1, 1, 8, 6, 9, 6, 6, 9, 8, 1, 7, 4, 9, 1, 6, 7, 8, 0, 7, 6, 1, 6, 8, 1, 3, 9, 0, 7, 5, 3, 2, 7, 0, 8, 1, 4, 0, 8, 7, 0, 6, 5, 1, 7, 0, 1, 6, 6, 1, 4, 8, 6, 8, 9, 5, 1, 0, 2, 2, 0, 7, 8, 3, 5, 1, 8, 3, 7, 6, 9, 8, 4, 9, 1, 0, 3, 3, 5, 9, 2, 7, 6, 3, 3, 8, 0, 0, 9, 7, 5, 5, 0, 3, 0, 7, 2, 1, 0, 7, 1, 5, 7, 0, 2, 5, 4, 2, 6, 1, 3, 1, 1, 3, 6, 6, 8, 4, 2, 3, 0, 1, 4, 4, 1, 8, 8, 9, 7, 6, 2, 5, 1, 9, 2, 5, 9, 1, 4, 3, 9, 4, 6, 9, 8, 5, 0, 8, 4, 7, 0, 0, 8, 0, 4, 7, 0, 2, 2, 7, 9, 6, 9, 5, 6, 1, 1, 1, 4, 8, 7, 9, 6, 2, 2, 2, 8, 5, 7, 1, 1, 1, 2, 9, 1, 8, 1, 3, 2, 1, 0, 6, 4, 7, 6, 5, 9, 1, 2, 8, 8, 4, 4, 3, 7, 1, 7, 9, 2, 8, 8, 6, 1, 3, 4, 5, 6, 8, 7, 0, 0, 1, 5, 4, 5, 5, 7, 3, 2, 0, 9, 9, 4, 9, 5, 0, 3, 6, 3, 3, 1, 7, 6, 0, 0, 2, 7, 7, 1, 8, 7, 4, 5, 0, 1, 9, 7, 4, 5, 0, 9, 8, 6, 3, 3, 1, 6, 8, 8, 0, 9, 9, 1, 1, 3, 7, 2, 0, 3, 0, 4, 9, 9, 8, 8, 0, 9, 0, 1, 6, 1, 2, 0, 2, 5, 7, 0, 6, 9, 8, 2, 2, 5, 3, 6, 4, 3, 2, 5, 9, 3, 5, 2, 9, 5, 4, 1, 7, 2, 5, 3, 9, 7, 2, 4, 0, 8, 7, 8, 7, 8, 6, 6, 6, 3, 2, 6, 7, 0, 6, 0, 2, 2, 3, 0, 0, 3, 3, 4, 1, 1, 4, 3, 3, 0, 0, 3, 2, 4, 1, 5, 9, 2, 4, 9, 5, 8, 9, 9, 9, 1, 1, 0, 0, 9, 0, 8, 2, 0, 9, 8, 6, 2, 3, 2, 0, 6, 3, 8, 1, 9, 2, 0, 4, 2, 8, 9, 4, 3, 6, 0, 2, 0, 6, 5, 3, 4, 1, 2, 2, 9, 9, 4, 3, 2, 1, 9, 1, 6, 1, 0, 3, 4, 0, 1, 9, 4, 0, 0, 4, 8, 1, 9, 2, 3, 3, 4, 3, 7, 0, 7, 9, 7, 4, 5, 9, 7, 7, 0, 4, 2, 2, 1, 8, 5, 0, 4, 9, 8, 8, 2, 4, 1, 4, 1, 4, 1, 0, 9, 9, 5, 6, 4, 9, 1, 2, 6, 0, 3, 0, 2, 3, 0, 4, 0, 1, 0, 8, 4, 9, 3, 7, 1, 4, 1, 7, 6, 0, 7, 7, 1, 5, 0, 3, 6, 0, 2, 8, 5, 8, 5, 7, 7, 2, 9, 6, 7, 8, 8, 8, 7, 3, 1, 7, 3, 1, 8, 0, 1, 0, 4, 3, 7, 2, 9, 7, 9, 3, 6, 2, 3, 4, 1, 3, 0, 9, 9, 2, 6, 4, 0, 0, 7, 5, 1, 8, 3, 8, 1, 6, 5, 8, 9, 2, 2, 0, 7, 1, 6, 7, 1, 6, 8, 4, 3, 5, 9, 1, 3, 5, 3, 1, 9, 2, 5, 8, 6, 3, 6, 0, 9, 2, 5, 1, 3, 7, 4, 4, 4, 8, 0, 6, 3, 1, 0, 4, 3, 6, 1, 7, 6, 2, 7, 1, 7, 0, 6, 9, 6, 5, 1, 3, 6, 8, 1, 9, 0, 6, 6, 9, 3, 6, 8, 2, 4, 0, 6, 1, 8, 5, 1, 4, 0, 9, 9, 9, 4, 8, 4, 1, 6, 4, 9, 1, 8, 9, 2, 3, 4, 6, 1, 0, 1, 6, 7, 9, 0, 0, 8, 1, 4, 2, 5, 2, 8, 4, 6, 9, 7, 1, 5, 3, 5, 4, 9, 3, 3, 5, 3, 0, 0, 5, 9, 2, 5, 3, 7, 6, 5, 9, 6, 5, 0, 2, 1, 3, 8, 5, 7, 7, 0, 7, 7, 1, 5, 6, 7, 0, 4, 3, 0, 0, 0, 0, 7, 6, 8, 8, 6, 7, 1, 3, 1, 0, 3, 3, 5, 1, 8, 6, 1, 7, 6, 3, 6, 6, 8, 3, 8, 5, 1, 5, 2, 6, 5, 1, 5, 8, 3, 5, 5, 3, 2, 3, 8, 5, 8, 6, 7, 0, 3, 8, 8, 4, 2, 6, 4, 5, 8, 3, 0, 5, 1, 1, 3, 0, 9, 6, 7, 8, 2, 5, 3, 6, 2, 0, 6, 5, 1, 2, 9, 7, 0, 2, 5, 5, 6, 1, 4, 1, 3, 1, 5, 5, 0, 1, 9, 3, 9, 5, 0, 7, 9, 8, 3, 0, 1, 3, 5, 8, 1, 8, 3, 7, 0, 9, 6, 4, 8, 3, 0, 6, 0, 4, 5, 8, 2, 1, 5, 4, 0, 1, 4, 1, 7, 3, 9, 2, 9, 1, 2, 1, 7, 6, 6, 1, 5, 9, 8, 9, 0, 2, 3, 1, 7, 6, 1, 5, 2, 7, 3, 2, 5, 9, 2, 4, 0, 5, 1, 5, 9, 1, 0, 9, 4, 5, 4, 8, 7, 1, 3, 3, 2, 4, 1, 1, 8, 0, 3, 2, 8, 9, 0, 9, 7, 0, 9, 9, 2, 7, 6, 1, 7, 1, 6, 0, 2, 9, 9, 9, 4, 8, 2, 4, 0, 9, 3, 8, 9, 4, 2, 0, 3, 3, 0, 3, 9, 4, 8, 5, 5, 6, 9, 6, 8, 4, 7, 6, 7, 2, 9, 4, 2, 1, 0, 8, 1, 3, 6, 0, 1, 9, 9, 6, 5, 5, 0, 7, 1, 3, 6, 7, 3, 3, 4, 8, 9, 7, 9, 1, 2, 9, 5, 7, 4, 3, 9, 3, 9, 5, 0, 7, 9, 2, 2, 1, 8, 3, 2, 7, 8, 7, 1, 2, 8, 7, 4, 8, 0, 9, 4, 0, 0, 3, 3, 4, 2, 0, 7, 6, 3, 2, 7, 4, 1, 2, 7, 4, 8, 2, 3, 2, 5, 8, 0, 8, 7, 9, 7, 1, 3, 5, 4, 2, 4, 7, 9, 9, 6, 4, 5, 4, 9, 1, 9, 6, 5, 6, 2, 8, 6, 8, 8, 8, 9, 6, 8, 8, 6, 4, 0, 2, 7, 1, 3, 8, 9, 8, 7, 7, 7, 8, 0, 7, 9, 5, 3, 3, 7, 4, 6, 4, 7, 2, 9, 6, 4, 0, 4, 6, 8, 8, 4, 9, 4, 4, 3, 6, 9, 0, 4, 1, 8, 5, 7, 8, 5, 2, 8, 8, 7, 0, 5, 0, 7, 2, 3, 4, 7, 8, 1, 5, 5, 3, 5, 2, 5, 0, 5, 6, 4, 7, 4, 1, 1, 9, 1, 9, 9, 4, 8, 4, 3, 7, 6, 2, 0, 1, 8, 9, 6, 7, 4, 5, 7, 5, 3, 1, 6, 0, 3, 2, 4, 5, 1, 8, 1, 1, 8, 5, 8, 5, 8, 5, 2, 7, 0, 1, 5, 1, 9, 0, 9, 9, 2, 0, 7, 3, 1, 3, 4, 7, 8, 0, 1, 2, 9, 3, 1, 6, 2, 0, 5, 0, 1, 6, 1, 9, 7, 7, 8, 6, 6, 4, 0, 7, 1, 0, 1, 3, 4, 9, 0, 9, 4, 5, 1, 6, 9, 4, 6, 6, 6, 1, 1, 3, 5, 8, 2, 4, 8, 8, 9, 8, 1, 1, 1, 8, 5, 5, 6, 5, 2, 2, 8, 7, 9, 8, 1, 9, 9, 0, 6, 6, 2, 3, 8, 3, 0, 0, 5, 0, 9, 2, 1, 3, 3, 3, 8, 8, 9, 9, 9, 5, 6, 7, 1, 7, 2, 9, 1, 6, 3, 5, 0, 7, 7, 6, 5, 1, 8, 1, 3, 4, 5, 8, 2, 4, 2, 8, 0, 4, 5, 1, 9, 7, 4, 2, 8, 8, 5, 8, 6, 8, 7, 4, 9, 7, 4, 4, 2, 6, 9, 1, 9, 8, 0, 6, 8, 3, 3, 6, 4, 6, 6, 8, 1, 7, 4, 3, 7, 2, 8, 5, 1, 2, 6, 8, 0, 0, 1, 7, 8, 4, 9, 6, 0, 7, 3, 9, 9, 2, 7, 4, 2, 0, 5, 2, 6, 4, 1, 7, 3, 0, 4, 8, 1, 6, 1, 4, 7, 2, 1, 0, 3, 3, 9, 0, 9, 6, 6, 0, 2, 7, 3, 0, 8, 8, 8, 5, 3, 5, 0, 8, 0, 7, 3, 3, 2, 5, 1, 1, 6, 5, 4, 7, 2, 2, 9, 0, 8, 8, 0, 5, 0, 8, 0, 4, 1, 6, 7, 7, 8, 5, 0, 2, 6, 4, 6, 8, 9, 6, 6, 4, 9, 4, 3, 7, 6, 3, 1, 7, 6, 1, 4, 9, 0, 6, 6, 3, 2, 0, 8, 4, 3, 8, 8, 1, 3, 3, 0, 6, 6, 8, 6, 2, 3, 3, 4, 2, 0, 6, 0, 2, 1, 9, 6, 6, 1, 7, 7, 0, 2, 9, 4, 1, 5, 0, 7, 5, 8, 5, 6, 1, 7, 0, 6, 6, 5, 9, 3, 6, 4, 2, 1, 1, 7, 8, 5, 9, 3, 3, 7, 6, 1, 5, 2, 1, 2, 5, 7, 0, 5, 2, 6, 6, 9, 1, 0, 5, 5, 2, 4, 6, 3, 0, 9, 4, 9, 7, 7, 0, 0, 4, 0, 9, 2, 7, 1, 1, 2, 1, 1, 6, 3, 2, 5, 8, 1, 8, 2, 0, 3, 8, 4, 1, 6, 8, 5, 8, 4, 3, 5, 8, 6, 7, 1, 6, 1, 9, 8, 4, 3, 9, 3, 1, 7, 8, 8, 3, 1, 7, 8, 6, 5, 4, 6, 0, 9, 3, 0, 0, 6, 2, 6, 7, 5, 1, 0, 0, 0, 9, 3, 8, 0, 4, 5, 9, 4, 2, 3, 2, 7, 2, 0, 2, 6, 2, 2, 8, 8, 8, 5, 7, 2, 2, 6, 2, 0, 2, 2, 1, 4, 3, 4, 1, 9, 7, 0, 3, 6, 5, 1, 8, 2, 5, 3, 9, 0, 6, 6, 9, 2, 1, 0, 4, 8, 4, 5, 7, 9, 2, 2, 2, 1, 1, 4, 4, 7, 8, 6, 8, 6, 5, 5, 8, 1, 8, 2, 9, 1, 9, 7, 2, 4, 4, 4, 1, 9, 3, 5, 5, 5, 5, 5, 2, 7, 0, 0, 1, 3, 5, 3, 0, 0, 0, 3, 1, 4, 0, 2, 6, 9, 7, 6, 9, 6, 6, 2, 5, 2, 2, 4, 1, 9, 2, 7, 2, 5, 9, 4, 6, 2, 7, 6, 8, 9, 1, 8, 8, 0, 2, 4, 8, 8, 1, 7, 1, 9, 9, 2, 1, 5, 5, 2, 7, 6, 3, 0, 3, 0, 6, 6, 3, 0, 0, 3, 6, 8, 8, 0, 8, 6, 4, 5, 8, 1, 5, 0, 6, 6, 9, 5, 1, 6, 4, 3, 0, 7, 2, 5, 5, 8, 7, 5, 6, 9, 0, 1, 9, 2, 9, 1, 2, 4, 8, 7, 6, 2, 8, 0, 4, 1, 8, 2, 1, 3, 4, 1, 7, 7, 2, 9, 3, 8, 6, 3, 2, 2, 6, 3, 5, 7, 1, 1, 1, 7, 7, 8, 2, 9, 7, 3, 1, 5, 6, 6, 4, 4, 1, 9, 0, 8, 4, 7, 4, 6, 2, 3, 8, 6, 7, 4, 2, 5, 9, 0, 0, 0, 8, 6, 5, 2, 3, 0, 4, 8, 5, 1, 8, 6, 7, 6, 1, 4, 0, 1, 6, 1, 4, 4, 6, 1, 1, 4, 1, 5, 7, 5, 4, 2, 5, 1, 0, 6, 7, 1, 1, 4, 4, 0, 5, 6, 0, 8, 2, 7, 4, 9, 9, 0, 2, 2, 7, 3, 0, 3, 1, 0, 1, 1, 2, 8, 3, 6, 8, 6, 2, 0, 2, 9, 7, 3, 3, 8, 5, 0, 6, 6, 5, 8, 3, 2, 7, 3, 5, 7, 7, 5, 8, 1, 1, 6, 0, 5, 7, 5, 9, 5, 0, 4, 3, 5, 2, 3, 5, 4, 5, 1, 1, 9, 4, 8, 3, 7, 5, 0, 4, 4, 7, 8, 4, 8, 1, 1, 0, 5, 6, 7, 9, 5, 6, 7, 0, 6, 0, 2, 1, 7, 7, 0, 3, 2, 8, 7, 2, 1, 3, 9, 9, 0, 7, 6, 1, 3, 7, 2, 3, 6, 4, 1, 1, 7, 4, 4, 5, 3, 2, 8, 9, 6, 6, 5, 4, 0, 6, 7, 3, 5, 2, 8, 1, 9, 0, 5, 3, 3, 9, 2, 9, 1, 7, 4, 5, 0, 5, 1, 9, 1, 1, 9, 9, 4, 6, 6, 1, 4, 5, 4, 8, 7, 6, 1, 1, 2, 4, 6, 2, 9, 9, 5, 3, 6, 4, 8, 3, 8, 2, 2, 1, 5, 8, 7, 6, 2, 8, 0, 7, 2, 5, 5, 6, 4, 8, 7, 3, 8, 2, 1, 3, 9, 1, 0, 4, 0, 6, 5, 5, 0, 0, 6, 7, 7, 1, 8, 7, 5, 6, 6, 8, 1, 2, 9, 8, 0, 5, 9, 1, 1, 7, 4, 6, 9, 3, 0, 0, 7, 8, 0, 8, 8, 0, 8, 8, 1, 1, 4, 0, 9, 0, 9, 5, 3, 0, 1, 7, 1, 1, 4, 4, 0, 4, 1, 7, 1, 5, 5, 4, 8, 6, 8, 3, 3, 1, 1, 8, 0, 9, 8, 2, 7, 2, 9, 3, 8, 5, 4, 8, 2, 8, 3, 2, 6, 3, 9, 1, 1, 2, 5, 9, 1, 7, 2, 7, 9, 1, 2, 9, 7, 5, 5, 5, 7, 4, 3, 5, 2, 7, 8, 0, 3, 1, 4, 8, 2, 3, 1, 8, 2, 4, 7, 7, 7, 3, 3, 2, 9, 2, 7, 6, 1, 9, 9, 2, 3, 2, 5, 8, 1, 6, 3, 0, 9, 1, 2, 6, 3, 5, 8, 4, 2, 6, 1, 6, 1, 0, 4, 9, 0, 1, 4, 1, 2, 1, 6, 0, 7, 6, 1, 0, 0, 1, 8, 3, 0, 6, 7, 0, 3, 2, 0, 1, 7, 8, 4, 4, 6, 1, 6, 2, 3, 0, 3, 9, 9, 8, 7, 5, 8, 0, 1, 0, 0, 0, 5, 6, 2, 7, 5, 3, 8, 8, 1, 9, 2, 3, 4, 0, 5, 3, 8, 3, 6, 8, 9, 3, 4, 8, 9, 4, 3, 2, 9, 2, 3, 7, 3, 7, 7, 7, 0, 4, 9, 5, 2, 3, 6, 6, 7, 9, 3, 9, 7, 1, 4, 9, 0, 5, 9, 8, 0, 0, 2, 9, 2, 3, 9, 2, 4, 9, 2, 1, 9, 7, 6, 9, 1, 9, 6, 4, 7, 7, 7, 2, 7, 6, 2, 9, 6, 6, 7, 3, 9, 8, 3, 0, 9, 2, 8, 0, 3, 1, 9, 3, 2, 8, 9, 4, 4, 1, 0, 4, 1, 9, 7, 4, 5, 4, 3, 8, 5, 7, 0, 1, 4, 1, 8, 1, 6, 6, 9, 4, 8, 8, 1, 2, 2, 7, 8, 0, 2, 0, 4, 4, 3, 8, 1, 7, 6, 5, 4, 6, 0, 2, 2, 1, 5, 7, 2, 4, 6, 4, 4, 9, 2, 2, 7, 6, 1, 7, 1, 2, 3, 9, 7, 5, 1, 7, 4, 2, 1, 5, 7, 3, 5, 7, 6, 2, 8, 7, 2, 8, 9, 9, 2, 9, 2, 4, 4, 1, 6, 0, 6, 8, 6, 5, 6, 9, 8, 1, 2, 2, 5, 0, 9, 4, 1, 9, 7, 3, 6, 5, 6, 5, 7, 0, 3, 0, 0, 2, 7, 0, 7, 8, 7, 2, 9, 5, 8, 0, 7, 2, 7, 6, 2, 0, 9, 7, 3, 5, 0, 3, 9, 0, 4, 6, 9, 1, 9, 1, 0, 0, 8, 8, 9, 8, 3, 9, 9, 7, 8, 2, 3, 8, 2, 5, 5, 3, 1, 1, 9, 2, 7, 9, 5, 7, 6, 1, 2, 2, 9, 1, 4, 6, 5, 4, 4, 8, 9, 7, 1, 2, 0, 7, 6, 7, 6, 7, 1, 5, 2, 9, 2, 9, 6, 6, 6, 2, 1, 4, 5, 7, 4, 8, 1, 0, 5, 1, 3, 7, 4, 6, 2, 3, 5, 2, 5, 9, 1, 9, 3, 8, 0, 1, 6, 5, 9, 7, 7, 0, 9, 6, 3, 0, 9, 3, 1, 2, 1, 1, 3, 5, 9, 9, 8, 7, 1, 4, 9, 3, 5, 7, 1, 4, 4, 7, 4, 3, 3, 1, 9, 1, 3, 9, 3, 1, 4, 3, 2, 5, 6, 5, 6, 1, 8, 9, 4, 7, 1, 1, 8, 9, 6, 4, 6, 6, 0, 6, 2, 3, 3, 4, 3, 5, 6, 8, 8, 4, 3, 2, 0, 1, 6, 9, 3, 4, 2, 3, 0, 8, 5, 8, 1, 7, 5, 0, 9, 7, 7, 7, 1, 0, 4, 0, 4, 1, 6, 2, 4, 4, 6, 0, 7, 2, 2, 3, 9, 1, 1, 2, 2, 9, 3, 8, 0, 5, 2, 6, 2, 1, 1, 8, 7, 8, 2, 3, 8, 7, 1, 6, 3, 7, 0, 5, 0, 6, 3, 4, 2, 2, 1, 7, 8, 4, 8, 9, 8, 8, 0, 2, 3, 4, 1, 3, 6, 3, 8, 7, 9, 2, 6, 3, 6, 9, 2, 3, 5, 9, 8, 7, 2, 3, 6, 9, 1, 9, 6, 4, 5, 6, 6, 0, 7, 3, 9, 4, 1, 6, 9, 1, 6, 9, 3, 5, 2, 2, 7, 9, 7, 2, 9, 0, 8, 8, 2, 1, 9, 1, 2, 5, 0, 9, 0, 5, 6, 8, 9, 5, 8, 5, 1, 9, 4, 1, 6, 4, 4, 6, 3, 7, 3, 8, 0, 4, 5, 1, 6, 4, 1, 1, 2, 3, 1, 3, 5, 2, 5, 3, 2, 1, 5, 3, 0, 4, 9, 3, 4, 6, 2, 1, 9, 9, 5, 8, 0, 3, 0, 0, 6, 6, 2, 6, 2, 0, 7, 1, 2, 8, 2, 9, 1, 6, 4, 3, 9, 0, 9, 5, 4, 3, 1, 0, 2, 5, 6, 2, 4, 4, 3, 4, 4, 7, 6, 6, 8, 4, 2, 3, 3, 8, 4, 1, 8, 2, 5, 5, 2, 4, 0, 0, 4, 1, 5, 7, 7, 8, 3, 6, 2, 6, 5, 1, 7, 3, 1, 7, 7, 9, 8, 7, 3, 3, 3, 1, 6, 1, 5, 5, 9, 3, 0, 5, 2, 0, 8, 0, 0, 2, 5, 5, 8, 5, 4, 7, 5, 4, 1, 5, 3, 7, 7, 7, 3, 1, 4, 3, 8, 4, 0, 7, 0, 0, 0, 9, 8, 1, 5, 8, 3, 6, 8, 7, 4, 1, 4, 4, 0, 2, 0, 4, 5, 5, 8, 6, 8, 9, 6, 6, 5, 1, 5, 7, 3, 5, 2, 3, 2, 3, 8, 6, 4, 8, 0, 1, 2, 7, 5, 5, 0, 4, 6, 6, 8, 4, 4, 6, 5, 5, 5, 9, 4, 6, 1, 8, 0, 2, 7, 5, 1, 3, 3, 2, 6, 1, 3, 6, 3, 4, 6, 4, 6, 3, 0, 0, 5, 5, 0, 7, 9, 1, 3, 1, 4, 8, 7, 5, 8, 0, 0, 0, 0, 6, 9, 7, 8, 4, 9, 6, 7, 4, 0, 7, 6, 8, 1, 4, 1, 3, 0, 8, 7, 8, 1, 3, 4, 1, 5, 2, 3, 0, 7, 1, 0, 3, 8, 5, 0, 3, 1, 5, 4, 5, 3, 8, 1, 6, 6, 1, 4, 7, 3, 7, 8, 6, 0, 5, 6, 6, 9, 5, 5, 2, 2, 6, 1, 5, 6, 0, 3, 2, 6, 6, 1, 5, 9, 5, 4, 6, 1, 1, 7, 2, 0, 5, 8, 1, 0, 4, 8, 6, 1, 9, 5, 1, 7, 6, 6, 7, 6, 7, 3, 8, 1, 1, 6, 4, 8, 1, 4, 4, 1, 4, 1, 1, 7, 9, 6, 3, 8, 6, 5, 6, 8, 5, 9, 6, 3, 1, 6, 6, 3, 0, 7, 4, 9, 6, 1, 1, 5, 5, 4, 1, 6, 9, 2, 7, 7, 5, 1, 9, 3, 9, 2, 9, 4, 9, 8, 1, 7, 1, 8, 6, 9, 5, 3, 6, 8, 8, 8, 9, 2, 8, 3, 4, 0, 8, 4, 6, 5, 0, 6, 7, 8, 9, 7, 4, 2, 7, 2, 8, 0, 0, 4, 2, 9, 0, 1, 9, 9, 7, 1, 7, 0, 7, 0, 3, 1, 2, 8, 1, 4, 4, 0, 7, 0, 9, 8, 1, 8, 8, 1, 2, 5, 5, 1, 0, 8, 8, 0, 3, 7, 0, 5, 3, 7, 7, 0, 5, 5, 2, 5, 2, 2, 7, 2, 7, 5, 6, 7, 6, 2, 4, 0, 1, 8, 0, 6, 9, 9, 6, 6, 2, 4, 4, 0, 1, 7, 9, 8, 2, 3, 3, 1, 4, 5, 2, 2, 7, 4, 1, 7, 9, 8, 9, 6, 8, 7, 8, 7, 0, 4, 4, 5, 5, 5, 0, 3, 6, 9, 4, 1, 0, 1, 2, 3, 1, 6, 0, 1, 7, 2, 3, 3, 2, 0, 6, 9, 2, 1, 3, 2, 2, 8, 0, 6, 1, 1, 2, 7, 2, 8, 3, 1, 9, 5, 5, 1, 8, 5, 0, 3, 7, 7, 5, 4, 5, 7, 3, 5, 7, 8, 0, 2, 1, 4, 0, 9, 1, 7, 9, 1, 6, 7, 1, 3, 5, 9, 2, 4, 0, 3, 5, 1, 4, 2, 1, 4, 0, 1, 1, 7, 3, 7, 1, 3, 3, 0, 4, 9, 4, 6, 8, 2, 9, 5, 1, 9, 5, 0, 7, 2, 3, 4, 8, 6, 7, 2, 5, 5, 8, 0, 1, 4, 7, 3, 6, 6, 5, 1, 9, 3, 0, 3, 8, 9, 7, 1, 3, 0, 5, 7, 5, 0, 4, 9, 9, 8, 2, 8, 3, 1, 5, 8, 3, 7, 5, 0, 3, 5, 4, 4, 2, 5, 9, 6, 6, 0, 2, 4, 1, 9, 8, 5, 0, 3, 8, 3, 0, 1, 1, 2, 9, 6, 1, 1, 0, 7, 2, 8, 2, 7, 2, 1, 4, 1, 8, 6, 7, 7, 6, 3, 2, 4, 1, 4, 5, 8, 3, 6, 4, 8, 4, 6, 6, 1, 7, 5, 5, 1, 3, 2, 2, 9, 0, 0, 2, 9, 1, 3, 3, 3, 3, 9, 3, 4, 1, 2, 6, 8, 1, 9, 5, 4, 7, 9, 0, 7, 2, 9, 9, 1, 4, 0, 6, 7, 8, 7, 9, 7, 2, 4, 4, 4, 6, 3, 1, 9, 3, 6, 6, 3, 2, 8, 2, 8, 2, 4, 0, 6, 0, 3, 5, 5, 0, 1, 6, 5, 2, 3, 0, 3, 0, 0, 8, 4, 5, 0, 5, 3, 0, 2, 3, 1, 2, 4, 3, 0, 2, 0, 7, 9, 3, 3, 9, 6, 5, 9, 8, 1, 8, 0, 6, 5, 1, 4, 5, 1, 7, 5, 7, 6, 2, 1, 1, 0, 5, 0, 4, 1, 9, 5, 1, 4, 5, 3, 8, 8, 3, 7, 8, 2, 6, 9, 8, 3, 0, 6, 7, 6, 2, 8, 6, 9, 1, 5, 7, 2, 1, 2, 3, 9, 4, 1, 9, 2, 8, 4, 6, 7, 8, 6, 9, 8, 4, 3, 1, 2, 0, 2, 9, 8, 1, 5, 0, 8, 5, 2, 7, 5, 8, 1, 5, 1, 1, 0, 5, 4, 2, 0, 0, 9, 0, 2, 7, 7, 5, 2, 5, 4, 6, 3, 9, 5, 4, 0, 5, 6, 3, 0, 3, 1, 6, 2, 4, 4, 4, 0, 5, 1, 8, 0, 3, 4, 5, 0, 2, 2, 0, 1, 1, 6, 1, 4, 3, 1, 5, 9, 9, 2, 5, 0, 0, 2, 9, 7, 8, 2, 8, 4, 4, 4, 4, 8, 0, 5, 8, 5, 4, 7, 4, 4, 9, 2, 4, 8, 3, 0, 9, 8, 7, 6, 2, 4, 2, 6, 3, 2, 7, 5, 1, 0, 2, 9, 9, 0, 4, 2, 7, 0, 5, 4, 4, 1, 5, 2, 6, 8, 1, 2, 8, 3, 3, 2, 9, 7, 1, 4, 4, 6, 9, 0, 2, 4, 4, 5, 7, 8, 9, 4, 2, 4, 1, 7, 8, 2, 8, 2, 1, 2, 9, 7, 7, 0, 1, 2, 0, 9, 4, 2, 1, 4, 5, 0, 8, 6, 1, 9, 5, 1, 6, 2, 1, 8, 0, 5, 1, 9, 9, 6, 6, 5, 1, 1, 7, 9, 4, 2, 7, 3, 4, 6, 0, 6, 3, 0, 6, 3, 0, 1, 3, 2, 6, 3, 1, 0, 5, 9, 1, 3, 9, 0, 2, 0, 5, 8, 9, 6, 6, 5, 2, 4, 7, 2, 3, 7, 9, 1, 3, 9, 9, 8, 6, 4, 7, 7, 6, 0, 0, 4, 5, 4, 9, 8, 3, 5, 1, 7, 7, 1, 4, 1, 6, 3, 9, 7, 6, 6, 1, 9, 4, 0, 0, 4, 4, 8, 3, 1, 7, 5, 7, 3, 7, 4, 1, 0, 3, 2, 4, 3, 2, 2, 6, 0, 9, 9, 2, 3, 1, 8, 6, 4, 2, 2, 1, 7, 3, 1, 4, 5, 0, 6, 8, 1, 7, 8, 3, 7, 6, 7, 7, 3, 7, 2, 4, 5, 7, 7, 9, 0, 9, 1, 8, 1, 8, 4, 4, 1, 9, 9, 6, 1, 7, 5, 3, 5, 8, 7, 8, 0, 0, 1, 0, 3, 6, 6, 1, 9, 4, 0, 1, 0, 2, 0, 6, 7, 7, 5, 3, 1, 6, 9, 9, 0, 4, 6, 2, 5, 0, 6, 5, 6, 8, 3, 4, 1, 8, 4, 6, 8, 7, 1, 8, 6, 8, 1, 2, 3, 3, 2, 3, 3, 6, 8, 2, 7, 6, 8, 8, 0, 9, 1, 7, 7, 5, 3, 1, 2, 3, 1, 4, 3, 6, 4, 8, 3, 1, 3, 6, 9, 6, 7, 0, 3, 8, 0, 7, 7, 3, 0, 0, 9, 3, 5, 7, 9, 8, 6, 0, 7, 7, 2, 8, 7, 9, 1, 2, 3, 6, 0, 7, 8, 1, 0, 3, 6, 9, 9, 5, 0, 5, 0, 1, 1, 1, 2, 5, 9, 5, 4, 0, 3, 5, 1, 2, 7, 6, 5, 3, 0, 5, 6, 9, 0, 7, 8, 1, 7, 1, 8, 5, 2, 2, 9, 7, 3, 2, 1, 2, 5, 4, 9, 2, 1, 3, 1, 8, 5, 6, 2, 7, 3, 9, 9, 4, 3, 6, 3, 1, 1, 7, 5, 3, 5, 2, 9, 9, 7, 9, 3, 9, 1, 1, 1, 8, 1, 6, 2, 6, 6, 5, 8, 2, 9, 7, 0, 3, 5, 7, 8, 7, 8, 1, 9, 3, 3, 1, 8, 5, 4, 7, 5, 8, 0, 5, 9, 7, 0, 7, 7, 4, 4, 5, 8, 9, 2, 4, 7, 5, 1, 4, 4, 9, 6, 4, 2, 0, 2, 6, 2, 2, 8, 4, 1, 6, 1, 2, 2, 1, 3, 1, 2, 4, 6, 4, 3, 5, 5, 5, 1, 0, 1, 1, 7, 1, 7, 2, 6, 9, 5, 5, 2, 5, 2, 8, 9, 3, 2, 8, 9, 7, 3, 5, 6, 8, 9, 8, 3, 7, 0, 4, 5, 1, 0, 1, 6, 4, 2, 1, 9, 7, 0, 9, 3, 1, 6, 3, 6, 0, 8, 2, 6, 5, 7, 9, 0, 1, 0, 8, 4, 0, 9, 4, 6, 0, 7, 5, 0, 1, 9, 6, 1, 1, 2, 7, 0, 3, 3, 8, 9, 4, 8, 4, 8, 4, 9, 9, 8, 6, 9, 8, 3, 0, 9, 6, 7, 8, 3, 5, 8, 1, 2, 7, 8, 7, 1, 6, 8, 3, 1, 6, 8, 7, 6, 9, 1, 5, 9, 0, 7, 4, 3, 3, 3, 4, 8, 9, 3, 0, 5, 2, 0, 6, 1, 6, 7, 9, 0, 4, 5, 4, 3, 1, 9, 4, 8, 7, 2, 8, 2, 6, 7, 9, 7, 6, 4, 6, 3, 7, 5, 4, 4, 2, 2, 9, 6, 7, 0, 5, 0, 0, 3, 3, 5, 3, 7, 6, 2, 2, 4, 9, 0, 5, 3, 1, 8, 5, 9, 9, 7, 1, 4, 3, 6, 7, 8, 1, 6, 4, 1, 4, 9, 7, 1, 3, 0, 8, 7, 8, 7, 1, 6, 9, 4, 8, 3, 7, 6, 8, 3, 0, 8, 4, 1, 6, 8, 1, 9, 4, 3, 8, 4, 0, 9, 4, 4, 9, 3, 2, 2, 8, 0, 4, 3, 7, 4, 4, 6, 5, 3, 0, 5, 3, 1, 4, 6, 3, 5, 9, 3, 5, 1, 3, 8, 0, 9, 2, 3, 4, 9, 2, 4, 3, 1, 0, 7, 7, 5, 6, 6, 4, 8, 8, 2, 0, 7, 7, 7, 0, 8, 3, 8, 6, 5, 0, 9, 5, 7, 2, 0, 1, 0, 3, 9, 2, 4, 4, 1, 4, 3, 2, 9, 1, 1, 9, 0, 2, 7, 9, 7, 8, 6, 7, 7, 7, 6, 7, 9, 4, 7, 1, 1, 8, 1, 1, 1, 1, 6, 3, 1, 1, 5, 6, 1, 3, 8, 1, 0, 7, 3, 9, 7, 5, 0, 5, 9, 6, 3, 0, 3, 2, 2, 4, 2, 0, 6, 7, 7, 0, 4, 7, 3, 5, 8, 7, 4, 0, 7, 4, 2, 4, 2, 9, 2, 5, 0, 4, 4, 1, 8, 0, 9, 9, 6, 1, 6, 6, 7, 7, 1, 3, 8, 0, 9, 4, 4, 9, 0, 0, 7, 1, 1, 0, 2, 5, 2, 0, 9, 2, 3, 6, 2, 0, 5, 7, 2, 9, 4, 1, 5, 1, 4, 1, 6, 4, 2, 1, 5, 9, 6, 0, 4, 4, 1, 3, 3, 3, 0, 4, 1, 5, 6, 1, 2, 0, 7, 8, 6, 4, 8, 2, 8, 4, 4, 8, 2, 1, 1, 9, 5, 1, 4, 0, 2, 7, 1, 4, 0, 9, 4, 4, 4, 5, 1, 7, 4, 6, 4, 5, 8, 7, 1, 4, 7, 9, 7, 8, 0, 8, 6, 9, 2, 3, 1, 2, 8, 1, 1, 9, 5, 8, 8, 6, 0, 7, 6, 4, 6, 3, 2, 6, 0, 9, 1, 6, 5, 2, 7, 3, 4, 3, 1, 0, 6, 8, 7, 6, 4, 0, 5, 0, 9, 7, 5, 3, 6, 4, 4, 9, 7, 7, 4, 2, 2, 1, 1, 5, 3, 5, 4, 7, 7, 3, 4, 8, 7, 7, 1, 1, 9, 4, 4, 4, 3, 0, 3, 7, 8, 1, 6, 4, 0, 6, 2, 9, 0, 6, 3, 6, 6, 6, 5, 1, 9, 9, 3, 6, 3, 2, 0, 7, 2, 0, 3, 2, 5, 7, 9, 6, 4, 8, 4, 4, 1, 9, 8, 8, 9, 1, 5, 1, 1, 6, 7, 0, 2, 8, 2, 2, 5, 5, 2, 6, 1, 1, 4, 0, 9, 4, 3, 7, 9, 3, 0, 2, 9, 6, 3, 3, 3, 2, 3, 4, 6, 7, 9, 3, 6, 7, 8, 3, 9, 1, 2, 4, 5, 9, 9, 4, 1, 9, 7, 6, 8, 2, 8, 0, 6, 2, 9, 6, 7, 1, 2, 7, 8, 6, 0, 8, 5, 1, 7, 7, 3, 5, 3, 7, 4, 7, 0, 4, 1, 9, 1, 5, 2, 1, 6, 6, 0, 9, 6, 6, 0, 2, 1, 7, 9, 5, 8, 2, 7, 2, 3, 0, 2, 1, 9, 9, 9, 1, 3, 3, 6, 9, 3, 3, 7, 4, 1, 8, 1, 7, 5, 4, 2, 8, 0, 6, 4, 6, 4, 7, 4, 6, 7, 8, 0, 2, 3, 3, 8, 7, 2, 3, 4, 4, 4, 6, 8, 6, 6, 1, 2, 8, 1, 7, 6, 7, 1, 8, 7, 6, 2, 9, 7, 5, 8, 4, 6, 8, 0, 1, 7, 3, 3, 0, 8, 8, 3, 5, 4, 1, 8, 6, 4, 1, 0, 1, 1, 0, 2, 4, 5, 6, 4, 3, 8, 6, 2, 6, 9, 8, 4, 6, 5, 6, 2, 5, 7, 4, 9, 1, 3, 8, 2, 8, 4, 9, 5, 8, 8, 4, 2, 6, 1, 5, 5, 3, 6, 7, 0, 3, 4, 6, 6, 5, 6, 1, 3, 7, 7, 2, 7, 3, 3, 3, 9, 1, 2, 1, 5, 1, 1, 6, 0, 6, 4, 6, 9, 6, 6, 5, 1, 0, 0, 7, 6, 9, 5, 1, 7, 6, 9, 7, 4, 8, 2, 3, 6, 8, 6, 3, 2, 1, 0, 3, 9, 2, 4, 4, 0, 0, 9, 6, 8, 0, 3, 9, 3, 9, 7, 9, 7, 3, 7, 8, 8, 2, 3, 8, 2, 1, 2, 7, 2, 1, 2, 7, 1, 4, 0, 5, 3, 5, 5, 3, 3, 8, 6, 9, 9, 0, 2, 5, 7, 4, 6, 8, 6, 2, 3, 3, 7, 8, 8, 4, 9, 7, 0, 3, 8, 7, 4, 8, 2, 8, 7, 7, 5, 7, 8, 0, 7, 5, 1, 5, 9, 9, 0, 4, 9, 7, 4, 7, 9, 0, 6, 4, 3, 5, 3, 0, 9, 4, 4, 8, 6, 1, 2, 1, 1, 9, 2, 7, 7, 0, 1, 5, 1, 6, 9, 8, 3, 4, 0, 3, 1, 0, 5, 3, 9, 8, 1, 7, 8, 5, 6, 8, 1, 1, 7, 1, 4, 8, 0, 8, 5, 6, 0, 7, 7, 1, 6, 8, 0, 6, 2, 1, 0, 5, 4, 5, 1, 2, 1, 1, 2, 7, 3, 3, 6, 5, 2, 8, 5, 9, 8, 4, 3, 5, 3, 4, 0, 6, 6, 3, 5, 4, 6, 8, 1, 2, 7, 9, 0, 3, 4, 9, 6, 8, 6, 9, 3, 8, 2, 8, 4, 1, 1, 9, 3, 8, 1, 2, 3, 3, 9, 4, 7, 2, 4, 0, 1, 4, 3, 6, 2, 4, 1, 5, 9, 7, 1, 7, 4, 6, 1, 6, 7, 4, 8, 2, 1, 7, 9, 6, 2, 5, 5, 3, 9, 0, 6, 2, 5, 6, 0, 3, 4, 3, 6, 7, 6, 0, 3, 5, 5, 8, 4, 0, 6, 9, 5, 6, 0, 1, 7, 1, 7, 5, 6, 4, 3, 4, 4, 6, 2, 2, 4, 7, 7, 3, 2, 8, 7, 4, 9, 2, 4, 2, 1, 3, 9, 4, 0, 1, 2, 9, 7, 7, 9, 3, 4, 5, 5, 1, 5, 5, 6, 1, 2, 8, 8, 4, 6, 7, 9, 6, 1, 0, 5, 4, 0, 3, 1, 1, 5, 5, 3, 1, 2, 4, 6, 9, 2, 4, 1, 7, 9, 8, 5, 1, 1, 4, 3, 6, 2, 2, 1, 6, 7, 7, 1, 7, 3, 0, 1, 1, 5, 3, 1, 1, 3, 2, 7, 1, 2, 1, 8, 8, 0, 7, 5, 5, 4, 0, 8, 7, 7, 3, 4, 3, 8, 2, 0, 7, 4, 1, 1, 8, 1, 5, 4, 2, 1, 0, 2, 4, 7, 0, 2, 8, 0, 2, 1, 9, 3, 3, 3, 4, 4, 1, 1, 4, 2, 3, 1, 0, 9, 8, 5, 9, 8, 6, 7, 3, 1, 6, 3, 7, 6, 1, 7, 3, 3, 5, 7, 7, 6, 0, 8, 1, 7, 3, 3, 3, 2, 1, 3, 9, 4, 3, 1, 9, 7, 7, 2, 3, 4, 8, 0, 9, 4, 1, 1, 7, 2, 6, 6, 4, 1, 0, 4, 2, 1, 3, 7, 4, 0, 2, 8, 5, 8, 9, 4, 7, 5, 6, 8, 2, 5, 7, 0, 1, 7, 3, 8, 6, 9, 7, 5, 3, 1, 7, 0, 8, 1, 4, 1, 1, 1, 8, 7, 4, 7, 9, 6, 9, 6, 2, 4, 4, 2, 1, 8, 7, 5, 4, 6, 2, 1, 6, 7, 1, 3, 0, 0, 5, 8, 9, 7, 2, 0, 5, 9, 2, 2, 4, 2, 4, 3, 0, 1, 8, 5, 1, 3, 2, 1, 3, 2, 4, 0, 4, 1, 8, 3, 7, 9, 5, 8, 8, 6, 4, 3, 7, 4, 9, 6, 8, 8, 6, 6, 5, 7, 9, 4, 4, 2, 3, 6, 6, 0, 0, 6, 6, 9, 1, 4, 4, 7, 3, 7, 8, 2, 3, 8, 4, 5, 6, 2, 0, 3, 9, 2, 0, 0, 7, 8, 8, 3, 5, 8, 6, 3, 7, 5, 0, 2, 7, 8, 6, 1, 5, 5, 4, 4, 3, 4, 5, 3, 2, 8, 2, 1, 5, 7, 1, 9, 4, 9, 3, 1, 7, 3, 3, 6, 8, 9, 5, 2, 2, 8, 8, 8, 7, 2, 9, 7, 4, 1, 7, 8, 2, 0, 5, 1, 3, 6, 9, 6, 4, 9, 6, 7, 8, 3, 1, 6, 7, 9, 2, 9, 6, 8, 9, 8, 1, 4, 8, 9, 3, 1, 8, 0, 5, 2, 7, 1, 0, 5, 2, 4, 0, 3, 8, 9, 6, 6, 2, 8, 6, 7, 0, 0, 3, 3, 6, 5, 1, 1, 7, 9, 3, 1, 5, 8, 3, 2, 6, 8, 3, 8, 7, 4, 2, 9, 7, 3, 9, 8, 2, 3, 5, 1, 0, 9, 9, 2, 3, 7, 7, 9, 7, 8, 6, 0, 5, 4, 3, 7, 4, 1, 3, 4, 8, 7, 0, 0, 5, 6, 4, 5, 1, 4, 9, 2, 2, 7, 9, 2, 9, 8, 2, 1, 8, 2, 3, 5, 5, 3, 2, 0, 8, 8, 6, 1, 2, 0, 1, 1, 5, 6, 8, 8, 3, 3, 9, 0, 0, 3, 2, 4, 8, 9, 8, 4, 1, 9, 0, 9, 9, 2, 9, 4, 4, 7, 9, 9, 1, 2, 0, 5, 3, 9, 6, 7, 2, 5, 4, 4, 0, 1, 0, 9, 4, 0, 1, 9, 6, 0, 2, 1, 4, 5, 7, 8, 7, 7, 9, 2, 8, 7, 5, 6, 4, 9, 8, 7, 0, 3, 1, 6, 5, 6, 3, 2, 6, 8, 5, 5, 5, 2, 8, 3, 6, 3, 6, 9, 0, 5, 2, 0, 5, 8, 7, 4, 4, 7, 0, 2, 5, 4, 0, 1, 1, 0, 6, 2, 5, 0, 9, 0, 8, 5, 4, 6, 5, 3, 8, 7, 0, 9, 1, 4, 1, 5, 2, 2, 4, 2, 9, 8, 7, 1, 8, 3, 4, 7, 1, 9, 0, 9, 8, 7, 9, 4, 1, 9, 7, 2, 0, 8, 3, 4, 3, 5, 5, 2, 2, 8, 5, 5, 7, 1, 6, 3, 1, 8, 0, 9, 4, 0, 1, 6, 8, 9, 6, 2, 3, 4, 4, 2, 3, 6, 2, 1, 6, 8, 5, 9, 1, 7, 9, 0, 7, 9, 4, 2, 6, 0, 6, 6, 1, 7, 2, 8, 0, 6, 0, 1, 9, 9, 3, 7, 0, 7, 4, 6, 2, 1, 2, 1, 7, 6, 9, 0, 9, 1, 4, 8, 7, 3, 8, 6, 9, 3, 8, 3, 7, 9, 6, 0, 1, 7, 1, 1, 4, 1, 6, 6, 3, 1, 8, 1, 9, 6, 2, 1, 6, 1, 2, 7, 9, 0, 5, 1, 3, 2, 6, 1, 4, 9, 4, 9, 5, 2, 6, 6, 3, 4, 3, 4, 7, 0, 7, 0, 8, 2, 0, 0, 7, 7, 1, 0, 5, 6, 2, 3, 7, 1, 7, 6, 8, 3, 2, 0, 1, 5, 8, 2, 6, 0, 0, 5, 4, 0, 9, 6, 6, 4, 2, 7, 1, 2, 9, 5, 8, 7, 4, 4, 6, 8, 9, 8, 3, 3, 7, 3, 2, 0, 4, 9, 0, 3, 7, 6, 2, 0, 0, 7, 2, 1, 7, 1, 8, 8, 8, 0, 3, 7, 8, 8, 3, 5, 1, 9, 6, 3, 2, 0, 6, 8, 7, 0, 3, 9, 9, 0, 9, 5, 7, 6, 2, 2, 5, 3, 8, 5, 7, 1, 1, 5, 4, 6, 0, 2, 7, 2, 0, 7, 5, 1, 1, 7, 9, 0, 8, 9, 0, 8, 1, 7, 3, 2, 7, 1, 9, 3, 3, 7, 9, 4, 2, 7, 3, 7, 2, 5, 9, 0, 2, 6, 0, 1, 8, 8, 7, 0, 2, 9, 7, 0, 1, 9, 6, 7, 2, 3, 7, 6, 9, 9, 0, 3, 6, 4, 4, 2, 3, 5, 4, 6, 3, 0, 7, 0, 2, 7, 7, 7, 0, 0, 1, 9, 0, 6, 9, 7, 8, 1, 3, 1, 1, 2, 3, 3, 0, 0, 5, 2, 2, 3, 8, 3, 4, 9, 1, 2, 5, 1, 1, 5, 2, 8, 8, 5, 1, 8, 5, 3, 6, 7, 9, 1, 8, 8, 2, 1, 8, 8, 0, 9, 0, 2, 3, 5, 6, 0, 0, 0, 8, 0, 6, 3, 3, 7, 2, 5, 6, 2, 8, 5, 8, 0, 2, 7, 4, 0, 1, 3, 1, 8, 0, 8, 9, 5, 3, 0, 3, 7, 6, 6, 8, 3, 2, 6, 7, 7, 3, 1, 8, 7, 6, 3, 2, 6, 4, 9, 5, 8, 2, 7, 3, 2, 4, 8, 4, 4, 4, 1, 1, 6, 8, 8, 5, 1, 7, 3, 5, 0, 1, 3, 4, 5, 6, 2, 7, 9, 9, 9, 6, 7, 0, 1, 6, 8, 4, 3, 5, 4, 1, 6, 4, 5, 1, 2, 6, 9, 2, 4, 7, 0, 1, 1, 8, 1, 7, 7, 5, 3, 2, 8, 7, 5, 1, 4, 9, 9, 1, 7, 9, 7, 0, 6, 0, 2, 8, 2, 9, 4, 3, 0, 3, 8, 9, 4, 3, 5, 4, 2, 9, 1, 8, 1, 6, 0, 4, 8, 0, 9, 1, 0, 5, 9, 7, 7, 5, 8, 4, 7, 9, 7, 9, 6, 9, 5, 8, 4, 0, 0, 5, 9, 6, 6, 1, 6, 0, 2, 1, 8, 5, 7, 4, 4, 1, 4, 6, 2, 8, 0, 5, 5, 6, 1, 1, 3, 1, 7, 0, 3, 3, 5, 8, 7, 2, 3, 3, 7, 3, 9, 4, 8, 6, 6, 0, 5, 5, 4, 3, 0, 6, 1, 1, 3, 2, 6, 1, 9, 3, 7, 3, 8, 0, 0, 0, 1, 5, 2, 8, 7, 1, 0, 4, 3, 2, 3, 9, 7, 4, 4, 9, 2, 9, 9, 3, 9, 2, 1, 0, 6, 4, 1, 9, 4, 0, 9, 5, 0, 8, 8, 9, 4, 3, 1, 5, 5, 0, 6, 6, 6, 5, 6, 4, 4, 0, 4, 8, 5, 9, 4, 6, 4, 5, 8, 5, 7, 4, 1, 1, 2, 8, 3, 1, 6, 3, 5, 3, 7, 7, 1, 7, 9, 7, 3, 5, 9, 4, 2, 3, 2, 2, 2, 6, 5, 0, 7, 7, 3, 9, 8, 5, 0, 5, 9, 0, 6, 3, 3, 5, 7, 2, 6, 1, 7, 1, 8, 8, 1, 2, 0, 3, 5, 0, 1, 8, 3, 3, 3, 9, 8, 7, 1, 1, 3, 5, 1, 7, 4, 1, 5, 9, 9, 0, 7, 7, 6, 4, 1, 6, 7, 7, 8, 2, 1, 9, 4, 4, 9, 5, 3, 4, 9, 4, 7, 3, 9, 7, 1, 6, 5, 7, 8, 0, 1, 9, 6, 2, 6, 1, 0, 2, 4, 4, 6, 1, 1, 2, 8, 1, 6, 4, 7, 7, 1, 6, 8, 2, 9, 2, 7, 8, 6, 6, 4, 2, 5, 5, 2, 5, 7, 6, 7, 9, 9, 2, 0, 8, 9, 4, 5, 3, 8, 2, 3, 0, 4, 5, 1, 7, 9, 6, 3, 5, 9, 1, 5, 9, 7, 8, 0, 4, 5, 0, 6, 0, 6, 5, 1, 2, 6, 0, 2, 2, 9, 8, 1, 6, 2, 1, 9, 4, 8, 4, 7, 9, 9, 7, 1, 6, 7, 9, 9, 2, 4, 4, 3, 5, 3, 8, 6, 8, 6, 7, 2, 4, 6, 5, 4, 1, 9, 1, 6, 5, 2, 8, 5, 5, 9, 6, 0, 6, 9, 2, 7, 7, 6, 4, 2, 7, 7, 3, 5, 6, 6, 5, 9, 4, 5, 4, 0, 5, 5, 1, 8, 1, 2, 1, 1, 2, 3, 6, 8, 2, 1, 2, 5, 4, 2, 1, 2, 8, 6, 8, 8, 6, 0, 9, 7, 6, 2, 4, 3, 2, 9, 7, 5, 4, 6, 8, 1, 8, 8, 7, 1, 4, 3, 2, 9, 8, 8, 0, 5, 7, 3, 1, 8, 3, 3, 7, 0, 3, 7, 1, 1, 8, 3, 0, 4, 9, 6, 1, 8, 9, 0, 6, 7, 6, 9, 0, 2, 3, 3, 1, 9, 7, 6, 6, 3, 0, 2, 3, 2, 6, 5, 9, 7, 1, 7, 1, 5, 5, 1, 6, 1, 4, 2, 9, 7, 8, 4, 7, 5, 1, 4, 5, 2, 5, 1, 9, 0, 7, 1, 7, 3, 0, 6, 0, 6, 8, 5, 4, 1, 1, 1, 0, 7, 3, 3, 7, 4, 6, 7, 3, 1, 6, 5, 8, 7, 7, 4, 9, 1, 3, 4, 9, 1, 4, 1, 8, 2, 3, 6, 7, 1, 3, 4, 1, 0, 0, 8, 9, 6, 5, 0, 5, 5, 4, 0, 6, 4, 4, 0, 2, 8, 9, 1, 9, 7, 3, 2, 3, 3, 7, 4, 8, 8, 2, 5, 8, 8, 6, 0, 1, 6, 3, 9, 5, 0, 6, 7, 3, 8, 5, 5, 9, 8, 8, 5, 5, 1, 3, 7, 5, 2, 9, 5, 4, 6, 7, 3, 2, 0, 9, 5, 0, 2, 4, 0, 1, 1, 0, 8, 5, 3, 6, 5, 6, 1, 1, 7, 3, 0, 6, 7, 5, 0, 1, 1, 1, 5, 4, 5, 2, 4, 2, 8, 9, 1, 3, 5, 1, 7, 6, 5, 1, 1, 9, 4, 0, 7, 2, 5, 9, 2, 9, 2, 1, 5, 7, 0, 4, 3, 9, 8, 7, 0, 4, 9, 8, 2, 2, 7, 0, 1, 3, 4, 5, 7, 0, 3, 4, 0, 6, 4, 3, 7, 3, 7, 4, 9, 9, 7, 7, 1, 3, 6, 5, 8, 1, 0, 8, 9, 0, 1, 0, 8, 7, 5, 4, 4, 1, 3, 2, 7, 1, 2, 0, 5, 0, 6, 8, 7, 1, 3, 3, 1, 3, 8, 0, 5, 8, 1, 1, 8, 9, 1, 1, 7, 2, 2, 3, 4, 0, 1, 5, 6, 3, 3, 3, 9, 7, 1, 0, 5, 8, 7, 3, 9, 1, 9, 2, 3, 8, 9, 6, 5, 2, 2, 6, 2, 9, 2, 2, 5, 2, 9, 5, 1, 9, 8, 8, 5, 7, 1, 8, 4, 1, 4, 3, 1, 1, 8, 6, 4, 2, 0, 1, 0, 7, 2, 7, 8, 3, 1, 7, 1, 2, 4, 3, 1, 6, 5, 0, 2, 9, 1, 5, 9, 7, 5, 3, 9, 7, 2, 2, 2, 6, 1, 1, 3, 9, 0, 0, 7, 6, 5, 6, 4, 2, 8, 5, 3, 6, 6, 1, 1, 2, 6, 1, 6, 7, 2, 0, 1, 8, 9, 1, 7, 8, 7, 3, 3, 0, 0, 1, 5, 5, 8, 4, 4, 4, 4, 9, 9, 2, 0, 3, 1, 7, 1, 3, 2, 7, 2, 4, 3, 3, 3, 3, 8, 0, 8, 9, 9, 1, 9, 0, 8, 6, 6, 5, 9, 0, 2, 1, 4, 9, 8, 5, 7, 1, 8, 5, 1, 0, 4, 2, 4, 7, 3, 1, 9, 6, 0, 9, 9, 1, 2, 4, 1, 6, 9, 6, 1, 6, 4, 3, 9, 9, 0, 2, 7, 6, 6, 6, 0, 7, 4, 8, 6, 3, 4, 0, 0, 4, 7, 1, 5, 3, 0, 1, 6, 6, 7, 1, 2, 0, 9, 2, 4, 1, 5, 4, 7, 1, 6, 1, 7, 2, 1, 5, 2, 7, 1, 3, 2, 1, 1, 8, 9, 9, 5, 4, 0, 4, 6, 2, 0, 9, 6, 4, 4, 5, 3, 7, 5, 9, 1, 7, 5, 0, 0, 8, 3, 0, 0, 2, 3, 1, 3, 9, 5, 3, 3, 7, 2, 9, 0, 8, 2, 8, 0, 7, 1, 7, 6, 3, 0, 6, 4, 3, 7, 6, 7, 4, 2, 0, 9, 2, 7, 6, 1, 8, 6, 4, 5, 2, 3, 6, 9, 8, 5, 5, 2, 4, 2, 1, 5, 3, 8, 6, 9, 2, 6, 1, 4, 6, 5, 1, 1, 7, 3, 8, 3, 8, 8, 1, 9, 8, 1, 6, 8, 4, 2, 2, 8, 3, 3, 4, 5, 2, 7, 0, 3, 9, 5, 4, 7, 4, 8, 0, 2, 9, 3, 1, 8, 4, 8, 0, 3, 7, 0, 4, 5, 3, 8, 0, 5, 1, 3, 6, 9, 6, 5, 4, 7, 1, 5, 6, 5, 2, 1, 0, 6, 2, 2, 9, 9, 1, 6, 3, 3, 3, 7, 2, 9, 8, 5, 0, 1, 6, 6, 0, 1, 1, 8, 7, 4, 4, 9, 9, 0, 8, 8, 6, 7, 1, 4, 3, 6, 8, 8, 1, 1, 6, 9, 8, 1, 1, 1, 6, 1, 6, 9, 3, 3, 0, 5, 7, 7, 5, 7, 5, 5, 6, 0, 0, 1, 3, 4, 1, 8, 8, 7, 7, 2, 8, 6, 4, 6, 4, 8, 0, 6, 6, 9, 5, 1, 0, 6, 1, 6, 7, 1, 3, 2, 4, 0, 7, 9, 3, 9, 4, 3, 2, 5, 0, 4, 5, 5, 6, 8, 5, 6, 4, 4, 8, 6, 0, 9, 4, 1, 7, 3, 1, 7, 9, 9, 9, 2, 8, 0, 5, 1, 4, 3, 2, 4, 3, 1, 5, 8, 1, 4, 4, 1, 7, 7, 5, 6, 3, 2, 0, 3, 9, 1, 9, 4, 5, 1, 3, 9, 9, 4, 3, 2, 8, 1, 8, 6, 7, 1, 9, 0, 2, 0, 9, 0, 5, 1, 5, 0, 8, 0, 9, 3, 8, 1, 8, 7, 1, 8, 6, 6, 4, 0, 8, 6, 3, 7, 9, 2, 2, 5, 1, 4, 3, 3, 6, 9, 1, 0, 7, 2, 5, 4, 7, 5, 1, 9, 9, 3, 4, 3, 3, 8, 8, 7, 0, 8, 3, 7, 2, 1, 8, 6, 1, 3, 7, 9, 1, 0, 6, 5, 0, 2, 3, 9, 1, 7, 0, 8, 6, 7, 4, 9, 5, 7, 2, 9, 2, 3, 8, 2, 1, 7, 5, 1, 4, 5, 1, 8, 1, 7, 4, 4, 1, 3, 7, 0, 5, 2, 7, 1, 6, 5, 1, 1, 5, 1, 8, 4, 2, 5, 5, 8, 7, 6, 9, 0, 7, 9, 8, 6, 3, 3, 7, 4, 8, 3, 6, 4, 2, 2, 8, 8, 3, 8, 9, 1, 4, 0, 2, 1, 0, 0, 0, 9, 2, 3, 8, 3, 1, 9, 3, 0, 2, 8, 6, 0, 8, 7, 4, 5, 6, 2, 8, 4, 3, 0, 0, 0, 7, 7, 8, 4, 8, 6, 4, 2, 1, 2, 0, 6, 7, 4, 3, 5, 2, 0, 0, 4, 4, 9, 8, 5, 1, 4, 1, 2, 1, 5, 4, 9, 9, 5, 1, 8, 1, 5, 7, 4, 5, 6, 7, 6, 3, 8, 3, 4, 2, 3, 6, 3, 6, 8, 3, 4, 2, 4, 0, 1, 9, 1, 7, 7, 2, 7, 2, 4, 1, 0, 4, 6, 2, 5, 6, 0, 3, 1, 4, 1, 2, 1, 5, 5, 7, 4, 3, 0, 3, 7, 0, 2, 8, 6, 1, 8, 4, 0, 9, 0, 4, 1, 5, 3, 9, 4, 6, 5, 0, 5, 0, 1, 4, 8, 1, 0, 5, 8, 9, 6, 5, 4, 5, 5, 8, 3, 1, 9, 9, 2, 0, 3, 9, 3, 4, 3, 0, 6, 6, 5, 9, 3, 9, 2, 5, 9, 6, 3, 6, 9, 8, 2, 6, 8, 4, 1, 1, 3, 5, 8, 0, 4, 5, 4, 0, 2, 0, 6, 2, 1, 2, 3, 1, 1, 0, 5, 4, 4, 0, 6, 7, 1, 7, 2, 3, 6, 4, 8, 1, 8, 3, 7, 0, 2, 9, 5, 1, 3, 8, 6, 3, 7, 2, 0, 2, 9, 9, 9, 1, 0, 1, 5, 5, 4, 2, 4, 5, 3, 8, 6, 7, 9, 8, 2, 5, 1, 1, 2, 5, 0, 6, 9, 8, 8, 7, 1, 8, 9, 9, 2, 1, 3, 9, 2, 3, 4, 6, 1, 0, 4, 4, 1, 2, 3, 7, 9, 7, 6, 7, 6, 3, 4, 9, 6, 6, 9, 0, 4, 7, 7, 8, 9, 3, 0, 3, 2, 2, 4, 3, 0, 7, 9, 6, 1, 0, 8, 3, 3, 5, 2, 1, 2, 2, 2, 7, 1, 8, 3, 5, 5, 3, 6, 2, 2, 0, 1, 7, 5, 3, 7, 0, 1, 3, 9, 4, 8, 1, 1, 4, 3, 7, 2, 7, 3, 4, 7, 1, 0, 5, 6, 9, 7, 9, 0, 5, 9, 3, 4, 4, 5, 9, 9, 9, 4, 5, 2, 7, 3, 0, 3, 3, 8, 1, 4, 8, 1, 6, 0, 1, 6, 8, 0, 7, 7, 3, 6, 1, 0, 6, 3, 9, 3, 4, 7, 5, 6, 4, 2, 2, 2, 5, 3, 9, 8, 0, 0, 6, 1, 6, 4, 4, 0, 4, 0, 5, 5, 1, 7, 1, 4, 1, 8, 4, 9, 8, 0, 3, 5, 7, 4, 4, 6, 1, 8, 6, 9, 3, 8, 5, 6, 1, 9, 9, 3, 7, 7, 2, 7, 2, 2, 0, 6, 7, 0, 1, 5, 6, 2, 6, 7, 5, 5, 7, 6, 9, 7, 9, 4, 1, 3, 2, 6, 1, 5, 9, 9, 7, 8, 7, 0, 5, 4, 5, 7, 6, 5, 6, 0, 4, 7, 5, 1, 0, 1, 1, 9, 4, 8, 3, 5, 1, 7, 4, 4, 2, 9, 9, 5, 1, 7, 5, 9, 6, 2, 1, 4, 1, 5, 3, 9, 7, 7, 4, 3, 2, 6, 9, 1, 3, 5, 7, 0, 3, 9, 3, 5, 9, 1, 6, 5, 7, 2, 0, 0, 5, 2, 1, 8, 4, 4, 4, 4, 2, 4, 5, 9, 3, 9, 6, 7, 4, 0, 3, 4, 8, 7, 6, 1, 8, 7, 6, 0, 3, 0, 3, 5, 3, 4, 2, 8, 8, 0, 2, 8, 3, 9, 2, 9, 7, 8, 2, 6, 1, 2, 4, 1, 3, 4, 3, 2, 0, 8, 8, 4, 6, 8, 0, 7, 0, 5, 1, 2, 2, 0, 7, 6, 4, 1, 8, 7, 8, 2, 4, 2, 0, 2, 3, 5, 0, 5, 7, 4, 1, 7, 3, 9, 9, 1, 5, 0, 2, 0, 3, 3, 6, 6, 9, 4, 8, 6, 5, 2, 9, 0, 8, 1, 9, 8, 2, 5, 6, 7, 4, 8, 3, 4, 3, 2, 6, 4, 1, 3, 0, 2, 1, 2, 7, 2, 2, 6, 6, 0, 1, 4, 6, 1, 0, 2, 2, 0, 6, 1, 1, 9, 5, 6, 7, 6, 7, 5, 0, 3, 8, 9, 2, 6, 2, 9, 7, 9, 3, 2, 7, 4, 1, 4, 8, 7, 8, 4, 5, 8, 5, 6, 0, 8, 9, 3, 2, 5, 4, 6, 6, 5, 1, 8, 6, 8, 3, 7, 1, 1, 3, 6, 0, 4, 5, 0, 3, 9, 9, 6, 3, 7, 4, 3, 4, 1, 7, 2, 5, 6, 4, 6, 6, 5, 9, 4, 1, 8, 2, 3, 6, 0, 7, 7, 7, 3, 5, 0, 1, 4, 6, 0, 6, 8, 5, 5, 1, 9, 2, 5, 3, 3, 3, 7, 1, 0, 2, 2, 3, 2, 9, 3, 1, 8, 0, 5, 3, 8, 5, 0, 1, 7, 8, 1, 0, 1, 2, 6, 8, 2, 7, 4, 7, 7, 0, 5, 9, 9, 6, 1, 6, 7, 7, 3, 5, 3, 9, 0, 8, 2, 9, 4, 9, 2, 6, 1, 7, 4, 9, 0, 9, 7, 1, 9, 2, 7, 4, 6, 3, 3, 9, 7, 8, 1, 1, 0, 2, 9, 2, 5, 5, 5, 6, 5, 0, 9, 5, 5, 0, 0, 1, 7, 0, 1, 6, 7, 6, 2, 2, 9, 0, 0, 5, 3, 4, 6, 4, 2, 0, 7, 1, 2, 6, 2, 2, 6, 7, 5, 0, 2, 5, 4, 0, 8, 2, 6, 5, 9, 7, 8, 9, 5, 3, 9, 1, 1, 3, 5, 9, 4, 2, 5, 0, 1, 4, 0, 3, 6, 6, 0, 7, 8, 9, 7, 5, 3, 8, 9, 9, 1, 1, 6, 3, 3, 4, 0, 1, 1, 7, 8, 5, 7, 6, 5, 5, 9, 3, 0, 5, 1, 5, 6, 0, 4, 8, 2, 6, 7, 9, 5, 9, 6, 9, 7, 1, 8, 8, 4, 4, 2, 3, 7, 9, 0, 0, 1, 9, 5, 3, 8, 9, 1, 4, 5, 7, 8, 5, 5, 6, 0, 6, 8, 4, 2, 2, 9, 8, 8, 7, 7, 3, 7, 2, 7, 1, 4, 6, 8, 4, 9, 5, 3, 1, 8, 6, 4, 5, 1, 6, 6, 4, 3, 3, 0, 8, 0, 3, 1, 6, 2, 6, 1, 6, 7, 6, 0, 6, 4, 8, 4, 6, 7, 4, 8, 8, 7, 4, 3, 1, 0, 8, 4, 0, 1, 8, 9, 6, 0, 6, 9, 9, 1, 9, 4, 2, 0, 9, 9, 1, 2, 4, 6, 3, 8, 1, 7, 5, 7, 2, 5, 8, 0, 0, 6, 3, 9, 3, 5, 4, 0, 3, 4, 3, 6, 7, 0, 0, 5, 8, 4, 6, 2, 2, 2, 1, 4, 6, 1, 6, 4, 4, 6, 6, 4, 0, 0, 4, 6, 4, 9, 9, 3, 5, 3, 1, 2, 1, 5, 1, 8, 4, 5, 3, 1, 9, 8, 2, 0, 2, 9, 2, 8, 3, 7, 6, 9, 6, 1, 3, 0, 1, 3, 7, 7, 9, 6, 6, 4, 5, 5, 6, 8, 3, 8, 3, 5, 7, 6, 3, 7, 7, 3, 4, 8, 1, 2, 8, 8, 8, 1, 5, 6, 5, 2, 5, 5, 1, 6, 6, 1, 4, 3, 0, 0, 3, 7, 2, 9, 0, 3, 2, 9, 3, 0, 6, 3, 2, 9, 6, 1, 8, 5, 7, 0, 1, 4, 1, 0, 8, 2, 9, 8, 0, 1, 4, 8, 7, 6, 3, 8, 4, 5, 0, 6, 6, 0, 5, 9, 0, 7, 4, 8, 8, 5, 9, 7, 9, 9, 1, 1, 1, 2, 0, 7, 5, 0, 2, 0, 8, 7, 1, 9, 8, 5, 2, 6, 1, 6, 9, 2, 3, 9, 8, 8, 9, 0, 2, 8, 4, 8, 5, 1, 0, 9, 0, 1, 7, 9, 4, 0, 1, 3, 9, 8, 7, 4, 5, 0, 1, 5, 8, 8, 1, 6, 9, 7, 0, 1, 7, 5, 5, 4, 6, 1, 8, 4, 9, 3, 9, 6, 9, 0, 0, 1, 9, 9, 3, 3, 2, 1, 1, 2, 9, 3, 1, 8, 5, 2, 3, 2, 5, 4, 3, 0, 5, 3, 6, 9, 3, 5, 8, 5, 6, 6, 0, 8, 9, 8, 0, 4, 1, 0, 1, 3, 1, 8, 6, 3, 1, 1, 0, 3, 8, 6, 9, 3, 1, 6, 1, 1, 6, 4, 3, 8, 6, 9, 4, 2, 8, 6, 7, 2, 7, 7, 6, 8, 3, 2, 0, 2, 0, 7, 5, 0, 9, 9, 6, 4, 5, 6, 1, 2, 0, 3, 9, 7, 6, 0, 3, 4, 1, 7, 7, 7, 1, 0, 0, 6, 0, 6, 5, 9, 7, 8, 2, 5, 1, 8, 8, 3, 8, 8, 9, 1, 2, 6, 6, 6, 9, 5, 3, 8, 6, 1, 3, 8, 6, 4, 3, 4, 9, 6, 0, 1, 0, 9, 2, 2, 1, 7, 5, 4, 1, 6, 0, 3, 8, 9, 9, 7, 8, 2, 5, 8, 5, 5, 2, 1, 8, 4, 1, 6, 9, 3, 9, 9, 1, 8, 7, 4, 1, 2, 2, 5, 6, 5, 8, 7, 3, 6, 1, 2, 6, 8, 1, 8, 6, 7, 4, 1, 9, 3, 4, 0, 9, 1, 1, 0, 1, 8, 1, 3, 9, 0, 2, 8, 5, 5, 0, 8, 8, 7, 7, 1, 9, 9, 0, 3, 4, 4, 6, 3, 0, 2, 4, 9, 7, 1, 4, 1, 9, 3, 8, 2, 0, 4, 7, 3, 2, 6, 7, 1, 5, 1, 1, 2, 4, 0, 0, 4, 8, 8, 5, 2, 5, 8, 5, 9, 0, 3, 2, 4, 8, 2, 0, 2, 4, 5, 1, 6, 2, 9, 1, 0, 3, 2, 6, 1, 1, 6, 8, 2, 9, 0, 0, 0, 8, 2, 4, 3, 2, 8, 7, 6, 7, 4, 6, 4, 3, 2, 0, 9, 8, 6, 4, 3, 0, 3, 0, 3, 0, 3, 8, 2, 1, 8, 4, 7, 7, 2, 7, 3, 1, 3, 7, 0, 3, 7, 2, 0, 2, 0, 7, 9, 1, 2, 0, 5, 6, 2, 3, 6, 2, 4, 9, 4, 5, 8, 9, 3, 7, 4, 2, 9, 4, 8, 6, 7, 0, 3, 8, 7, 1, 3, 1, 6, 5, 0, 6, 0, 1, 9, 6, 4, 0, 8, 8, 7, 4, 0, 9, 9, 6, 8, 0, 2, 4, 8, 4, 4, 1, 7, 1, 1, 9, 2, 2, 7, 6, 8, 0, 2, 0, 6, 0, 6, 9, 0, 3, 7, 7, 7, 9, 5, 0, 3, 8, 9, 8, 0, 1, 4, 6, 7, 9, 7, 7, 9, 7, 6, 2, 8, 2, 1, 4, 9, 7, 5, 8, 1, 2, 1, 1, 7, 1, 9, 3, 0, 1, 9, 9, 5, 0, 1, 8, 5, 0, 7, 4, 6, 6, 2, 9, 2, 1, 3, 5, 1, 9, 3, 8, 9, 3, 4, 1, 1, 8, 9, 9, 9, 5, 4, 1, 6, 0, 8, 2, 6, 0, 3, 0, 6, 8, 7, 2, 0, 3, 9, 7, 8, 4, 6, 2, 0, 5, 8, 2, 3, 3, 5, 1, 2, 1, 3, 8, 7, 2, 8, 2, 1, 0, 4, 4, 4, 2, 3, 6, 1, 4, 4, 1, 1, 6, 5, 7, 1, 5, 4, 1, 5, 9, 4, 3, 3, 3, 4, 0, 7, 4, 1, 3, 8, 1, 1, 6, 5, 7, 3, 9, 5, 4, 5, 6, 4, 3, 5, 7, 5, 9, 3, 8, 0, 8, 9, 6, 8, 5, 7, 9, 0, 9, 7, 2, 9, 1, 3, 8, 1, 4, 7, 3, 8, 1, 5, 7, 5, 0, 2, 7, 3, 1, 0, 1, 3, 2, 2, 2, 4, 0, 0, 4, 9, 5, 9, 1, 7, 0, 1, 4, 5, 8, 3, 0, 4, 0, 9, 6, 9, 0, 2, 0, 7, 3, 5, 6, 8, 2, 9, 1, 6, 1, 5, 1, 9, 1, 9, 5, 8, 9, 9, 6, 3, 8, 7, 9, 5, 3, 9, 3, 7, 1, 8, 7, 9, 3, 3, 9, 9, 0, 2, 3, 9, 4, 7, 6, 4, 3, 5, 1, 9, 7, 4, 4, 1, 5, 1, 0, 5, 9, 9, 1, 6, 5, 6, 4, 8, 3, 3, 3, 7, 9, 7, 5, 1, 2, 2, 0, 9, 9, 1, 5, 5, 7, 9, 4, 2, 1, 2, 8, 4, 0, 2, 8, 3, 2, 8, 8, 3, 4, 4, 1, 8, 1, 2, 0, 7, 4, 6, 9, 6, 1, 9, 0, 3, 5, 5, 8, 2, 8, 3, 8, 1, 0, 8, 9, 4, 4, 0, 8, 8, 2, 3, 4, 2, 7, 3, 8, 7, 6, 8, 9, 9, 0, 5, 9, 2, 3, 1, 9, 2, 9, 2, 0, 6, 9, 3, 7, 9, 7, 5, 2, 5, 8, 2, 8, 1, 2, 1, 4, 7, 4, 8, 7, 4, 9, 4, 0, 3, 7, 0, 2, 6, 1, 0, 8, 5, 5, 2, 2, 2, 1, 3, 5, 8, 3, 3, 6, 7, 3, 6, 4, 3, 8, 6, 2, 7, 3, 8, 2, 7, 3, 9, 7, 8, 1, 9, 8, 3, 8, 4, 2, 2, 6, 2, 8, 6, 1, 7, 8, 4, 6, 6, 9, 3, 4, 1, 0, 4, 3, 8, 2, 5, 0, 6, 1, 1, 9, 2, 7, 1, 5, 7, 3, 9, 9, 1, 3, 3, 7, 7, 2, 1, 8, 3, 3, 3, 9, 4, 2, 1, 4, 6, 7, 6, 6, 2, 6, 4, 1, 9, 7, 1, 6, 6, 3, 8, 4, 5, 6, 7, 3, 9, 8, 4, 6, 9, 0, 2, 9, 8, 1, 7, 2, 5, 3, 3, 7, 9, 3, 4, 5, 9, 9, 2, 8, 8, 6, 1, 1, 8, 3, 2, 9, 6, 8, 8, 5, 1, 8, 1, 8, 0, 6, 0, 3, 4, 3, 3, 6, 9, 3, 2, 0, 8, 3, 0, 1, 9, 6, 0, 8, 5, 1, 5, 7, 1, 3, 5, 5, 8, 0, 6, 2, 9, 6, 8, 2, 0, 7, 1, 2, 3, 1, 2, 4, 3, 8, 7, 3, 5, 0, 9, 4, 7, 2, 2, 9, 5, 9, 6, 8, 2, 2, 2, 1, 1, 2, 2, 8, 8, 5, 3, 9, 9, 0, 3, 1, 5, 3, 3, 0, 3, 8, 4, 5, 6, 0, 7, 7, 7, 6, 1, 5, 1, 2, 1, 4, 0, 4, 7, 0, 3, 7, 9, 8, 9, 6, 3, 1, 8, 8, 1, 5, 1, 0, 6, 6, 2, 5, 6, 1, 7, 1, 7, 0, 3, 7, 7, 9, 2, 0, 5, 8, 0, 1, 1, 1, 7, 7, 3, 3, 6, 4, 6, 9, 6, 5, 5, 1, 3, 5, 6, 7, 2, 1, 7, 5, 7, 4, 6, 7, 8, 1, 6, 3, 1, 5, 5, 9, 9, 9, 4, 6, 6, 1, 7, 8, 4, 4, 1, 3, 2, 9, 6, 8, 5, 9, 0, 2, 2, 7, 1, 3, 0, 6, 2, 6, 7, 9, 9, 3, 3, 9, 2, 1, 6, 3, 4, 0, 2, 4, 6, 2, 8, 6, 7, 3, 1, 4, 9, 5, 9, 4, 1, 5, 8, 1, 3, 5, 2, 7, 5, 2, 7, 1, 3, 4, 6, 8, 4, 4, 0, 4, 6, 4, 0, 8, 5, 9, 0, 3, 3, 3, 6, 8, 9, 0, 5, 9, 7, 6, 7, 2, 7, 7, 7, 3, 4, 5, 9, 6, 0, 2, 1, 5, 7, 9, 9, 0, 2, 0, 0, 4, 3, 6, 0, 2, 3, 2, 9, 1, 9, 2, 5, 4, 0, 9, 2, 4, 3, 1, 0, 2, 7, 6, 2, 3, 3, 7, 5, 3, 4, 0, 8, 4, 8, 7, 3, 1, 3, 5, 7, 3, 3, 3, 5, 7, 1, 7, 7, 5, 1, 5, 2, 5, 9, 8, 1, 8, 6, 7, 7, 2, 8, 3, 1, 7, 5, 4, 2, 6, 7, 3, 5, 4, 0, 7, 2, 4, 8, 2, 5, 1, 9, 8, 5, 1, 6, 3, 4, 9, 2, 6, 8, 4, 7, 1, 4, 4, 7, 6, 9, 4, 4, 2, 6, 3, 2, 7, 7, 2, 7, 1, 1, 7, 4, 0, 6, 2, 3, 9, 9, 9, 2, 7, 1, 6, 4, 1, 6, 7, 4, 6, 8, 7, 5, 4, 9, 2, 1, 2, 6, 6, 7, 3, 9, 3, 3, 2, 4, 8, 5, 7, 4, 5, 6, 8, 1, 3, 5, 6, 6, 2, 8, 2, 6, 8, 5, 3, 0, 0, 9, 8, 0, 1, 2, 9, 5, 3, 0, 9, 2, 7, 6, 1, 9, 7, 5, 8, 8, 0, 6, 3, 5, 3, 7, 0, 0, 4, 1, 6, 3, 1, 1, 5, 8, 4, 0, 3, 3, 1, 2, 8, 2, 7, 8, 9, 9, 7, 9, 1, 8, 8, 4, 4, 8, 7, 8, 5, 5, 2, 4, 8, 0, 3, 6, 8, 2, 4, 6, 2, 1, 1, 0, 7, 1, 5, 9, 3, 0, 5, 6, 7, 6, 1, 5, 2, 1, 3, 3, 7, 0, 8, 2, 4, 2, 5, 0, 3, 5, 9, 1, 3, 9, 5, 0, 0, 3, 6, 9, 0, 4, 9, 9, 1, 6, 2, 8, 1, 1, 4, 3, 8, 0, 2, 4, 6, 8, 5, 8, 5, 5, 6, 8, 4, 1, 2, 0, 3, 9, 6, 7, 8, 8, 9, 7, 8, 9, 6, 1, 3, 3, 4, 8, 3, 0, 1, 9, 1, 3, 0, 8, 6, 5, 4, 2, 7, 8, 3, 1, 9, 7, 8, 2, 1, 5, 0, 4, 0, 3, 5, 2, 9, 0, 1, 9, 2, 5, 2, 0, 4, 8, 3, 9, 0, 0, 6, 6, 7, 2, 7, 3, 3, 7, 9, 8, 3, 8, 8, 4, 6, 1, 8, 7, 2, 9, 6, 6, 4, 3, 8, 1, 4, 2, 4, 7, 5, 4, 9, 9, 2, 4, 5, 9, 4, 7, 1, 6, 6, 6, 2, 8, 4, 1, 5, 3, 3, 8, 3, 1, 2, 5, 3, 3, 6, 1, 7, 9, 7, 5, 0, 2, 5, 7, 8, 4, 7, 3, 7, 6, 6, 8, 3, 1, 4, 2, 2, 4, 9, 5, 1, 6, 6, 6, 7, 3, 8, 9, 0, 3, 4, 5, 0, 1, 6, 2, 1, 0, 9, 3, 8, 5, 5, 8, 8, 7, 0, 5, 7, 9, 5, 5, 6, 2, 2, 5, 2, 8, 5, 2, 9, 4, 3, 3, 8, 4, 4, 6, 6, 0, 4, 1, 5, 5, 1, 3, 9, 6, 2, 4, 5, 8, 1, 2, 7, 3, 6, 4, 2, 2, 4, 0, 1, 6, 6, 1, 7, 7, 2, 6, 5, 7, 4, 2, 8, 4, 9, 9, 3, 6, 1, 8, 1, 3, 9, 9, 3, 4, 2, 9, 9, 8, 3, 3, 4, 6, 9, 2, 6, 3, 3, 4, 4, 1, 1, 9, 5, 5, 1, 4, 1, 0, 0, 2, 7, 1, 1, 3, 0, 5, 2, 2, 6, 7, 8, 3, 9, 9, 6, 8, 2, 3, 6, 6, 2, 9, 0, 3, 6, 9, 5, 7, 1, 3, 7, 8, 2, 9, 7, 7, 9, 9, 5, 6, 0, 9, 1, 5, 3, 1, 8, 0, 7, 8, 0, 5, 9, 2, 8, 6, 2, 0, 6, 7, 7, 0, 5, 8, 1, 7, 1, 1, 3, 1, 7, 5, 3, 8, 3, 2, 3, 2, 9, 4, 6, 3, 7, 1, 5, 7, 8, 4, 8, 3, 0, 3, 4, 8, 0, 2, 8, 7, 4, 6, 3, 4, 9, 8, 6, 1, 7, 5, 9, 4, 6, 9, 2, 1, 7, 5, 7, 6, 4, 8, 6, 6, 5, 6, 5, 1, 5, 2, 6, 5, 0, 4, 1, 4, 2, 7, 8, 9, 8, 8, 0, 5, 2, 4, 9, 9, 9, 3, 3, 5, 0, 1, 0, 2, 7, 4, 1, 1, 8, 2, 7, 7, 2, 5, 0, 6, 8, 1, 5, 8, 4, 4, 8, 5, 3, 2, 1, 5, 7, 4, 4, 9, 2, 5, 8, 5, 3, 7, 7, 3, 3, 5, 7, 0, 7, 9, 4, 7, 6, 1, 9, 1, 9, 9, 7, 2, 2, 4, 7, 8, 0, 9, 4, 6, 7, 3, 5, 7, 7, 5, 9, 9, 0, 7, 8, 0, 6, 5, 5, 6, 8, 5, 4, 8, 5, 2, 8, 6, 8, 6, 7, 7, 9, 4, 4, 4, 1, 0, 6, 4, 6, 9, 5, 1, 6, 1, 7, 3, 7, 2, 6, 2, 4, 9, 8, 3, 3, 9, 6, 5, 9, 9, 1, 9, 2, 2, 6, 0, 3, 3, 6, 6, 1, 6, 1, 2, 8, 0, 0, 4, 3, 3, 7, 9, 3, 3, 8, 8, 8, 1, 8, 5, 8, 6, 2, 0, 6, 8, 0, 0, 2, 6, 5, 1, 1, 1, 8, 2, 4, 2, 8, 7, 9, 2, 9, 5, 2, 8, 2, 6, 5, 5, 8, 5, 8, 0, 0, 3, 2, 7, 7, 7, 8, 2, 1, 8, 1, 4, 4, 2, 7, 6, 8, 4, 7, 2, 7, 7, 5, 5, 8, 5, 5, 9, 3, 9, 7, 6, 0, 4, 5, 3, 6, 2, 4, 8, 3, 4, 5, 0, 4, 9, 0, 3, 5, 1, 1, 1, 9, 4, 8, 0, 8, 5, 2, 5, 2, 5, 4, 7, 0, 0, 2, 8, 1, 0, 4, 3, 1, 2, 5, 0, 7, 3, 6, 7, 7, 5, 3, 3, 2, 7, 6, 2, 4, 5, 6, 0, 6, 2, 1, 4, 7, 4, 0, 3, 1, 3, 5, 3, 7, 4, 0, 2, 4, 0, 2, 4, 2, 4, 3, 5, 3, 1, 6, 2, 6, 0, 1, 7, 9, 6, 4, 3, 1, 8, 2, 7, 4, 2, 5, 6, 0, 3, 0, 3, 5, 1, 5, 2, 8, 4, 3, 8, 8, 1, 5, 8, 4, 1, 5, 0, 4, 4, 1, 8, 7, 7, 4, 8, 3, 5, 3, 4, 2, 2, 8, 3, 1, 7, 3, 1, 4, 5, 4, 0, 8, 2, 8, 8, 3, 2, 8, 8, 9, 6, 3, 3, 3, 7, 1, 9, 6, 6, 7, 5, 9, 0, 2, 1, 4, 2, 4, 5, 1, 8, 6, 8, 7, 6, 2, 6, 9, 8, 9, 7, 4, 1, 4, 6, 2, 4, 5, 8, 8, 9, 7, 6, 3, 9, 6, 6, 3, 0, 0, 9, 6, 4, 2, 5, 4, 3, 5, 2, 0, 5, 9, 3, 9, 5, 5, 0, 0, 4, 3, 1, 9, 1, 1, 1, 4, 8, 6, 4, 4, 3, 0, 8, 5, 1, 4, 2, 4, 0, 1, 0, 3, 9, 0, 8, 8, 7, 0, 8, 8, 8, 6, 8, 5, 6, 6, 5, 9, 4, 6, 4, 2, 1, 5, 5, 2, 7, 0, 1, 0, 0, 9, 3, 2, 1, 6, 5, 7, 7, 5, 5, 2, 8, 3, 3, 2, 5, 8, 3, 3, 9, 9, 6, 4, 6, 2, 0, 4, 3, 6, 7, 5, 3, 2, 7, 7, 5, 6, 2, 3, 3, 6, 4, 6, 1, 3, 1, 7, 8, 2, 6, 6, 4, 4, 8, 6, 7, 5, 8, 5, 2, 8, 9, 8, 0, 9, 2, 9, 3, 2, 4, 0, 6, 6, 3, 4, 7, 8, 1, 3, 8, 1, 2, 7, 1, 8, 7, 9, 9, 4, 3, 4, 3, 7, 1, 2, 6, 8, 5, 1, 2, 1, 1, 0, 1, 6, 5, 2, 6, 2, 2, 3, 6, 9, 7, 4, 9, 0, 1, 1, 1, 1, 3, 5, 1, 1, 2, 3, 1, 2, 6, 1, 4, 0, 8, 0, 2, 1, 4, 4, 5, 7, 0, 8, 7, 8, 1, 3, 7, 2, 2, 2, 4, 2, 9, 2, 9, 1, 8, 2, 2, 5, 9, 4, 3, 7, 1, 0, 4, 4, 6, 9, 2, 0, 0, 5, 0, 3, 6, 0, 2, 7, 5, 0, 7, 4, 9, 9, 3, 6, 2, 4, 1, 3, 2, 3, 0, 0, 6, 5, 8, 7, 0, 6, 2, 0, 4, 9, 1, 5, 3, 5, 8, 9, 0, 7, 1, 5, 0, 1, 0, 0, 6, 4, 7, 7, 4, 9, 3, 8, 8, 9, 6, 7, 0, 0, 3, 3, 8, 7, 7, 4, 2, 1, 5, 7, 1, 7, 8, 2, 8, 0, 8, 3, 1, 0, 1, 5, 5, 6, 6, 6, 6, 1, 0, 8, 3, 7, 0, 5, 9, 6, 0, 2, 2, 5, 6, 1, 7, 5, 1, 7, 8, 1, 0, 4, 2, 3, 0, 2, 1, 3, 8, 3, 5, 7, 2, 8, 2, 9, 0, 8, 4, 5, 6, 7, 3, 8, 5, 3, 3, 3, 8, 1, 4, 4, 8, 8, 3, 9, 6, 1, 1, 6, 6, 4, 4, 5, 3, 1, 4, 2, 5, 9, 6, 8, 8, 5, 9, 5, 3, 6, 9, 2, 6, 3, 9, 3, 9, 6, 8, 9, 8, 3, 7, 2, 7, 7, 7, 4, 6, 7, 4, 6, 1, 8, 7, 9, 5, 8, 1, 2, 9, 3, 1, 8, 5, 1, 4, 1, 1, 8, 5, 8, 2, 2, 9, 2, 7, 5, 3, 6, 8, 8, 9, 6, 6, 1, 9, 9, 0, 0, 2, 3, 4, 7, 5, 5, 6, 9, 9, 2, 3, 9, 7, 3, 5, 6, 0, 0, 0, 7, 8, 2, 3, 6, 6, 6, 0, 7, 7, 3, 8, 1, 9, 6, 7, 9, 4, 7, 0, 1, 6, 4, 2, 4, 8, 5, 3, 8, 5, 8, 2, 8, 3, 2, 4, 7, 4, 2, 6, 3, 7, 5, 2, 0, 3, 4, 5, 2, 8, 7, 1, 4, 8, 8, 8, 1, 5, 2, 6, 7, 7, 4, 6, 5, 4, 6, 0, 0, 7, 9, 5, 8, 3, 6, 3, 8, 8, 3, 6, 1, 7, 9, 9, 1, 8, 8, 1, 4, 1, 9, 5, 9, 1, 9, 8, 2, 6, 6, 8, 5, 1, 7, 9, 8, 1, 6, 8, 5, 6, 1, 1, 2, 1, 8, 7, 0, 7, 9, 4, 4, 2, 6, 3, 1, 9, 3, 6, 5, 5, 5, 7, 6, 5, 0, 7, 8, 3, 5, 4, 3, 4, 3, 7, 5, 6, 2, 6, 0, 3, 4, 1, 1, 1, 2, 2, 3, 9, 8, 8, 9, 6, 9, 5, 5, 5, 2, 0, 1, 7, 4, 7, 5, 3, 3, 3, 5, 1, 9, 5, 6, 9, 6, 5, 1, 4, 8, 2, 8, 4, 6, 6, 8, 3, 3, 4, 2, 2, 8, 0, 1, 8, 0, 7, 1, 9, 3, 7, 1, 0, 4, 3, 6, 7, 8, 3, 2, 7, 7, 6, 5, 4, 7, 6, 3, 1, 6, 1, 1, 2, 4, 6, 1, 3, 1, 8, 1, 9, 4, 3, 4, 3, 5, 4, 3, 7, 9, 9, 8, 0, 8, 2, 5, 8, 9, 0, 7, 1, 7, 8, 3, 6, 8, 5, 3, 4, 2, 7, 4, 0, 8, 9, 3, 7, 7, 5, 0, 2, 5, 2, 2, 8, 2, 0, 5, 4, 8, 3, 2, 4, 3, 0, 1, 2, 1, 1, 8, 1, 2, 4, 7, 3, 6, 2, 4, 9, 3, 7, 3, 6, 1, 5, 2, 5, 1, 5, 6, 8, 2, 2, 2, 1, 5, 6, 3, 9, 1, 7, 8, 0, 6, 7, 4, 6, 0, 3, 8, 6, 1, 6, 4, 7, 6, 7, 3, 4, 3, 7, 4, 4, 6, 6, 9, 3, 7, 9, 3, 3, 3, 5, 4, 5, 4, 0, 0, 9, 7, 7, 5, 7, 4, 5, 4, 7, 9, 7, 1, 8, 9, 9, 5, 7, 1, 2, 0, 6, 9, 6, 5, 9, 0, 4, 8, 0, 5, 9, 3, 3, 8, 7, 0, 7, 2, 5, 4, 3, 5, 7, 0, 3, 4, 8, 1, 0, 0, 9, 9, 6, 4, 4, 5, 1, 0, 0, 9, 9, 7, 4, 7, 2, 1, 8, 9, 4, 4, 5, 6, 6, 2, 1, 1, 4, 2, 1, 8, 7, 1, 7, 8, 3, 3, 3, 0, 0, 5, 1, 2, 9, 4, 0, 0, 8, 7, 3, 6, 1, 9, 7, 2, 8, 7, 8, 2, 4, 1, 5, 2, 8, 8, 9, 8, 3, 8, 8, 3, 3, 6, 8, 3, 2, 5, 1, 4, 9, 6, 7, 8, 4, 3, 1, 8, 1, 3, 4, 5, 6, 3, 1, 9, 2, 6, 5, 1, 4, 7, 5, 0, 0, 6, 1, 0, 7, 7, 3, 8, 7, 4, 7, 7, 0, 0, 8, 1, 3, 7, 2, 1, 4, 7, 7, 1, 6, 8, 2, 9, 0, 0, 3, 1, 7, 6, 6, 3, 6, 1, 4, 8, 9, 7, 9, 3, 6, 2, 8, 8, 8, 2, 8, 9, 3, 8, 3, 7, 0, 0, 4, 0, 7, 7, 4, 8, 8, 2, 8, 3, 3, 1, 8, 5, 6, 1, 5, 1, 9, 3, 3, 1, 4, 7, 1, 4, 7, 3, 5, 1, 6, 4, 5, 3, 8, 2, 8, 8, 0, 5, 6, 0, 6, 0, 0, 3, 6, 2, 2, 6, 8, 1, 7, 9, 5, 3, 4, 6, 2, 7, 6, 8, 1, 2, 4, 2, 2, 3, 5, 6, 7, 5, 9, 4, 4, 6, 2, 7, 8, 5, 1, 7, 1, 6, 2, 1, 1, 2, 2, 8, 4, 0, 7, 9, 3, 7, 6, 7, 5, 2, 2, 3, 5, 2, 4, 6, 9, 4, 9, 8, 0, 9, 3, 9, 3, 4, 1, 4, 7, 5, 9, 6, 9, 9, 9, 9, 4, 1, 4, 8, 5, 5, 2, 6, 0, 2, 9, 2, 0, 8, 9, 8, 9, 9, 6, 3, 8, 2, 1, 9, 6, 0, 0, 2, 8, 4, 4, 6, 7, 5, 2, 6, 2, 0, 5, 1, 8, 9, 9, 3, 0, 6, 8, 3, 4, 5, 3, 2, 4, 6, 7, 4, 2, 2, 8, 9, 4, 0, 6, 0, 2, 1, 8, 4, 1, 7, 2, 3, 2, 1, 9, 6, 0, 3, 8, 3, 3, 9, 2, 0, 7, 7, 2, 0, 8, 6, 1, 1, 1, 6, 1, 2, 4, 8, 2, 0, 1, 8, 3, 5, 0, 2, 1, 8, 8, 1, 5, 7, 8, 9, 7, 9, 9, 4, 3, 5, 3, 7, 0, 0, 7, 4, 7, 0, 4, 0, 3, 0, 0, 5, 7, 6, 3, 2, 4, 8, 2, 3, 7, 2, 8, 1, 4, 1, 4, 9, 0, 7, 6, 8, 2, 1, 9, 1, 7, 0, 5, 5, 3, 6, 2, 6, 5, 0, 6, 4, 0, 1, 6, 1, 2, 6, 4, 6, 4, 9, 2, 9, 5, 9, 8, 5, 6, 0, 0, 1, 4, 9, 1, 3, 2, 2, 6, 4, 5, 1, 9, 8, 9, 6, 4, 1, 5, 2, 3, 7, 2, 5, 3, 3, 1, 6, 3, 1, 4, 2, 1, 1, 6, 7, 9, 2, 0, 0, 7, 4, 5, 4, 4, 5, 8, 6, 1, 8, 1, 8, 4, 6, 4, 1, 2, 9, 9, 6, 6, 9, 7, 6, 4, 6, 3, 9, 5, 0, 0, 6, 2, 1, 7, 6, 4, 8, 3, 4, 1, 4, 6, 1, 9, 1, 8, 0, 6, 3, 1, 2, 0, 2, 8, 6, 2, 4, 4, 7, 7, 8, 8, 3, 7, 6, 3, 1, 8, 5, 2, 7, 4, 6, 7, 3, 3, 0, 1, 3, 8, 0, 8, 0, 0, 6, 8, 3, 8, 9, 2, 1, 6, 3, 6, 9, 3, 1, 9, 7, 4, 8, 7, 9, 4, 8, 0, 3, 8, 7, 1, 3, 0, 8, 4, 4, 2, 1, 9, 5, 4, 9, 9, 3, 9, 7, 6, 6, 4, 5, 2, 8, 7, 2, 4, 4, 5, 3, 8, 5, 7, 6, 7, 4, 3, 0, 4, 7, 5, 8, 5, 1, 0, 0, 4, 7, 7, 0, 7, 2, 8, 8, 0, 1, 9, 5, 9, 8, 5, 4, 7, 4, 9, 8, 7, 1, 3, 6, 4, 0, 3, 7, 7, 2, 0, 2, 4, 7, 2, 2, 1, 4, 4, 6, 8, 6, 3, 0, 3, 8, 4, 6, 7, 6, 2, 1, 8, 4, 5, 2, 1, 2, 5, 7, 4, 0, 9, 9, 1, 7, 2, 1, 3, 5, 1, 8, 4, 5, 5, 3, 6, 8, 9, 5, 6, 6, 1, 7, 5, 4, 3, 8, 6, 9, 2, 1, 1, 4, 9, 5, 8, 5, 0, 6, 0, 0, 4, 2, 3, 6, 7, 4, 1, 1, 4, 1, 2, 0, 8, 6, 1, 5, 2, 2, 5, 7, 4, 6, 9, 6, 1, 9, 0, 8, 9, 4, 4, 7, 1, 3, 3, 4, 8, 9, 5, 4, 5, 6, 4, 9, 4, 7, 0, 1, 2, 0, 1, 8, 0, 6, 6, 1, 7, 3, 4, 9, 0, 9, 6, 9, 7, 3, 0, 2, 1, 7, 7, 0, 2, 1, 1, 6, 6, 7, 0, 2, 1, 8, 5, 5, 4, 8, 6, 1, 4, 0, 2, 4, 0, 1, 8, 4, 1, 0, 8, 2, 7, 4, 3, 3, 3, 1, 4, 3, 0, 6, 0, 4, 7, 9, 3, 7, 9, 9, 5, 7, 1, 3, 2, 3, 1, 7, 2, 7, 3, 9, 3, 7, 1, 4, 9, 3, 1, 5, 3, 8, 4, 1, 0, 9, 7, 3, 2, 3, 7, 7, 1, 7, 9, 5, 4, 7, 2, 2, 5, 6, 4, 0, 4, 8, 1, 5, 9, 9, 0, 1, 2, 2, 5, 8, 3, 4, 0, 2, 4, 2, 3, 1, 0, 8, 4, 9, 4, 0, 9, 2, 8, 5, 0, 4, 9, 1, 0, 2, 1, 7, 3, 1, 6, 4, 7, 8, 7, 8, 5, 2, 7, 7, 7, 2, 2, 8, 4, 1, 7, 5, 3, 8, 1, 6, 5, 1, 4, 8, 1, 2, 6, 1, 8, 2, 5, 9, 2, 2, 4, 0, 2, 0, 2, 9, 4, 4, 4, 7, 7, 5, 8, 9, 1, 5, 0, 6, 5, 1, 0, 0, 4, 4, 9, 3, 5, 6, 2, 9, 1, 9, 1, 8, 3, 0, 6, 4, 9, 3, 1, 4, 5, 1, 2, 2, 1, 2, 0, 6, 0, 7, 8, 8, 8, 7, 2, 2, 6, 6, 8, 7, 0, 0, 4, 9, 5, 1, 5, 3, 2, 4, 2, 2, 9, 5, 8, 2, 0, 0, 7, 5, 3, 1, 5, 0, 8, 3, 2, 2, 7, 4, 6, 3, 2, 6, 5, 0, 7, 5, 2, 0, 2, 9, 5, 5, 0, 0, 1, 4, 9, 4, 7, 9, 5, 9, 2, 1, 6, 1, 5, 7, 4, 1, 1, 5, 1, 3, 4, 9, 0, 9, 0, 4, 9, 3, 2, 3, 0, 4, 7, 5, 1, 5, 6, 1, 7, 0, 3, 6, 1, 4, 0, 3, 5, 3, 1, 2, 9, 5, 8, 1, 9, 7, 0, 6, 3, 1, 8, 8, 7, 2, 1, 5, 5, 0, 2, 6, 0, 1, 3, 4, 4, 9, 7, 0, 4, 4, 1, 2, 6, 3, 1, 6, 8, 1, 4, 0, 7, 2, 8, 8, 8, 8, 1, 9, 4, 0, 6, 0, 9, 5, 7, 3, 8, 3, 7, 1, 6, 8, 9, 5, 5, 0, 4, 7, 7, 8, 4, 0, 6, 3, 5, 2, 6, 0, 0, 9, 7, 9, 2, 4, 5, 0, 6, 4, 1, 2, 9, 8, 9, 7, 8, 8, 9, 1, 7, 7, 6, 7, 3, 3, 7, 2, 3, 8, 8, 6, 2, 5, 7, 4, 7, 3, 4, 1, 2, 8, 1, 4, 8, 2, 2, 5, 7, 8, 2, 6, 7, 4, 0, 3, 2, 1, 4, 3, 5, 9, 0, 7, 1, 1, 3, 9, 8, 9, 1, 7, 9, 3, 3, 0, 6, 6, 6, 2, 2, 9, 5, 2, 4, 6, 5, 3, 9, 8, 5, 1, 7, 5, 6, 8, 5, 9, 6, 8, 3, 0, 5, 8, 2, 8, 9, 2, 9, 6, 0, 5, 3, 6, 3, 8, 2, 0, 9, 9, 0, 3, 2, 4, 7, 8, 1, 7, 5, 5, 2, 6, 0, 9, 7, 6, 2, 1, 8, 4, 4, 7, 7, 8, 9, 6, 5, 8, 9, 7, 9, 4, 0, 3, 2, 6, 3, 7, 4, 9, 5, 4, 4, 1, 9, 2, 0, 6, 8, 3, 9, 7, 4, 7, 9, 5, 3, 8, 0, 2, 3, 4, 4, 2, 4, 8, 0, 5, 8, 1, 2, 5, 5, 1, 6, 1, 6, 1, 6, 4, 3, 9, 4, 6, 3, 1, 1, 6, 9, 3, 7, 2, 3, 5, 3, 5, 6, 0, 6, 1, 7, 2, 8, 0, 8, 3, 1, 3, 9, 2, 7, 0, 8, 0, 0, 3, 0, 6, 5, 1, 3, 6, 2, 9, 7, 5, 6, 4, 3, 6, 2, 1, 7, 3, 5, 9, 4, 3, 6, 8, 1, 1, 3, 8, 3, 4, 2, 2, 1, 1, 4, 2, 8, 1, 8, 4, 0, 8, 1, 8, 1, 9, 9, 0, 0, 4, 7, 1, 0, 8, 1, 3, 9, 9, 7, 1, 2, 7, 3, 6, 1, 8, 8, 6, 1, 9, 3, 8, 2, 5, 3, 1, 9, 0, 0, 7, 3, 5, 8, 5, 6, 3, 2, 2, 4, 4, 9, 5, 8, 8, 5, 1, 9, 6, 7, 0, 4, 4, 3, 2, 9, 2, 1, 0, 9, 7, 7, 7, 6, 0, 1, 9, 4, 0, 8, 4, 1, 3, 9, 3, 1, 0, 3, 6, 5, 7, 6, 6, 8, 1, 8, 1, 7, 3, 3, 6, 1, 2, 5, 0, 1, 2, 9, 1, 4, 1, 9, 2, 1, 7, 5, 7, 6, 3, 0, 4, 8, 7, 8, 0, 2, 1, 6, 5, 4, 0, 0, 9, 1, 7, 1, 1, 4, 8, 7, 9, 2, 9, 1, 6, 4, 1, 2, 2, 1, 1, 7, 3, 9, 4, 7, 9, 9, 0, 0, 2, 1, 1, 3, 8, 5, 0, 1, 4, 6, 6, 7, 8, 9, 7, 5, 2, 6, 1, 1, 3, 6, 8, 0, 2, 5, 7, 8, 5, 0, 4, 4, 4, 3, 1, 2, 9, 1, 3, 7, 6, 9, 1, 9, 3, 7, 1, 7, 1, 8, 3, 6, 0, 1, 5, 6, 6, 2, 3, 9, 7, 6, 6, 9, 7, 6, 6, 2, 4, 5, 8, 1, 2, 3, 7, 9, 5, 9, 4, 1, 0, 3, 1, 2, 7, 9, 0, 2, 4, 1, 8, 5, 4, 2, 0, 0, 2, 7, 0, 8, 0, 4, 6, 3, 4, 0, 6, 7, 1, 7, 2, 3, 1, 6, 3, 5, 9, 9, 1, 6, 1, 1, 2, 0, 9, 2, 7, 7, 3, 2, 8, 3, 0, 6, 6, 1, 6, 4, 9, 3, 7, 5, 5, 7, 5, 0, 9, 4, 1, 8, 8, 1, 1, 4, 7, 8, 6, 8, 2, 9, 8, 1, 5, 3, 2, 7, 5, 1, 0, 1, 0, 3, 3, 1, 5, 8, 8, 9, 3, 1, 3, 8, 6, 5, 1, 6, 9, 3, 3, 7, 9, 0, 8, 8, 4, 9, 5, 7, 8, 9, 8, 4, 4, 9, 1, 0, 9, 6, 7, 0, 6, 1, 3, 0, 6, 8, 2, 0, 1, 5, 6, 4, 8, 2, 5, 3, 3, 8, 1, 3, 3, 2, 0, 5, 2, 5, 1, 1, 8, 3, 9, 3, 4, 7, 3, 4, 7, 6, 7, 9, 7, 7, 1, 5, 9, 2, 5, 6, 7, 7, 1, 5, 4, 4, 0, 9, 7, 1, 6, 3, 0, 2, 7, 2, 7, 1, 3, 9, 4, 2, 1, 6, 8, 5, 5, 0, 5, 2, 1, 7, 3, 9, 8, 0, 9, 2, 9, 9, 6, 6, 3, 2, 6, 9, 5, 5, 4, 1, 1, 4, 6, 0, 7, 5, 8, 0, 0, 3, 9, 8, 1, 0, 9, 2, 6, 2, 0, 2, 8, 0, 0, 7, 3, 7, 5, 1, 1, 5, 7, 7, 7, 3, 4, 1, 0, 6, 9, 9, 6, 9, 1, 5, 4, 5, 8, 9, 9, 1, 1, 7, 9, 1, 7, 7, 6, 5, 8, 2, 2, 1, 3, 6, 8, 5, 2, 7, 1, 4, 0, 8, 5, 8, 5, 1, 3, 4, 5, 5, 2, 1, 3, 5, 2, 2, 9, 4, 4, 9, 5, 9, 1, 3, 2, 9, 6, 2, 2, 0, 7, 5, 7, 3, 2, 9, 4, 6, 2, 9, 2, 2, 8, 1, 0, 0, 9, 0, 6, 2, 4, 1, 0, 4, 3, 1, 1, 4, 9, 0, 8, 2, 9, 5, 0, 2, 3, 0, 7, 2, 2, 6, 0, 1, 1, 1, 7, 6, 1, 7, 7, 8, 6, 5, 0, 9, 1, 4, 2, 3, 4, 9, 9, 2, 6, 5, 0, 5, 3, 7, 3, 3, 4, 4, 7, 8, 1, 9, 3, 4, 5, 2, 7, 4, 3, 5, 7, 4, 1, 8, 4, 3, 7, 6, 2, 3, 0, 7, 1, 4, 3, 9, 9, 1, 7, 5, 6, 8, 4, 1, 1, 5, 2, 2, 2, 8, 4, 0, 7, 6, 4, 3, 2, 3, 1, 7, 6, 7, 6, 8, 9, 0, 2, 3, 6, 9, 6, 9, 4, 6, 9, 5, 9, 7, 1, 5, 9, 3, 2, 7, 8, 7, 8, 1, 6, 1, 8, 9, 7, 7, 1, 6, 0, 5, 8, 5, 7, 1, 4, 7, 2, 1, 7, 6, 6, 2, 4, 2, 3, 5, 5, 2, 9, 0, 2, 8, 3, 7, 8, 2, 0, 7, 2, 7, 2, 9, 1, 2, 0, 2, 9, 3, 0, 6, 2, 8, 0, 3, 7, 4, 1, 9, 0, 3, 1, 4, 5, 7, 9, 3, 1, 9, 5, 0, 4, 7, 2, 2, 1, 9, 5, 7, 2, 6, 2, 6, 7, 7, 8, 0, 5, 2, 7, 0, 2, 0, 2, 0, 2, 4, 2, 5, 9, 2, 8, 2, 7, 5, 1, 4, 2, 5, 6, 1, 9, 8, 8, 9, 4, 5, 5, 6, 8, 6, 0, 6, 5, 0, 0, 6, 9, 5, 4, 4, 1, 2, 2, 2, 1, 7, 7, 8, 0, 0, 1, 6, 5, 4, 2, 0, 2, 5, 7, 8, 5, 2, 4, 4, 9, 4, 4, 6, 6, 4, 0, 3, 9, 1, 3, 2, 4, 0, 0, 1, 1, 7, 6, 2, 5, 1, 2, 7, 5, 1, 8, 0, 1, 5, 7, 8, 5, 9, 1, 2, 7, 7, 0, 0, 1, 7, 3, 0, 3, 1, 4, 1, 3, 8, 3, 7, 3, 9, 1, 7, 7, 1, 2, 6, 5, 8, 0, 3, 2, 0, 6, 5, 4, 6, 7, 0, 3, 4, 6, 3, 5, 2, 7, 7, 5, 5, 4, 9, 0, 3, 1, 5, 3, 1, 2, 0, 2, 7, 8, 9, 4, 2, 9, 2, 5, 9, 5, 3, 4, 2, 6, 6, 5, 1, 9, 9, 7, 7, 7, 7, 4, 4, 8, 8, 7, 6, 1, 4, 4, 9, 0, 9, 6, 7, 0, 9, 4, 1, 9, 6, 7, 3, 7, 6, 0, 6, 9, 9, 9, 4, 2, 5, 5, 3, 0, 3, 6, 1, 8, 4, 6, 2, 7, 2, 7, 9, 9, 3, 4, 7, 1, 7, 6, 6, 1, 5, 0, 1, 3, 0, 1, 3, 2, 6, 5, 3, 4, 3, 9, 9, 3, 3, 0, 7, 5, 9, 6, 6, 4, 6, 5, 7, 3, 6, 1, 6, 8, 6, 7, 7, 1, 6, 0, 4, 2, 2, 5, 8, 9, 1, 9, 2, 3, 5, 7, 9, 1, 5, 7, 1, 8, 8, 5, 6, 7, 6, 0, 7, 6, 3, 1, 0, 7, 9, 5, 7, 8, 1, 0, 9, 9, 4, 0, 0, 7, 7, 4, 4, 7, 1, 5, 7, 1, 3, 3, 0, 0, 9, 1, 7, 0, 2, 0, 1, 5, 0, 3, 7, 9, 2, 4, 4, 9, 8, 2, 0, 4, 3, 6, 1, 9, 4, 8, 9, 6, 8, 9, 4, 9, 8, 5, 9, 2, 3, 8, 6, 5, 4, 5, 0, 1, 9, 0, 5, 8, 1, 1, 5, 4, 8, 2, 5, 9, 5, 1, 1, 8, 8, 0, 8, 4, 1, 9, 3, 2, 0, 2, 4, 4, 0, 6, 0, 1, 9, 9, 9, 4, 1, 4, 9, 1, 6, 5, 1, 1, 3, 1, 7, 4, 6, 3, 9, 5, 7, 7, 5, 4, 8, 5, 5, 2, 4, 8, 8, 3, 1, 1, 3, 2, 9, 0, 4, 9, 4, 9, 0, 3, 3, 1, 4, 2, 0, 4, 1, 0, 7, 1, 9, 4, 8, 1, 4, 7, 8, 8, 1, 5, 4, 3, 0, 5, 9, 5, 9, 5, 0, 9, 5, 1, 7, 8, 8, 7, 2, 1, 9, 9, 6, 3, 8, 8, 7, 9, 7, 6, 3, 3, 5, 3, 2, 0, 1, 8, 1, 1, 9, 1, 3, 0, 6, 2, 0, 0, 6, 9, 0, 1, 7, 3, 2, 6, 7, 7, 7, 7, 2, 2, 8, 1, 0, 9, 0, 2, 0, 7, 3, 7, 4, 5, 7, 5, 1, 1, 6, 7, 6, 7, 2, 6, 1, 0, 8, 2, 9, 8, 4, 5, 2, 6, 2, 1, 1, 3, 1, 1, 6, 3, 8, 3, 6, 7, 6, 0, 9, 8, 2, 9, 6, 0, 5, 8, 0, 1, 0, 8, 7, 2, 9, 6, 9, 0, 2, 4, 1, 2, 0, 1, 4, 7, 6, 6, 9, 1, 7, 0, 7, 1, 1, 8, 8, 5, 2, 9, 1, 3, 0, 0, 7, 5, 9, 0, 3, 2, 6, 7, 5, 3, 2, 1, 9, 4, 6, 5, 9, 1, 8, 8, 8, 1, 8, 8, 3, 4, 1, 5, 6, 2, 1, 8, 6, 4, 6, 3, 6, 8, 1, 5, 0, 5, 0, 0, 9, 8, 1, 9, 0, 1, 8, 4, 2, 5, 4, 3, 1, 4, 2, 3, 4, 5, 0, 0, 3, 0, 6, 6, 1, 9, 1, 4, 9, 8, 2, 0, 4, 1, 5, 6, 4, 9, 4, 1, 0, 4, 1, 7, 0, 7, 3, 6, 7, 9, 6, 2, 6, 8, 5, 0, 8, 3, 1, 0, 2, 2, 5, 5, 1, 8, 1, 9, 1, 6, 9, 9, 9, 3, 2, 0, 7, 3, 1, 6, 2, 3, 8, 5, 1, 6, 7, 9, 3, 9, 5, 5, 5, 4, 3, 9, 4, 0, 3, 7, 8, 5, 3, 1, 5, 0, 7, 9, 0, 4, 0, 0, 4, 8, 5, 1, 8, 9, 0, 0, 7, 4, 5, 8, 6, 9, 4, 7, 7, 1, 6, 8, 3, 4, 7, 6, 3, 0, 1, 9, 6, 5, 3, 9, 2, 3, 0, 1, 2, 8, 9, 8, 3, 9, 3, 3, 8, 9, 2, 7, 9, 2, 9, 7, 5, 2, 4, 8, 5, 7, 4, 5, 9, 4, 7, 5, 6, 0, 3, 6, 5, 0, 4, 8, 3, 9, 2, 7, 0, 7, 7, 2, 9, 3, 2, 0, 6, 2, 4, 0, 1, 4, 0, 6, 7, 0, 0, 5, 5, 2, 1, 3, 7, 1, 2, 6, 3, 8, 7, 0, 3, 9, 5, 4, 2, 3, 2, 8, 0, 0, 7, 7, 3, 3, 5, 8, 2, 7, 8, 9, 5, 1, 1, 3, 6, 1, 2, 3, 5, 2, 2, 1, 3, 7, 3, 7, 5, 6, 9, 7, 4, 9, 0, 8, 8, 6, 7, 1, 5, 7, 4, 9, 0, 9, 3, 6, 1, 7, 2, 4, 3, 3, 9, 7, 3, 6, 0, 0, 1, 3, 6, 5, 2, 8, 9, 7, 5, 2, 5, 8, 0, 9, 7, 6, 7, 6, 2, 3, 3, 7, 7, 3, 2, 0, 3, 4, 6, 8, 2, 3, 1, 1, 6, 9, 2, 1, 8, 1, 8, 3, 0, 6, 3, 2, 4, 3, 9, 2, 0, 9, 5, 9, 5, 2, 7, 5, 8, 0, 3, 1, 9, 1, 0, 1, 9, 5, 9, 2, 2, 2, 1, 5, 9, 2, 2, 6, 8, 3, 9, 1, 9, 1, 0, 3, 2, 9, 7, 4, 4, 2, 2, 6, 1, 1, 9, 1, 5, 2, 1, 3, 0, 5, 6, 8, 3, 6, 2, 7, 9, 0, 8, 5, 7, 4, 6, 9, 8, 3, 7, 5, 2, 7, 6, 6, 7, 7, 8, 6, 2, 3, 8, 9, 8, 5, 7, 3, 5, 2, 8, 8, 8, 0, 6, 6, 0, 0, 0, 1, 0, 6, 3, 4, 2, 0, 6, 2, 0, 9, 8, 1, 6, 7, 5, 1, 9, 1, 8, 9, 0, 8, 1, 2, 4, 8, 5, 1, 5, 3, 6, 1, 9, 2, 6, 7, 5, 5, 4, 2, 7, 5, 5, 2, 4, 3, 1, 9, 1, 6, 1, 7, 1, 3, 4, 6, 7, 9, 7, 1, 3, 0, 1, 8, 5, 2, 1, 1, 9, 4, 9, 3, 4, 1, 5, 3, 0, 1, 0, 6, 7, 3, 7, 5, 0, 7, 7, 7, 7, 1, 4, 9, 6, 9, 9, 5, 7, 1, 8, 8, 9, 4, 1, 6, 7, 3, 4, 4, 8, 3, 2, 7, 4, 9, 1, 9, 0, 4, 8, 6, 3, 5, 3, 7, 1, 5, 7, 9, 7, 0, 3, 1, 7, 2, 7, 0, 1, 5, 2, 6, 7, 5, 7, 4, 6, 7, 2, 8, 2, 8, 5, 6, 7, 9, 7, 8, 2, 4, 9, 5, 4, 4, 9, 6, 7, 1, 8, 6, 0, 3, 2, 7, 5, 9, 5, 2, 3, 5, 5, 7, 9, 7, 9, 2, 2, 8, 5, 2, 7, 5, 0, 1, 1, 8, 0, 8, 5, 6, 3, 0, 8, 4, 9, 6, 4, 1, 0, 9, 3, 3, 4, 2, 8, 1, 1, 6, 5, 1, 2, 7, 8, 6, 2, 8, 7, 8, 9, 7, 7, 0, 2, 3, 0, 8, 9, 8, 4, 4, 3, 9, 7, 7, 9, 3, 3, 3, 3, 8, 0, 6, 2, 7, 7, 2, 5, 2, 7, 8, 0, 5, 3, 4, 4, 3, 2, 5, 2, 0, 9, 7, 2, 6, 1, 0, 4, 5, 3, 2, 7, 4, 4, 4, 6, 4, 7, 9, 2, 1, 8, 8, 3, 5, 2, 9, 1, 2, 7, 1, 4, 4, 6, 5, 7, 2, 6, 4, 9, 1, 6, 9, 0, 9, 8, 1, 1, 0, 0, 9, 6, 1, 1, 4, 0, 7, 3, 7, 1, 0, 3, 2, 3, 9, 7, 4, 0, 7, 5, 5, 4, 1, 4, 8, 7, 0, 0, 3, 1, 0, 6, 1, 1, 7, 7, 6, 8, 0, 5, 5, 9, 2, 2, 5, 9, 8, 5, 2, 9, 8, 6, 7, 1, 0, 3, 8, 5, 1, 9, 1, 3, 1, 2, 2, 5, 3, 4, 7, 3, 4, 8, 7, 0, 5, 6, 8, 3, 3, 4, 6, 3, 1, 3, 7, 1, 8, 1, 1, 9, 4, 1, 3, 6, 1, 3, 1, 5, 2, 7, 2, 6, 1, 8, 9, 4, 7, 1, 6, 6, 7, 4, 0, 2, 3, 3, 1, 7, 6, 0, 7, 8, 7, 8, 2, 3, 2, 6, 7, 2, 9, 8, 7, 6, 1, 6, 0, 3, 6, 4, 4, 9, 4, 7, 1, 5, 9, 9, 2, 6, 9, 1, 1, 9, 9, 4, 2, 7, 9, 2, 7, 2, 7, 8, 8, 6, 3, 6, 7, 6, 2, 1, 9, 8, 1, 2, 0, 8, 5, 9, 5, 9, 5, 1, 5, 1, 7, 3, 8, 4, 8, 5, 2, 9, 7, 7, 3, 1, 1, 8, 9, 1, 0, 3, 8, 4, 0, 0, 7, 4, 5, 3, 7, 9, 2, 1, 2, 2, 3, 4, 4, 7, 1, 7, 3, 3, 7, 7, 2, 9, 2, 4, 2, 0, 9, 6, 8, 2, 1, 3, 9, 5, 2, 0, 2, 4, 0, 9, 6, 5, 9, 1, 1, 9, 5, 0, 4, 5, 9, 5, 2, 0, 8, 6, 1, 9, 8, 2, 9, 5, 8, 0, 6, 0, 9, 9, 9, 7, 3, 4, 7, 8, 1, 4, 6, 7, 3, 0, 3, 1, 8, 2, 3, 2, 9, 6, 6, 7, 6, 4, 9, 4, 9, 8, 1, 3, 7, 7, 1, 8, 6, 9, 0, 7, 0, 3, 4, 0, 2, 0, 2, 7, 2, 8, 0, 9, 1, 4, 2, 0, 5, 1, 0, 6, 3, 5, 7, 3, 6, 6, 5, 1, 0, 3, 6, 4, 4, 4, 7, 9, 5, 3, 7, 7, 8, 4, 0, 4, 9, 6, 3, 9, 6, 6, 0, 9, 9, 4, 1, 9, 2, 8, 4, 5, 1, 3, 8, 1, 5, 6, 2, 2, 3, 6, 9, 4, 1, 2, 1, 6, 6, 5, 3, 0, 1, 7, 1, 4, 1, 9, 0, 7, 7, 8, 1, 4, 7, 7, 7, 3, 2, 5, 7, 6, 0, 3, 4, 7, 7, 9, 4, 2, 5, 0, 6, 7, 6, 0, 7, 4, 9, 0, 2, 9, 3, 2, 4, 8, 2, 1, 0, 7, 3, 3, 2, 1, 4, 0, 2, 7, 8, 6, 8, 1, 3, 1, 9, 1, 3, 9, 2, 6, 1, 1, 1, 7, 9, 6, 9, 6, 4, 0, 4, 6, 0, 5, 2, 7, 1, 3, 7, 3, 2, 4, 2, 6, 8, 8, 3, 4, 5, 3, 1, 6, 4, 5, 0, 6, 5, 1, 7, 3, 5, 1, 1, 8, 4, 8, 1, 9, 6, 9, 1, 5, 2, 4, 3, 8, 0, 8, 1, 9, 6, 9, 7, 4, 8, 2, 3, 2, 5, 5, 9, 1, 4, 8, 9, 4, 7, 9, 6, 3, 9, 7, 8, 2, 8, 1, 7, 1, 0, 4, 8, 8, 1, 4, 7, 0, 8, 4, 0, 5, 8, 6, 0, 7, 7, 5, 5, 6, 1, 6, 8, 0, 0, 3, 6, 1, 6, 0, 7, 2, 9, 1, 6, 9, 7, 5, 4, 3, 8, 4, 2, 2, 8, 6, 2, 8, 8, 1, 5, 4, 9, 1, 0, 2, 2, 0, 6, 1, 3, 4, 9, 0, 8, 0, 8, 9, 4, 4, 7, 9, 1, 7, 9, 8, 8, 7, 9, 8, 1, 3, 7, 4, 5, 3, 0, 5, 7, 4, 3, 1, 3, 0, 9, 8, 9, 6, 6, 1, 0, 6, 0, 1, 1, 0, 3, 4, 2, 2, 1, 9, 1, 1, 6, 4, 2, 1, 0, 7, 3, 1, 1, 4, 8, 4, 3, 7, 1, 7, 9, 9, 0, 1, 9, 1, 6, 0, 1, 4, 7, 8, 0, 2, 9, 3, 8, 1, 1, 2, 6, 7, 7, 0, 4, 5, 2, 1, 3, 1, 2, 1, 3, 9, 0, 8, 1, 4, 0, 8, 6, 0, 8, 2, 0, 0, 5, 7, 4, 6, 1, 1, 4, 3, 5, 9, 8, 7, 6, 8, 5, 2, 0, 3, 8, 8, 2, 0, 2, 4, 7, 2, 4, 2, 7, 8, 3, 7, 2, 8, 0, 5, 8, 7, 9, 7, 0, 9, 4, 2, 0, 7, 6, 3, 5, 1, 7, 7, 8, 2, 4, 6, 2, 7, 9, 3, 2, 9, 1, 5, 9, 8, 5, 9, 7, 6, 1, 7, 6, 3, 0, 4, 3, 8, 4, 7, 3, 6, 1, 3, 0, 5, 1, 6, 3, 9, 0, 1, 2, 0, 6, 7, 2, 0, 1, 2, 2, 2, 7, 6, 4, 0, 3, 7, 4, 2, 1, 1, 3, 9, 0, 0, 7, 3, 3, 2, 1, 7, 9, 0, 5, 1, 2, 6, 7, 4, 2, 2, 6, 1, 1, 4, 4, 1, 4, 3, 4, 8, 1, 7, 5, 7, 0, 8, 6, 1, 3, 0, 7, 3, 7, 1, 1, 7, 6, 9, 4, 3, 6, 0, 6, 2, 9, 2, 6, 1, 9, 1, 7, 0, 7, 3, 5, 3, 0, 7, 9, 8, 2, 6, 3, 9, 1, 4, 1, 2, 6, 6, 4, 1, 7, 1, 4, 8, 0, 9, 8, 9, 7, 4, 1, 5, 0, 2, 1, 8, 7, 3, 2, 6, 4, 8, 3, 1, 6, 9, 8, 2, 7, 0, 1, 9, 3, 7, 7, 7, 7, 9, 5, 2, 3, 6, 6, 0, 2, 9, 3, 7, 2, 1, 3, 2, 6, 7, 2, 0, 1, 8, 2, 5, 1, 9, 3, 6, 8, 8, 1, 1, 3, 1, 7, 9, 4, 1, 8, 1, 6, 6, 4, 1, 2, 6, 9, 3, 3, 1, 0, 5, 2, 8, 3, 5, 2, 4, 8, 6, 1, 1, 5, 5, 8, 7, 4, 7, 2, 0, 9, 7, 8, 1, 7, 9, 2, 1, 2, 1, 6, 4, 3, 1, 6, 9, 2, 2, 0, 1, 1, 0, 4, 6, 4, 8, 0, 9, 1, 4, 0, 2, 8, 5, 7, 2, 7, 3, 1, 8, 5, 2, 4, 8, 0, 4, 1, 6, 4, 8, 2, 6, 2, 4, 7, 9, 4, 7, 6, 8, 0, 2, 4, 8, 3, 1, 0, 8, 7, 5, 4, 0, 3, 8, 3, 4, 4, 6, 8, 6, 4, 0, 2, 6, 9, 8, 0, 3, 4, 3, 0, 8, 9, 1, 7, 1, 3, 0, 8, 4, 7, 0, 2, 6, 1, 3, 6, 0, 4, 6, 6, 7, 6, 3, 0, 9, 9, 0, 2, 8, 9, 3, 6, 1, 6, 2, 3, 7, 5, 8, 8, 3, 3, 0, 9, 6, 2, 7, 0, 9, 9, 1, 2, 6, 6, 1, 4, 8, 8, 9, 3, 9, 7, 1, 6, 2, 7, 9, 8, 8, 0, 1, 0, 0, 2, 4, 4, 9, 1, 0, 1, 6, 2, 5, 6, 3, 7, 6, 8, 0, 4, 7, 6, 7, 1, 5, 4, 7, 2, 7, 7, 8, 2, 3, 4, 4, 8, 0, 6, 6, 9, 4, 6, 2, 4, 6, 8, 1, 6, 9, 6, 5, 6, 2, 7, 6, 9, 6, 7, 1, 6, 8, 3, 7, 7, 8, 4, 4, 6, 1, 6, 0, 1, 8, 3, 1, 1, 7, 9, 3, 6, 8, 5, 2, 9, 1, 4, 1, 4, 5, 9, 6, 6, 5, 1, 3, 1, 1, 4, 2, 1, 5, 5, 0, 7, 3, 9, 2, 8, 8, 9, 8, 6, 7, 4, 6, 0, 7, 2, 8, 4, 3, 8, 1, 3, 9, 1, 0, 9, 5, 8, 0, 7, 1, 4, 7, 8, 7, 8, 3, 5, 0, 4, 4, 5, 3, 4, 9, 7, 1, 3, 5, 2, 5, 7, 0, 1, 2, 7, 9, 5, 8, 1, 1, 1, 0, 1, 6, 5, 1, 7, 5, 1, 5, 7, 5, 0, 9, 5, 7, 4, 2, 7, 3, 1, 8, 6, 3, 6, 5, 1, 6, 9, 7, 6, 2, 3, 1, 7, 9, 9, 5, 2, 2, 4, 0, 7, 6, 6, 1, 1, 1, 8, 7, 1, 7, 2, 7, 9, 2, 2, 4, 0, 0, 1, 2, 4, 9, 2, 7, 4, 2, 9, 8, 2, 4, 3, 4, 8, 8, 3, 4, 3, 3, 7, 6, 8, 5, 2, 9, 9, 1, 1, 3, 3, 0, 6, 9, 3, 8, 5, 0, 3, 9, 1, 1, 6, 4, 2, 9, 2, 3, 6, 4, 1, 9, 0, 3, 8, 5, 1, 5, 4, 3, 8, 1, 5, 0, 8, 3, 2, 9, 0, 9, 0, 9, 0, 0, 5, 4, 3, 1, 7, 7, 4, 0, 2, 6, 2, 4, 0, 1, 3, 0, 7, 8, 9, 9, 7, 1, 5, 2, 4, 8, 7, 1, 1, 6, 2, 3, 2, 8, 8, 9, 5, 9, 4, 4, 6, 2, 9, 7, 9, 5, 0, 6, 3, 0, 1, 5, 4, 8, 9, 9, 9, 4, 5, 3, 7, 3, 9, 7, 5, 0, 6, 4, 2, 9, 0, 8, 2, 3, 2, 2, 1, 7, 6, 3, 6, 9, 7, 2, 3, 4, 6, 6, 4, 5, 8, 1, 4, 4, 1, 3, 0, 6, 7, 6, 1, 1, 2, 6, 9, 8, 6, 4, 1, 0, 7, 5, 1, 9, 3, 1, 3, 8, 0, 8, 7, 2, 6, 2, 7, 8, 0, 1, 2, 4, 8, 2, 7, 0, 0, 3, 4, 7, 2, 9, 3, 8, 5, 1, 7, 9, 3, 3, 2, 5, 0, 1, 3, 5, 2, 8, 9, 9, 9, 2, 4, 1, 4, 1, 4, 6, 0, 8, 4, 9, 1, 6, 4, 9, 0, 1, 4, 7, 9, 3, 9, 9, 4, 4, 5, 6, 0, 0, 7, 7, 0, 6, 8, 1, 8, 8, 1, 4, 7, 4, 2, 9, 1, 5, 4, 7, 6, 7, 4, 2, 3, 9, 7, 1, 6, 5, 5, 1, 3, 7, 4, 1, 5, 8, 5, 6, 5, 0, 0, 8, 3, 9, 0, 5, 4, 6, 7, 4, 6, 9, 6, 4, 7, 8, 8, 0, 3, 2, 4, 6, 0, 6, 6, 5, 0, 5, 1, 5, 7, 7, 3, 7, 0, 3, 0, 3, 5, 3, 8, 7, 6, 0, 9, 3, 5, 0, 2, 7, 6, 6, 4, 7, 8, 7, 1, 1, 2, 9, 6, 1, 0, 2, 2, 8, 1, 3, 5, 2, 5, 9, 8, 8, 6, 6, 5, 0, 1, 6, 9, 5, 2, 7, 2, 3, 4, 1, 8, 9, 4, 0, 7, 2, 1, 0, 9, 5, 6, 8, 0, 3, 5, 7, 5, 5, 8, 7, 2, 3, 6, 1, 1, 9, 5, 3, 1, 3, 3, 6, 8, 3, 5, 0, 7, 1, 5, 8, 5, 5, 6, 1, 3, 2, 8, 1, 1, 9, 8, 5, 9, 5, 5, 1, 7, 1, 1, 6, 5, 7, 2, 3, 3, 5, 7, 3, 9, 2, 3, 5, 1, 6, 8, 7, 7, 0, 3, 6, 7, 1, 9, 6, 3, 7, 0, 6, 9, 4, 2, 1, 1, 2, 9, 8, 3, 2, 0, 2, 3, 7, 6, 9, 6, 6, 6, 4, 6, 1, 0, 2, 3, 0, 4, 7, 6, 8, 8, 7, 2, 6, 3, 2, 2, 4, 7, 0, 0, 1, 0, 0, 0, 3, 8, 1, 8, 0, 1, 9, 3, 0, 9, 5, 5, 5, 5, 1, 3, 8, 7, 3, 2, 0, 6, 6, 6, 7, 4, 1, 7, 5, 2, 1, 4, 7, 2, 4, 0, 6, 4, 4, 5, 1, 5, 8, 8, 7, 7, 7, 1, 5, 4, 6, 7, 2, 7, 1, 5, 9, 9, 7, 8, 2, 1, 8, 6, 6, 1, 4, 1, 0, 0, 8, 1, 2, 8, 9, 3, 2, 9, 9, 7, 0, 8, 0, 0, 0, 7, 3, 5, 4, 1, 4, 0, 2, 0, 0, 2, 2, 8, 3, 5, 6, 8, 7, 2, 4, 3, 9, 6, 4, 9, 5, 6, 1, 2, 3, 1, 1, 2, 2, 3, 2, 7, 0, 6, 9, 0, 1, 0, 8, 8, 6, 4, 2, 0, 9, 9, 6, 1, 6, 7, 9, 0, 1, 3, 1, 2, 7, 8, 9, 2, 9, 1, 0, 7, 6, 5, 0, 5, 3, 5, 5, 8, 7, 3, 3, 2, 3, 3, 6, 6, 3, 1, 1, 4, 6, 8, 5, 3, 9, 5, 4, 1, 6, 7, 0, 2, 0, 8, 1, 7, 5, 2, 8, 3, 3, 1, 1, 3, 2, 0, 8, 1, 6, 8, 3, 0, 3, 0, 4, 2, 4, 8, 1, 3, 2, 3, 6, 5, 8, 5, 7, 0, 1, 9, 8, 0, 8, 0, 5, 6, 1, 4, 8, 7, 1, 3, 4, 0, 3, 6, 3, 0, 3, 8, 4, 5, 8, 1, 2, 0, 4, 9, 3, 3, 3, 7, 3, 5, 3, 1, 6, 0, 5, 9, 5, 1, 5, 5, 6, 9, 7, 0, 1, 1, 6, 8, 5, 9, 0, 6, 5, 0, 8, 2, 1, 3, 0, 5, 6, 5, 6, 1, 8, 0, 0, 5, 9, 7, 9, 5, 2, 2, 9, 4, 8, 8, 3, 4, 7, 4, 8, 5, 3, 7, 7, 1, 6, 7, 2, 0, 1, 2, 2, 3, 5, 6, 1, 7, 7, 9, 3, 4, 2, 8, 0, 6, 8, 9, 8, 7, 8, 7, 8, 7, 1, 0, 9, 6, 3, 7, 5, 7, 2, 3, 5, 6, 6, 4, 8, 5, 7, 6, 6, 2, 6, 4, 1, 4, 6, 6, 2, 1, 6, 6, 1, 5, 8, 0, 7, 4, 6, 4, 6, 3, 1, 1, 6, 6, 9, 3, 9, 2, 6, 5, 1, 5, 7, 5, 3, 9, 6, 6, 8, 6, 5, 9, 6, 0, 6, 2, 4, 6, 2, 2, 3, 4, 6, 0, 7, 5, 3, 0, 5, 1, 3, 1, 8, 8, 9, 8, 6, 1, 4, 2, 3, 8, 8, 7, 1, 4, 1, 0, 0, 5, 0, 9, 9, 9, 2, 1, 6, 4, 4, 9, 1, 3, 8, 4, 0, 4, 5, 0, 4, 1, 6, 2, 4, 1, 5, 9, 1, 7, 5, 8, 2, 3, 5, 9, 8, 9, 2, 4, 6, 1, 9, 9, 0, 1, 4, 1, 7, 1, 5, 1, 1, 4, 5, 6, 7, 3, 5, 2, 0, 1, 7, 1, 6, 8, 6, 7, 7, 3, 8, 8, 7, 7, 1, 3, 2, 0, 5, 0, 4, 2, 8, 6, 4, 7, 8, 8, 4, 1, 7, 1, 4, 0, 5, 3, 6, 6, 0, 6, 8, 1, 1, 9, 8, 2, 0, 3, 7, 0, 3, 6, 1, 6, 6, 1, 2, 1, 0, 1, 3, 0, 5, 8, 2, 7, 6, 2, 1, 4, 0, 5, 1, 3, 1, 6, 1, 9, 6, 2, 8, 0, 2, 0, 0, 6, 3, 4, 8, 4, 0, 0, 5, 4, 0, 2, 8, 4, 0, 5, 6, 6, 8, 1, 2, 4, 4, 7, 2, 1, 5, 2, 6, 6, 3, 8, 8, 1, 8, 1, 5, 5, 0, 1, 9, 9, 9, 5, 3, 7, 9, 9, 8, 2, 3, 4, 8, 5, 4, 0, 7, 2, 1, 4, 4, 7, 2, 9, 7, 4, 5, 5, 4, 0, 2, 2, 6, 6, 5, 3, 7, 6, 1, 2, 8, 2, 0, 8, 9, 9, 6, 5, 4, 9, 6, 5, 1, 6, 2, 7, 8, 7, 6, 4, 1, 6, 3, 9, 2, 6, 1, 8, 7, 4, 0, 6, 4, 5, 9, 5, 6, 3, 3, 2, 0, 4, 2, 9, 4, 1, 3, 4, 7, 4, 5, 9, 4, 7, 7, 8, 6, 4, 4, 0, 0, 0, 7, 7, 0, 7, 0, 6, 0, 0, 0, 1, 5, 4, 6, 8, 5, 5, 4, 9, 1, 3, 1, 0, 2, 6, 5, 4, 2, 1, 9, 6, 7, 7, 8, 3, 8, 4, 4, 9, 3, 0, 7, 1, 1, 0, 5, 6, 8, 1, 0, 3, 3, 1, 7, 9, 9, 5, 1, 7, 5, 7, 7, 2, 7, 6, 6, 5, 3, 8, 1, 1, 1, 3, 4, 6, 6, 1, 5, 7, 4, 6, 8, 1, 7, 1, 5, 9, 0, 6, 3, 1, 2, 8, 3, 9, 8, 3, 9, 7, 2, 8, 4, 3, 9, 1, 1, 3, 1, 7, 5, 0, 2, 4, 5, 8, 4, 2, 8, 2, 5, 3, 3, 5, 7, 6, 8, 8, 5, 8, 1, 9, 9, 8, 7, 1, 9, 7, 8, 6, 6, 2, 1, 7, 3, 1, 5, 1, 6, 2, 0, 2, 0, 0, 2, 3, 4, 9, 0, 8, 6, 5, 8, 5, 0, 2, 7, 4, 4, 2, 1, 3, 4, 4, 5, 3, 8, 0, 1, 2, 0, 1, 8, 7, 0, 4, 3, 2, 2, 2, 3, 0, 3, 9, 3, 0, 3, 4, 9, 8, 7, 8, 4, 7, 9, 7, 6, 9, 6, 4, 7, 6, 1, 1, 6, 2, 7, 9, 5, 3, 1, 9, 0, 2, 9, 9, 7, 6, 7, 3, 7, 1, 4, 7, 7, 6, 1, 0, 5, 0, 7, 5, 4, 0, 8, 9, 2, 0, 0, 9, 0, 8, 8, 6, 2, 4, 7, 5, 3, 8, 0, 1, 4, 7, 4, 4, 5, 6, 9, 4, 9, 6, 3, 4, 9, 1, 1, 9, 1, 5, 4, 1, 8, 5, 2, 6, 3, 4, 6, 0, 6, 4, 4, 3, 3, 4, 4, 2, 8, 4, 0, 6, 8, 3, 7, 9, 6, 5, 4, 9, 3, 2, 5, 1, 3, 0, 9, 3, 0, 6, 2, 1, 8, 6, 2, 6, 5, 8, 7, 2, 4, 1, 9, 9, 7, 0, 6, 8, 3, 9, 0, 4, 4, 3, 8, 0, 0, 6, 7, 1, 1, 4, 9, 9, 8, 4, 8, 1, 0, 2, 5, 7, 4, 7, 6, 3, 7, 8, 2, 1, 3, 6, 8, 9, 6, 4, 5, 1, 2, 3, 1, 7, 6, 7, 9, 5, 3, 2, 9, 4, 3, 2, 8, 8, 0, 2, 7, 4, 6, 3, 3, 2, 3, 3, 0, 9, 4, 8, 5, 6, 6, 3, 8, 7, 1, 4, 0, 8, 5, 1, 0, 7, 1, 4, 2, 5, 4, 3, 6, 2, 3, 6, 5, 3, 2, 1, 3, 1, 9, 9, 4, 6, 9, 8, 0, 9, 2, 0, 3, 5, 9, 5, 9, 0, 2, 9, 4, 9, 3, 4, 8, 9, 3, 4, 0, 5, 1, 9, 1, 5, 2, 1, 2, 3, 9, 6, 2, 4, 6, 6, 0, 9, 1, 3, 7, 7, 4, 6, 8, 2, 1, 8, 3, 1, 2, 6, 2, 1, 0, 0, 6, 2, 5, 4, 6, 2, 8, 8, 8, 8, 7, 0, 6, 2, 9, 1, 1, 1, 6, 7, 2, 7, 8, 0, 5, 2, 0, 6, 2, 3, 8, 4, 0, 7, 1, 4, 6, 4, 0, 2, 3, 8, 7, 8, 6, 7, 1, 0, 3, 0, 9, 2, 3, 2, 8, 0, 5, 0, 3, 6, 1, 4, 9, 1, 5, 2, 3, 0, 7, 2, 9, 2, 6, 7, 9, 4, 3, 7, 3, 0, 4, 9, 6, 9, 9, 4, 5, 3, 3, 4, 1, 8, 8, 1, 4, 8, 7, 4, 3, 8, 4, 8, 6, 4, 3, 4, 8, 5, 6, 8, 7, 5, 3, 8, 7, 9, 3, 0, 0, 5, 3, 9, 8, 9, 3, 2, 7, 1, 0, 7, 1, 1, 7, 7, 0, 0, 5, 1, 8, 7, 7, 4, 2, 4, 7, 5, 0, 8, 9, 7, 9, 5, 0, 7, 0, 7, 7, 8, 3, 3, 4, 5, 1, 6, 9, 7, 1, 2, 2, 9, 6, 6, 1, 4, 2, 0, 5, 1, 1, 6, 5, 6, 3, 7, 7, 2, 7, 6, 9, 5, 3, 1, 1, 6, 4, 3, 6, 1, 4, 8, 4, 1, 6, 1, 9, 7, 7, 7, 1, 7, 9, 3, 7, 4, 6, 7, 7, 3, 7, 6, 2, 8, 8, 9, 3, 3, 4, 3, 2, 1, 9, 0, 7, 3, 5, 1, 5, 9, 0, 4, 2, 1, 6, 6, 3, 9, 0, 8, 4, 9, 9, 7, 8, 1, 8, 0, 9, 7, 1, 9, 2, 5, 1, 3, 0, 2, 7, 6, 2, 3, 9, 7, 2, 7, 0, 7, 7, 6, 0, 6, 8, 4, 7, 5, 3, 2, 3, 2, 2, 3, 4, 4, 4, 7, 4, 0, 7, 9, 6, 2, 3, 2, 5, 3, 9, 8, 6, 7, 5, 0, 6, 7, 8, 0, 2, 7, 9, 2, 5, 5, 3, 4, 5, 7, 1, 3, 5, 3, 8, 0, 0, 2, 4, 1, 7, 4, 8, 3, 1, 5, 2, 6, 8, 3, 5, 8, 0, 5, 6, 1, 5, 4, 3, 6, 6, 8, 0, 5, 4, 0, 6, 0, 5, 9, 3, 3, 0, 1, 7, 2, 2, 2, 8, 9, 0, 8, 0, 9, 8, 2, 9, 4, 3, 2, 9, 2, 9, 4, 1, 7, 2, 1, 3, 3, 7, 1, 1, 7, 7, 9, 9, 3, 3, 8, 3, 5, 1, 4, 6, 9, 4, 0, 3, 6, 3, 6, 6, 2, 9, 9, 9, 7, 8, 6, 6, 0, 9, 1, 3, 1, 4, 6, 2, 0, 2, 2, 2, 8, 3, 3, 0, 1, 0, 1, 7, 6, 9, 4, 9, 9, 4, 7, 8, 9, 7, 9, 6, 3, 9, 5, 0, 8, 7, 0, 6, 8, 1, 5, 7, 5, 4, 7, 8, 8, 3, 3, 2, 3, 6, 3, 8, 5, 5, 2, 5, 2, 4, 2, 9, 3, 9, 9, 2, 6, 9, 6, 0, 0, 9, 0, 8, 2, 1, 7, 6, 2, 0, 1, 6, 2, 3, 8, 9, 1, 2, 5, 8, 2, 0, 7, 7, 1, 1, 0, 8, 6, 7, 4, 4, 7, 3, 2, 0, 5, 4, 2, 7, 7, 1, 3, 4, 1, 3, 6, 3, 6, 6, 9, 5, 2, 4, 5, 1, 3, 6, 4, 6, 2, 0, 2, 7, 1, 9, 8, 2, 4, 6, 6, 3, 6, 8, 2, 3, 6, 1, 8, 7, 3, 6, 6, 5, 7, 0, 2, 1, 3, 7, 9, 4, 3, 9, 2, 7, 1, 3, 2, 0, 3, 3, 9, 0, 4, 0, 6, 9, 5, 3, 7, 4, 5, 0, 1, 5, 0, 4, 2, 3, 4, 0, 1, 0, 5, 8, 4, 0, 3, 5, 8, 6, 9, 4, 4, 7, 4, 3, 5, 0, 9, 2, 3, 6, 9, 8, 2, 5, 8, 7, 0, 2, 2, 5, 6, 7, 2, 2, 5, 1, 8, 5, 7, 2, 2, 7, 3, 7, 7, 6, 6, 4, 4, 1, 5, 8, 9, 0, 8, 8, 2, 3, 6, 2, 9, 8, 0, 2, 0, 5, 4, 8, 7, 4, 6, 6, 2, 9, 2, 2, 6, 2, 4, 0, 7, 6, 2, 1, 2, 6, 4, 4, 5, 2, 6, 7, 9, 6, 2, 4, 9, 8, 2, 4, 9, 6, 0, 8, 1, 0, 9, 8, 6, 4, 3, 8, 4, 7, 5, 1, 9, 1, 4, 3, 0, 4, 8, 0, 9, 0, 0, 3, 2, 7, 1, 4, 2, 8, 4, 9, 8, 4, 3, 1, 0, 3, 2, 4, 2, 2, 7, 9, 4, 1, 4, 2, 3, 9, 8, 2, 9, 1, 6, 6, 9, 6, 1, 4, 0, 9, 9, 3, 9, 6, 8, 4, 0, 7, 0, 0, 2, 8, 9, 1, 1, 3, 7, 0, 6, 7, 7, 0, 0, 6, 0, 3, 9, 5, 6, 6, 1, 7, 6, 3, 9, 1, 7, 8, 0, 4, 3, 8, 0, 1, 0, 7, 3, 0, 6, 2, 8, 2, 8, 4, 9, 6, 3, 9, 3, 9, 7, 1, 3, 2, 6, 2, 5, 5, 2, 9, 6, 8, 6, 7, 0, 8, 9, 4, 0, 2, 1, 5, 1, 6, 8, 1, 0, 2, 5, 2, 9, 8, 5, 3, 6, 8, 7, 2, 1, 8, 3, 8, 0, 4, 8, 0, 9, 5, 0, 2, 6, 0, 2, 6, 3, 3, 6, 2, 8, 1, 7, 6, 8, 1, 2, 9, 5, 6, 0, 0, 1, 8, 2, 0, 7, 9, 9, 2, 0, 4, 7, 0, 6, 0, 3, 1, 8, 2, 2, 6, 2, 7, 6, 0, 0, 5, 1, 6, 3, 7, 8, 1, 5, 5, 2, 0, 6, 4, 5, 4, 3, 7, 7, 1, 5, 8, 1, 8, 3, 3, 6, 8, 5, 0, 9, 8, 6, 2, 5, 1, 5, 0, 9, 8, 0, 3, 5, 8, 2, 0, 0, 5, 2, 2, 8, 3, 1, 3, 5, 8, 1, 0, 6, 8, 3, 1, 6, 0, 0, 2, 1, 8, 2, 6, 9, 6, 3, 7, 5, 3, 7, 2, 1, 9, 9, 0, 0, 3, 6, 2, 6, 9, 2, 1, 4, 3, 0, 3, 1, 8, 7, 8, 7, 1, 3, 5, 1, 1, 4, 2, 3, 4, 9, 2, 0, 1, 5, 3, 1, 4, 0, 6, 0, 7, 1, 7, 1, 2, 7, 4, 0, 9, 6, 2, 6, 3, 2, 6, 7, 5, 1, 0, 4, 3, 5, 0, 1, 4, 3, 1, 3, 5, 5, 7, 6, 9, 6, 7, 5, 6, 9, 8, 5, 1, 3, 0, 6, 7, 8, 7, 6, 7, 4, 7, 6, 3, 7, 3, 6, 1, 8, 2, 7, 8, 7, 9, 4, 1, 8, 8, 7, 3, 8, 8, 5, 0, 2, 7, 8, 9, 9, 7, 7, 2, 3, 1, 4, 8, 5, 9, 0, 4, 6, 1, 5, 3, 8, 3, 0, 1, 8, 1, 4, 6, 8, 7, 2, 8, 0, 5, 3, 4, 6, 3, 0, 2, 9, 4, 9, 1, 5, 1, 0, 2, 4, 4, 1, 2, 4, 5, 5, 9, 9, 2, 2, 2, 4, 4, 9, 6, 2, 5, 2, 2, 0, 2, 7, 9, 5, 0, 7, 0, 8, 0, 1, 7, 8, 2, 9, 4, 0, 8, 9, 4, 9, 3, 5, 0, 3, 3, 8, 0, 7, 0, 6, 7, 2, 0, 3, 6, 2, 1, 8, 6, 0, 1, 3, 8, 0, 3, 6, 3, 8, 1, 1, 2, 6, 8, 8, 9, 4, 9, 5, 7, 9, 6, 6, 4, 9, 0, 4, 0, 1, 3, 0, 0, 5, 4, 7, 2, 1, 6, 7, 2, 2, 1, 8, 8, 8, 9, 6, 2, 9, 9, 7, 4, 0, 9, 6, 8, 3, 4, 9, 7, 9, 5, 4, 7, 0, 4, 6, 4, 4, 4, 9, 7, 7, 8, 0, 0, 5, 6, 7, 2, 1, 3, 9, 8, 0, 1, 3, 8, 4, 3, 1, 2, 8, 4, 4, 5, 1, 4, 0, 3, 8, 8, 7, 1, 1, 6, 8, 2, 8, 6, 3, 4, 5, 9, 4, 2, 3, 1, 2, 0, 8, 3, 5, 8, 5, 2, 2, 3, 0, 1, 1, 4, 8, 2, 2, 6, 0, 6, 5, 8, 4, 3, 3, 3, 2, 9, 5, 7, 4, 7, 2, 5, 9, 5, 4, 7, 8, 4, 3, 2, 3, 6, 9, 2, 6, 3, 4, 4, 6, 1, 9, 5, 5, 2, 2, 9, 0, 8, 7, 8, 0, 8, 6, 2, 5, 5, 0, 5, 4, 2, 6, 0, 9, 8, 5, 9, 6, 1, 9, 3, 7, 1, 3, 7, 4, 1, 1, 9, 6, 9, 5, 8, 0, 8, 5, 3, 8, 0, 1, 4, 8, 6, 6, 9, 5, 8, 0, 7, 3, 4, 9, 2, 9, 4, 3, 1, 0, 8, 5, 3, 2, 4, 5, 2, 1, 3, 8, 8, 4, 9, 7, 9, 5, 7, 0, 7, 7, 8, 8, 8, 7, 1, 2, 0, 0, 0, 7, 6, 6, 8, 6, 1, 3, 0, 2, 6, 3, 6, 8, 0, 5, 6, 3, 0, 2, 7, 9, 0, 1, 4, 3, 5, 5, 1, 9, 5, 4, 4, 2, 0, 1, 7, 6, 6, 7, 0, 6, 4, 9, 8, 8, 9, 3, 3, 1, 0, 4, 4, 7, 0, 5, 7, 6, 7, 8, 1, 3, 4, 6, 7, 0, 4, 3, 2, 5, 3, 7, 3, 7, 1, 9, 1, 3, 4, 0, 1, 7, 4, 2, 4, 3, 5, 4, 0, 6, 2, 2, 6, 9, 3, 3, 9, 9, 8, 1, 5, 1, 7, 0, 3, 1, 9, 2, 8, 4, 8, 2, 1, 7, 0, 0, 1, 8, 7, 4, 9, 9, 7, 0, 5, 1, 5, 8, 6, 8, 5, 6, 5, 6, 1, 1, 9, 6, 4, 3, 6, 8, 8, 5, 3, 9, 7, 2, 7, 1, 5, 9, 1, 3, 9, 5, 0, 4, 6, 3, 5, 3, 3, 6, 1, 3, 2, 3, 2, 2, 6, 2, 0, 1, 2, 7, 8, 5, 6, 2, 8, 4, 6, 8, 8, 8, 2, 9, 8, 7, 1, 6, 7, 3, 7, 7, 4, 0, 1, 3, 3, 2, 0, 0, 5, 4, 7, 8, 6, 8, 7, 8, 4, 3, 3, 1, 3, 2, 5, 6, 0, 3, 5, 0, 3, 7, 7, 8, 6, 3, 6, 9, 5, 9, 2, 1, 2, 3, 5, 2, 2, 2, 1, 3, 3, 5, 8, 7, 9, 3, 4, 2, 7, 1, 7, 8, 2, 2, 3, 9, 5, 5, 7, 7, 3, 9, 0, 5, 5, 8, 6, 9, 3, 6, 5, 9, 2, 0, 7, 9, 7, 7, 1, 2, 0, 3, 2, 8, 0, 3, 3, 6, 3, 0, 5, 2, 6, 6, 7, 8, 0, 1, 8, 7, 1, 2, 9, 2, 5, 7, 6, 3, 6, 7, 0, 4, 5, 1, 9, 4, 6, 0, 5, 8, 4, 0, 4, 3, 3, 1, 5, 1, 5, 1, 2, 1, 0, 9, 6, 7, 5, 9, 9, 2, 4, 4, 7, 5, 6, 3, 9, 0, 4, 4, 0, 8, 5, 8, 1, 5, 5, 5, 7, 8, 5, 0, 7, 0, 4, 4, 4, 5, 6, 4, 2, 8, 2, 6, 8, 1, 2, 3, 8, 9, 8, 3, 9, 9, 6, 7, 1, 2, 7, 7, 3, 3, 1, 1, 9, 7, 2, 1, 8, 1, 2, 7, 8, 5, 0, 4, 3, 2, 8, 4, 3, 3, 2, 9, 0, 7, 7, 1, 9, 0, 4, 2, 2, 8, 9, 4, 3, 7, 4, 2, 3, 4, 0, 5, 3, 3, 0, 1, 2, 5, 0, 2, 5, 7, 2, 7, 8, 7, 4, 9, 1, 5, 0, 8, 2, 9, 2, 1, 0, 1, 2, 6, 9, 2, 8, 3, 5, 3, 5, 9, 1, 4, 7, 1, 8, 1, 8, 8, 9, 4, 6, 1, 9, 9, 3, 4, 1, 2, 2, 3, 5, 9, 0, 7, 2, 8, 2, 9, 9, 9, 9, 0, 7, 8, 2, 3, 3, 1, 9, 9, 8, 8, 3, 5, 1, 2, 1, 7, 2, 0, 7, 3, 8, 1, 7, 0, 6, 4, 0, 8, 1, 8, 7, 7, 4, 7, 3, 0, 9, 6, 7, 5, 9, 7, 4, 6, 2, 8, 6, 7, 1, 3, 7, 0, 3, 1, 4, 7, 5, 2, 0, 4, 4, 9, 7, 4, 9, 0, 9, 0, 2, 1, 6, 6, 3, 6, 4, 9, 2, 2, 3, 1, 1, 0, 7, 1, 2, 7, 9, 0, 4, 0, 6, 7, 1, 0, 9, 1, 5, 0, 8, 4, 8, 1, 0, 5, 0, 3, 6, 0, 0, 8, 2, 7, 6, 0, 8, 5, 5, 2, 6, 9, 4, 2, 0, 9, 3, 8, 1, 0, 6, 7, 2, 7, 0, 3, 1, 9, 3, 1, 9, 7, 3, 0, 6, 4, 2, 2, 5, 3, 7, 8, 8, 5, 7, 4, 2, 7, 4, 4, 0, 3, 8, 9, 9, 2, 8, 8, 8, 0, 3, 1, 1, 1, 0, 9, 0, 4, 1, 7, 4, 7, 6, 1, 1, 4, 3, 7, 1, 5, 6, 9, 5, 8, 9, 3, 2, 9, 1, 3, 3, 9, 6, 3, 6, 7, 9, 1, 7, 3, 2, 5, 2, 9, 7, 2, 6, 2, 8, 6, 5, 7, 7, 3, 5, 8, 0, 0, 4, 2, 2, 5, 1, 9, 5, 9, 6, 5, 0, 8, 3, 3, 7, 6, 1, 8, 3, 8, 8, 0, 8, 4, 0, 7, 8, 6, 1, 4, 6, 5, 0, 4, 9, 7, 1, 9, 6, 6, 6, 5, 4, 8, 8, 7, 2, 4, 5, 7, 5, 0, 0, 0, 8, 0, 7, 7, 0, 2, 6, 9, 3, 9, 3, 7, 2, 9, 7, 5, 9, 5, 9, 9, 0, 7, 5, 8, 4, 5, 8, 7, 8, 9, 1, 2, 2, 7, 7, 4, 7, 0, 6, 3, 9, 7, 2, 0, 0, 1, 2, 9, 1, 8, 4, 0, 6, 4, 9, 5, 3, 0, 2, 0, 1, 4, 9, 8, 0, 5, 7, 5, 4, 0, 0, 2, 4, 2, 1, 8, 3, 9, 0, 1, 0, 8, 7, 6, 5, 0, 5, 6, 1, 0, 0, 0, 7, 0, 3, 7, 7, 3, 7, 7, 8, 4, 4, 8, 3, 3, 0, 6, 4, 1, 0, 0, 2, 3, 2, 1, 1, 7, 3, 7, 6, 8, 6, 3, 4, 6, 4, 4, 3, 3, 4, 2, 3, 1, 3, 8, 5, 1, 2, 4, 0, 3, 6, 2, 7, 1, 2, 9, 0, 6, 8, 2, 4, 1, 3, 9, 7, 6, 0, 4, 5, 8, 3, 7, 2, 3, 4, 4, 8, 4, 6, 2, 1, 7, 9, 3, 8, 1, 2, 8, 3, 5, 1, 6, 9, 0, 9, 4, 3, 1, 0, 7, 0, 5, 3, 7, 5, 6, 9, 9, 4, 6, 0, 8, 9, 7, 9, 7, 1, 7, 1, 2, 6, 7, 8, 0, 8, 2, 5, 9, 7, 7, 2, 6, 0, 2, 6, 6, 1, 0, 0, 2, 4, 9, 8, 4, 6, 8, 0, 2, 8, 4, 9, 7, 4, 1, 1, 7, 4, 1, 5, 7, 6, 2, 2, 3, 0, 7, 4, 0, 7, 2, 6, 0, 3, 6, 1, 2, 3, 3, 5, 7, 0, 5, 6, 2, 3, 6, 1, 4, 4, 0, 9, 8, 9, 8, 7, 4, 8, 4, 3, 9, 7, 8, 3, 8, 3, 6, 7, 3, 0, 1, 2, 3, 8, 2, 0, 8, 0, 3, 4, 2, 2, 3, 4, 0, 7, 3, 2, 2, 5, 4, 5, 1, 0, 5, 9, 6, 1, 5, 0, 7, 6, 4, 2, 5, 3, 7, 9, 3, 9, 1, 8, 1, 6, 2, 3, 4, 8, 0, 9, 1, 9, 4, 4, 6, 2, 6, 0, 5, 2, 0, 8, 7, 8, 9, 9, 0, 7, 7, 3, 2, 6, 0, 2, 6, 3, 5, 2, 1, 1, 1, 0, 1, 0, 8, 0, 6, 6, 4, 2, 8, 1, 9, 3, 9, 7, 8, 8, 4, 6, 2, 1, 7, 6, 8, 0, 7, 7, 5, 7, 2, 4, 3, 3, 6, 7, 6, 5, 9, 2, 9, 4, 4, 1, 0, 1, 4, 5, 4, 4, 6, 8, 5, 2, 3, 5, 2, 8, 5, 5, 3, 0, 8, 3, 3, 3, 9, 0, 3, 0, 3, 0, 3, 2, 9, 7, 5, 4, 7, 2, 4, 0, 1, 0, 6, 3, 0, 2, 8, 1, 3, 5, 5, 8, 9, 2, 7, 1, 6, 4, 6, 7, 2, 0, 4, 9, 6, 1, 8, 0, 4, 9, 5, 1, 6, 1, 1, 0, 9, 5, 9, 7, 9, 1, 0, 0, 0, 1, 7, 5, 8, 9, 7, 9, 9, 4, 6, 7, 7, 3, 6, 8, 0, 2, 0, 3, 1, 6, 2, 9, 6, 1, 8, 8, 1, 2, 8, 6, 1, 2, 2, 5, 2, 6, 0, 1, 9, 7, 5, 7, 3, 1, 6, 1, 0, 7, 5, 4, 2, 7, 3, 7, 3, 6, 4, 9, 5, 5, 1, 4, 6, 3, 9, 7, 8, 1, 8, 5, 7, 0, 6, 8, 5, 2, 5, 4, 1, 5, 4, 7, 5, 8, 3, 2, 1, 9, 2, 2, 5, 6, 1, 4, 2, 1, 1, 8, 1, 4, 7, 8, 3, 6, 8, 1, 5, 3, 9, 2, 9, 2, 5, 0, 4, 2, 1, 8, 4, 5, 0, 1, 6, 5, 5, 8, 2, 2, 9, 0, 2, 3, 8, 2, 8, 8, 4, 7, 2, 6, 7, 4, 4, 1, 5, 7, 9, 2, 6, 1, 0, 7, 1, 0, 9, 3, 7, 6, 7, 7, 2, 6, 7, 4, 3, 1, 7, 0, 5, 6, 7, 6, 6, 5, 7, 3, 4, 6, 0, 0, 6, 4, 2, 1, 4, 6, 3, 0, 9, 9, 5, 4, 2, 6, 0, 2, 4, 0, 1, 1, 0, 9, 9, 1, 1, 9, 9, 2, 4, 1, 6, 8, 3, 1, 8, 7, 2, 9, 8, 8, 0, 7, 9, 7, 2, 4, 1, 6, 9, 4, 8, 3, 6, 1, 3, 2, 3, 7, 5, 4, 3, 4, 2, 0, 7, 1, 6, 8, 1, 8, 1, 3, 0, 1, 0, 4, 8, 4, 5, 5, 2, 1, 8, 3, 8, 7, 8, 4, 2, 3, 6, 4, 5, 3, 1, 8, 0, 2, 7, 3, 7, 8, 5, 7, 6, 6, 3, 8, 5, 7, 1, 9, 6, 0, 5, 0, 2, 7, 9, 7, 8, 5, 5, 2, 1, 8, 7, 1, 7, 3, 5, 0, 0, 9, 6, 7, 6, 6, 2, 4, 9, 8, 6, 6, 2, 5, 8, 9, 5, 6, 2, 7, 1, 7, 8, 5, 3, 1, 3, 8, 9, 6, 4, 9, 1, 8, 0, 8, 6, 2, 4, 9, 2, 1, 7, 6, 3, 1, 7, 7, 0, 8, 3, 4, 7, 2, 9, 5, 1, 0, 7, 6, 7, 8, 4, 5, 3, 0, 8, 2, 8, 0, 5, 0, 5, 0, 1, 9, 2, 3, 7, 3, 9, 9, 5, 8, 7, 0, 2, 9, 3, 3, 2, 6, 6, 8, 7, 7, 0, 9, 1, 7, 3, 3, 7, 5, 6, 0, 4, 9, 8, 2, 3, 4, 3, 3, 4, 3, 4, 5, 9, 1, 4, 0, 2, 7, 5, 3, 1, 6, 1, 8, 4, 8, 7, 5, 2, 5, 1, 7, 9, 8, 0, 5, 7, 4, 8, 2, 5, 9, 3, 4, 5, 6, 7, 5, 9, 8, 3, 7, 7, 3, 2, 8, 1, 2, 0, 1, 7, 0, 4, 1, 5, 0, 1, 4, 3, 1, 9, 4, 4, 5, 4, 5, 8, 0, 5, 0, 0, 9, 3, 2, 5, 9, 7, 4, 8, 7, 8, 0, 9, 4, 3, 3, 0, 7, 6, 6, 8, 8, 2, 1, 4, 9, 6, 9, 7, 5, 0, 4, 2, 9, 2, 8, 6, 6, 8, 3, 2, 0, 9, 1, 5, 3, 1, 0, 4, 9, 5, 9, 6, 3, 0, 9, 6, 7, 2, 7, 3, 0, 3, 3, 1, 8, 7, 2, 8, 7, 7, 0, 0, 6, 2, 8, 1, 0, 5, 9, 2, 5, 9, 2, 4, 0, 4, 0, 8, 4, 3, 1, 6, 4, 4, 1, 0, 9, 8, 8, 1, 1, 9, 8, 6, 4, 1, 8, 8, 1, 5, 1, 6, 3, 3, 5, 5, 4, 1, 2, 3, 6, 3, 8, 6, 1, 3, 4, 7, 7, 1, 5, 7, 3, 0, 6, 3, 4, 8, 2, 8, 6, 7, 5, 8, 8, 3, 2, 1, 6, 9, 8, 9, 0, 9, 1, 5, 9, 4, 6, 2, 2, 2, 5, 1, 9, 4, 0, 1, 1, 3, 4, 0, 6, 9, 8, 6, 7, 2, 4, 0, 6, 8, 0, 2, 5, 1, 5, 4, 4, 7, 1, 1, 0, 7, 7, 0, 9, 9, 1, 6, 5, 9, 1, 9, 6, 7, 9, 9, 2, 8, 2, 5, 0, 1, 1, 3, 1, 7, 2, 3, 3, 9, 1, 9, 3, 4, 0, 3, 3, 5, 0, 4, 8, 0, 3, 6, 0, 1, 9, 3, 1, 1, 0, 4, 5, 2, 2, 9, 6, 7, 6, 1, 9, 7, 9, 7, 3, 9, 2]\n"
     ]
    }
   ],
   "source": [
    "print(l)"
   ]
  },
  {
   "cell_type": "code",
   "execution_count": 67,
   "metadata": {},
   "outputs": [],
   "source": [
    "import os"
   ]
  },
  {
   "cell_type": "code",
   "execution_count": 68,
   "metadata": {},
   "outputs": [],
   "source": [
    "submission=pd.DataFrame({'ImageId':l1, 'Label':l})"
   ]
  },
  {
   "cell_type": "code",
   "execution_count": 69,
   "metadata": {},
   "outputs": [
    {
     "data": {
      "text/html": [
       "<div>\n",
       "<style scoped>\n",
       "    .dataframe tbody tr th:only-of-type {\n",
       "        vertical-align: middle;\n",
       "    }\n",
       "\n",
       "    .dataframe tbody tr th {\n",
       "        vertical-align: top;\n",
       "    }\n",
       "\n",
       "    .dataframe thead th {\n",
       "        text-align: right;\n",
       "    }\n",
       "</style>\n",
       "<table border=\"1\" class=\"dataframe\">\n",
       "  <thead>\n",
       "    <tr style=\"text-align: right;\">\n",
       "      <th></th>\n",
       "      <th>ImageId</th>\n",
       "      <th>Label</th>\n",
       "    </tr>\n",
       "  </thead>\n",
       "  <tbody>\n",
       "    <tr>\n",
       "      <th>0</th>\n",
       "      <td>1</td>\n",
       "      <td>2</td>\n",
       "    </tr>\n",
       "    <tr>\n",
       "      <th>1</th>\n",
       "      <td>2</td>\n",
       "      <td>0</td>\n",
       "    </tr>\n",
       "    <tr>\n",
       "      <th>2</th>\n",
       "      <td>3</td>\n",
       "      <td>9</td>\n",
       "    </tr>\n",
       "    <tr>\n",
       "      <th>3</th>\n",
       "      <td>4</td>\n",
       "      <td>9</td>\n",
       "    </tr>\n",
       "    <tr>\n",
       "      <th>4</th>\n",
       "      <td>5</td>\n",
       "      <td>3</td>\n",
       "    </tr>\n",
       "  </tbody>\n",
       "</table>\n",
       "</div>"
      ],
      "text/plain": [
       "   ImageId  Label\n",
       "0        1      2\n",
       "1        2      0\n",
       "2        3      9\n",
       "3        4      9\n",
       "4        5      3"
      ]
     },
     "execution_count": 69,
     "metadata": {},
     "output_type": "execute_result"
    }
   ],
   "source": [
    "submission.head(5)"
   ]
  },
  {
   "cell_type": "code",
   "execution_count": 70,
   "metadata": {},
   "outputs": [],
   "source": [
    "submission_data_path=os.path.join(os.path.pardir,'Digit Recognition')\n",
    "submission_file_path=os.path.join(submission_data_path,'Kaggle Submission.csv')"
   ]
  },
  {
   "cell_type": "code",
   "execution_count": 71,
   "metadata": {},
   "outputs": [],
   "source": [
    "submission.to_csv(submission_file_path,index=False)"
   ]
  },
  {
   "cell_type": "code",
   "execution_count": 72,
   "metadata": {},
   "outputs": [],
   "source": [
    "dat=pd.read_csv('Kaggle Submission.csv')"
   ]
  },
  {
   "cell_type": "code",
   "execution_count": 73,
   "metadata": {},
   "outputs": [
    {
     "data": {
      "text/html": [
       "<div>\n",
       "<style scoped>\n",
       "    .dataframe tbody tr th:only-of-type {\n",
       "        vertical-align: middle;\n",
       "    }\n",
       "\n",
       "    .dataframe tbody tr th {\n",
       "        vertical-align: top;\n",
       "    }\n",
       "\n",
       "    .dataframe thead th {\n",
       "        text-align: right;\n",
       "    }\n",
       "</style>\n",
       "<table border=\"1\" class=\"dataframe\">\n",
       "  <thead>\n",
       "    <tr style=\"text-align: right;\">\n",
       "      <th></th>\n",
       "      <th>ImageId</th>\n",
       "      <th>Label</th>\n",
       "    </tr>\n",
       "  </thead>\n",
       "  <tbody>\n",
       "    <tr>\n",
       "      <th>0</th>\n",
       "      <td>1</td>\n",
       "      <td>2</td>\n",
       "    </tr>\n",
       "    <tr>\n",
       "      <th>1</th>\n",
       "      <td>2</td>\n",
       "      <td>0</td>\n",
       "    </tr>\n",
       "    <tr>\n",
       "      <th>2</th>\n",
       "      <td>3</td>\n",
       "      <td>9</td>\n",
       "    </tr>\n",
       "    <tr>\n",
       "      <th>3</th>\n",
       "      <td>4</td>\n",
       "      <td>9</td>\n",
       "    </tr>\n",
       "    <tr>\n",
       "      <th>4</th>\n",
       "      <td>5</td>\n",
       "      <td>3</td>\n",
       "    </tr>\n",
       "  </tbody>\n",
       "</table>\n",
       "</div>"
      ],
      "text/plain": [
       "   ImageId  Label\n",
       "0        1      2\n",
       "1        2      0\n",
       "2        3      9\n",
       "3        4      9\n",
       "4        5      3"
      ]
     },
     "execution_count": 73,
     "metadata": {},
     "output_type": "execute_result"
    }
   ],
   "source": [
    "dat.head(5)"
   ]
  },
  {
   "cell_type": "code",
   "execution_count": 74,
   "metadata": {},
   "outputs": [
    {
     "name": "stdout",
     "output_type": "stream",
     "text": [
      "<class 'pandas.core.frame.DataFrame'>\n",
      "RangeIndex: 28000 entries, 0 to 27999\n",
      "Data columns (total 2 columns):\n",
      "ImageId    28000 non-null int64\n",
      "Label      28000 non-null int64\n",
      "dtypes: int64(2)\n",
      "memory usage: 437.6 KB\n"
     ]
    }
   ],
   "source": [
    "dat.info()"
   ]
  },
  {
   "cell_type": "code",
   "execution_count": null,
   "metadata": {},
   "outputs": [],
   "source": []
  }
 ],
 "metadata": {
  "kernelspec": {
   "display_name": "Python 3",
   "language": "python",
   "name": "python3"
  },
  "language_info": {
   "codemirror_mode": {
    "name": "ipython",
    "version": 3
   },
   "file_extension": ".py",
   "mimetype": "text/x-python",
   "name": "python",
   "nbconvert_exporter": "python",
   "pygments_lexer": "ipython3",
   "version": "3.6.6"
  }
 },
 "nbformat": 4,
 "nbformat_minor": 2
}
